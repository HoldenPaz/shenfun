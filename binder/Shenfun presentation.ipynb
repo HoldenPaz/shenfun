{
 "cells": [
  {
   "cell_type": "markdown",
   "metadata": {
    "slideshow": {
     "slide_type": "slide"
    }
   },
   "source": [
    "# Shenfun - High-Performance Computing platform for the Spectral Galerkin method\n",
    "\n",
    "<center>\n",
    "\n",
    "<div><img src=\"Chebyshev_Polynomials_of_the_First_Kind.svg\" width=\"300\"></div>\n",
    "\n",
    "<div class=\"sl-block\" style=\"height: auto; width: 600px;\">\n",
    "    <div>\n",
    "        <p><center style=\"font-size:1.2em\">Professor Mikael Mortensen</p>\n",
    "        <p><center>Department of Mathematics, University of Oslo</p>\n",
    "        <p><center>Presented at the International Conference on Scientific Computing and Applications (ICSCA), Xiamen, China, 29/5 - 2019</p>\n",
    "    </div>\n",
    "</div>"
   ]
  },
  {
   "cell_type": "markdown",
   "metadata": {
    "slideshow": {
     "slide_type": "slide"
    }
   },
   "source": [
    "# Shenfun - facts\n",
    "\n",
    "1. Shenfun is named in honour of Professor Jie Shen:-) \n",
    "2. Shenfun is a high performance computing platform for solving partial differential equations (PDEs) by the spectral Galerkin method (with numerical integration).\n",
    "3. Shenfun has been run with 65,000 processors on a Cray XC40.\n",
    "4. Shenfun is a Python package originally developed for pseudo-spectral turbulence simulations.\n",
    "\n",
    "<img src=\"RB_200k_small.png\" style=\"float:left\" width=\"300\"> <img src=\"isotropic_cropped.gif\" style=\"float:right\" width=\"200\"> \n",
    "<p style=\"clear: both;\">"
   ]
  },
  {
   "cell_type": "markdown",
   "metadata": {
    "slideshow": {
     "slide_type": "slide"
    }
   },
   "source": [
    "# Python is a scripting language\n",
    "<p style=\"margin-bottom:1cm;\">\n",
    "\n",
    "No compilation - just execute. Much like MATLAB.\n",
    "\n",
    "In this presentation this is a Python terminal:"
   ]
  },
  {
   "cell_type": "code",
   "execution_count": null,
   "metadata": {
    "slideshow": {
     "slide_type": "fragment"
    }
   },
   "outputs": [],
   "source": []
  },
  {
   "cell_type": "markdown",
   "metadata": {
    "slideshow": {
     "slide_type": "fragment"
    }
   },
   "source": [
    "Inside the terminal any Python code can be executed. For example, import the `shenfun` module and execute `help(shenfun)` to get some information on the module:"
   ]
  },
  {
   "cell_type": "code",
   "execution_count": 1,
   "metadata": {
    "slideshow": {
     "slide_type": "fragment"
    }
   },
   "outputs": [
    {
     "name": "stdout",
     "output_type": "stream",
     "text": [
      "Help on package shenfun:\n",
      "\n",
      "NAME\n",
      "    shenfun - This is the **shenfun** package\n",
      "\n",
      "DESCRIPTION\n",
      "    What is **shenfun**?\n",
      "    ================================\n",
      "    \n",
      "    ``Shenfun`` is a high performance computing platform for solving partial\n",
      "    differential equations (PDEs) by the spectral Galerkin method. The user\n",
      "    interface to shenfun is very similar to\n",
      "    `FEniCS <https://fenicsproject.org>`_, but applications are limited to\n",
      "    multidimensional tensor product grids. The code is parallelized with MPI\n",
      "    through the `mpi4py-fft <https://bitbucket.org/mpi4py/mpi4py-fft>`_\n",
      "    package.\n",
      "    \n",
      "    ``Shenfun`` enables fast development of efficient and accurate PDE solvers\n",
      "    (spectral order and accuracy), in the comfortable high-level Python language.\n",
      "    The spectral accuracy is ensured from using high-order *global* orthogonal\n",
      "    basis functions (Fourier, Legendre and Chebyshev), as opposed to finite element\n",
      "    codes like `FEniCS <https://fenicsproject.org>`_ that are using low-order\n",
      "    *local* basis functions. Efficiency is ensured through vectorization\n",
      "    (`Numpy <https://www.numpy.org/>`_), parallelization\n",
      "    (`mpi4py <https://bitbucket.org/mpi4py/mpi4py>`_) and by moving critical\n",
      "    routines to `Cython <https://cython.org/>`_.\n",
      "\n",
      "PACKAGE CONTENTS\n",
      "    chebyshev (package)\n",
      "    forms (package)\n",
      "    fourier (package)\n",
      "    hermite (package)\n",
      "    io (package)\n",
      "    la\n",
      "    laguerre (package)\n",
      "    legendre (package)\n",
      "    matrixbase\n",
      "    optimization (package)\n",
      "    spectralbase\n",
      "    tensorproductspace\n",
      "    utilities (package)\n",
      "\n",
      "SUBMODULES\n",
      "    arguments\n",
      "    operators\n",
      "\n",
      "DATA\n",
      "    comm = <mpi4py.MPI.Intracomm object>\n",
      "\n",
      "VERSION\n",
      "    2.0.4\n",
      "\n",
      "AUTHOR\n",
      "    Mikael Mortensen\n",
      "\n",
      "FILE\n",
      "    /Users/mikaelmortensen/MySoftware/shenfun/shenfun/__init__.py\n",
      "\n",
      "\n"
     ]
    }
   ],
   "source": [
    "import shenfun\n",
    "help(shenfun)"
   ]
  },
  {
   "cell_type": "markdown",
   "metadata": {
    "slideshow": {
     "slide_type": "slide"
    }
   },
   "source": [
    "# Living presentation\n",
    "\n",
    "For your benefit I'm now in presentation mode. \n"
   ]
  },
  {
   "cell_type": "markdown",
   "metadata": {
    "slideshow": {
     "slide_type": "fragment"
    }
   },
   "source": [
    "However, this presentation is written with [jupyter](https://jupyter.org/) and if you open it in active mode, then all boxes like this "
   ]
  },
  {
   "cell_type": "code",
   "execution_count": null,
   "metadata": {
    "slideshow": {
     "slide_type": "fragment"
    }
   },
   "outputs": [],
   "source": []
  },
  {
   "cell_type": "markdown",
   "metadata": {
    "slideshow": {
     "slide_type": "fragment"
    }
   },
   "source": [
    "will be alive and ready to execute Python code. \n",
    "\n",
    "Open https://github.com/spectralDNS/shenfun/ and press the launch-binder button. Wait for binder to launch and choose the `Shenfun presentation.ipynb` file to get a live document.\n",
    "\n",
    "https://mybinder.org/v2/gh/spectralDNS/shenfun/master?filepath=binder\n"
   ]
  },
  {
   "cell_type": "markdown",
   "metadata": {
    "slideshow": {
     "slide_type": "slide"
    }
   },
   "source": [
    "# The Spectral Galerkin method\n",
    "\n",
    "\n",
    "<p style=\"margin-bottom:1cm;\">\n",
    "Approximates solutions $u(x)$ using global basis functions $\\phi_k(x)$\n",
    "\n",
    "  \n",
    "$$\n",
    "u(x) = \\sum_{k=0}^{N-1}\\hat{u}_k \\phi_k(x)\n",
    "$$\n"
   ]
  },
  {
   "cell_type": "markdown",
   "metadata": {
    "slideshow": {
     "slide_type": "fragment"
    }
   },
   "source": [
    "## Multidimensional problems\n",
    "<p style=\"margin-bottom:1cm;\">\n",
    "\n",
    "$$\n",
    "u(x, y) = \\sum_{k=0}^{N_0-1}\\sum_{l=0}^{N_1-1}\\hat{u}_{kl} \\phi_{kl}(x, y)\n",
    "$$\n",
    "\n",
    "$$\n",
    "u(x, y, z) = \\sum_{k=0}^{N_0-1}\\sum_{l=0}^{N_1-1} \\sum_{m=0}^{N_2-1}\\hat{u}_{klm} \\phi_{klm}(x, y, z)\n",
    "$$\n",
    "\n",
    "where $\\phi_{kl}(x, y)$ and $\\phi_{klm}(x, y, z)$ are outer products of (possibly different) basis functions. Like\n",
    "\n",
    "$$\n",
    "\\phi_{kl}(x, y) = T_k(x) L_l(y)\n",
    "$$"
   ]
  },
  {
   "cell_type": "markdown",
   "metadata": {
    "slideshow": {
     "slide_type": "slide"
    }
   },
   "source": [
    "# The Spectral Galerkin method\n",
    "\n",
    "solves PDEs, like Poisson's equation\n",
    "\n",
    "\\begin{align}\n",
    "\\nabla^2 u(x) &= f(x), \\quad x \\in [-1, 1] \\\\\n",
    "u(\\pm 1) &= 0\n",
    "\\end{align}\n"
   ]
  },
  {
   "cell_type": "markdown",
   "metadata": {
    "slideshow": {
     "slide_type": "fragment"
    }
   },
   "source": [
    "using variational forms: find $u \\in H^1_0$ such that \n",
    "\n",
    "$$(\\nabla^2u, v)_w^N = (f, v)_w^N \\quad \\forall v \\in H^1_0$$\n",
    "\n",
    "where $(u, v)_w^{N}$ is a weighted inner product."
   ]
  },
  {
   "cell_type": "markdown",
   "metadata": {
    "slideshow": {
     "slide_type": "subslide"
    }
   },
   "source": [
    "# Weighted inner products\n",
    "\n",
    "Tthe weighted inner product is defined as\n",
    "\n",
    "$$\n",
    " (u, v)_w = \\int_{\\Omega} u \\overline{v} w \\, \\mathbf{dx},\n",
    "$$\n",
    "\n",
    "where $w(\\mathbf{x})$ is a weight associated with the chosen basis (different bases have different weights), and $v(\\mathbf{x})$ and $u(\\mathbf{x})$ are test and trial functions, respectively. The overline represents a complex conjugate.\n",
    "\n",
    "Note that $\\Omega$ can be any tensor product domain spanned by the chosen 1D bases. For a 2D basis with Chebyshev in both directions $\\Omega=[-1, 1]^2$ and $\\mathbf{dx}=dxdy$. For mixed Chebyshev with Fourier it is $\\Omega=[-1, 1]\\times[0, 2\\pi]$. \n"
   ]
  },
  {
   "cell_type": "markdown",
   "metadata": {
    "slideshow": {
     "slide_type": "subslide"
    }
   },
   "source": [
    "# In Shenfun quadrature is used for the integrals\n",
    "\n",
    "1D with Chebyshev basis:\n",
    "$$\n",
    "\\int_{-1}^1 u v w \\, {dx} \\approx \\sum_{i=0}^{N-1} u(x_i) v(x_i) \\omega_i,\n",
    "$$\n",
    "\n",
    "where $\\{\\omega_i\\}_{i=0}^{N-1}$ are the quadrature weights associated with the chosen basis and quadrature rule. The associated quadrature points are denoted as $\\{x_i\\}_{i=0}^{N-1}$. For Chebyshev we can choose between `Chebyshev-Gauss` or `Chebyshev-Gauss-Lobatto`, whereas for Legendre the choices are `Legendre-Gauss` or `Legendre-Gauss-Lobatto`. \n",
    "\n",
    "2D with mixed Chebyshev-Fourier:\n",
    "$$\n",
    "\\int_{-1}^1\\int_{0}^{2\\pi} u \\overline{v} w \\, {dxdy} \\approx \\sum_{i=0}^{N_0-1}\\sum_{j=0}^{N_1-1} u(x_i, y_j) \\overline{v}(x_i, y_j) \\omega^{(x)}_i \\omega_j^{(y)} ,\n",
    "$$\n"
   ]
  },
  {
   "cell_type": "markdown",
   "metadata": {
    "slideshow": {
     "slide_type": "slide"
    }
   },
   "source": [
    "# Spectral Galerkin solution procedure\n",
    "\n",
    "1. Choose basis function(s) satisfying correct boundary conditions\n",
    "2. Transform PDEs to variational forms using the method of weighted residuals\n",
    "3. Assemble variational forms and solve resulting linear algebra systems"
   ]
  },
  {
   "cell_type": "markdown",
   "metadata": {
    "slideshow": {
     "slide_type": "slide"
    }
   },
   "source": [
    "# Basis functions\n",
    "\n",
    "\n",
    "| Family    | Basis (span)                             | Domain    |\n",
    "|  :---:    |         :---:                            |   :---:   |\n",
    "| Chebyshev | $$\\{T_k\\}_{k=0}^{N-1}$$                  | $$[-1, 1]$$ |\n",
    "| Legendre  | $$\\{L_k\\}_{k=0}^{N-1}$$                  | $$[-1, 1]$$ |\n",
    "| Fourier   | $$\\{\\exp(\\text{i}kx)\\}_{k=-N/2}^{N/2-1}$$| $$[0, 2\\pi]$$ |\n",
    "| Hermite   | $$\\{H_k\\}_{k=0}^{N-1}$$                  | $$[-\\infty, \\infty]$$|\n",
    "| Laguerre  | $$\\{La_k\\}_{k=0}^{N-1}$$                 | $$[0, \\infty]$$ |\n"
   ]
  },
  {
   "cell_type": "code",
   "execution_count": 2,
   "metadata": {
    "slideshow": {
     "slide_type": "fragment"
    }
   },
   "outputs": [
    {
     "name": "stdout",
     "output_type": "stream",
     "text": [
      "[[ 0.98078528  0.39269908]\n",
      " [ 0.83146961  0.39269908]\n",
      " [ 0.55557023  0.39269908]\n",
      " [ 0.19509032  0.39269908]\n",
      " [-0.19509032  0.39269908]\n",
      " [-0.55557023  0.39269908]\n",
      " [-0.83146961  0.39269908]\n",
      " [-0.98078528  0.39269908]]\n"
     ]
    }
   ],
   "source": [
    "from shenfun import *\n",
    "N = 8\n",
    "C = Basis(N, 'Chebyshev')\n",
    "L = Basis(N, 'Legendre')\n",
    "x, w = C.points_and_weights()\n",
    "print(np.vstack((x, w)).T)"
   ]
  },
  {
   "cell_type": "markdown",
   "metadata": {
    "slideshow": {
     "slide_type": "subslide"
    }
   },
   "source": [
    "# Bases with non-periodic boundary conditions\n",
    "\n",
    "## Dirichlet\n",
    "\n",
    "| family    | Basis (span)          | Boundary condition |\n",
    "|-----------|-----------------------|----------|\n",
    "| Chebyshev | $$\\{T_k-T_{k+2}\\}_{k=0}^{N-3}$$ | $$u(\\pm 1) = 0$$ |\n",
    "| Legendre  | $$\\{L_k-L_{k+2}\\}_{k=0}^{N-3}$$ | $$u(\\pm 1) = 0$$ |\n",
    "| Hermite   | $$\\exp(-x^2)\\{H_k\\}_{k=0}^{N-1}$$ | $$u(\\pm \\infty) = 0$$ |\n",
    "| Laguerre  | $$\\exp(-x/2)\\{La_k-La_{k+1}\\}_{k=0}^{N-2}$$| $$u(0) = u(\\infty) = 0$$ |"
   ]
  },
  {
   "cell_type": "code",
   "execution_count": 3,
   "metadata": {
    "slideshow": {
     "slide_type": "fragment"
    }
   },
   "outputs": [],
   "source": [
    "C0 = Basis(N, 'Chebyshev', bc=(0, 0))\n",
    "H0 = Basis(N, 'Hermite')\n",
    "La = Basis(N, 'Laguerre', bc=(0, 0))"
   ]
  },
  {
   "cell_type": "markdown",
   "metadata": {
    "slideshow": {
     "slide_type": "subslide"
    }
   },
   "source": [
    "## Neumann $u'(\\pm 1) = 0$\n",
    "\n",
    "| family    | Basis (span)          |\n",
    "|-----------|-----------------------|\n",
    "| Chebyshev | $$\\{T_k-\\frac{k^2}{(k+2)^2}T_{k+2}\\}_{k=0}^{N-3}$$ | \n",
    "| Legendre  | $$\\{L_k-\\frac{k(k+1)}{(k+2)(k+3)}L_{k+2}\\}_{k=0}^{N-3}$$ |"
   ]
  },
  {
   "cell_type": "code",
   "execution_count": 4,
   "metadata": {
    "slideshow": {
     "slide_type": "fragment"
    }
   },
   "outputs": [],
   "source": [
    "CN = Basis(N, 'Chebyshev', bc='Neumann')\n",
    "LN = Basis(N, 'Legendre', bc='Neumann')"
   ]
  },
  {
   "cell_type": "markdown",
   "metadata": {
    "slideshow": {
     "slide_type": "subslide"
    }
   },
   "source": [
    "## Biharmonic $u(\\pm 1) = u'(\\pm 1) = 0$\n",
    "\n",
    "| family    | Basis (span)          |\n",
    "|-----------|-----------------------|\n",
    "| Chebyshev | $$\\{T_k-\\frac{2(k+2)}{k+3}T_{k+2}+\\frac{k+1}{k+3} T_{k+4}\\}_{k=0}^{N-5}$$ | \n",
    "| Legendre  | $$\\{L_k-\\frac{2(2k+5)}{(2k+7)}L_{k+2}+\\frac{2k+3}{2k+7}L_{k+4}\\}_{k=0}^{N-5}$$ |\n"
   ]
  },
  {
   "cell_type": "code",
   "execution_count": 5,
   "metadata": {
    "slideshow": {
     "slide_type": "fragment"
    }
   },
   "outputs": [],
   "source": [
    "CB = Basis(N, 'Chebyshev', bc='Biharmonic')\n",
    "LB = Basis(N, 'Legendre', bc='Biharmonic')"
   ]
  },
  {
   "cell_type": "markdown",
   "metadata": {
    "slideshow": {
     "slide_type": "slide"
    }
   },
   "source": [
    "# Multidimensional tensor product spaces\n"
   ]
  },
  {
   "cell_type": "code",
   "execution_count": 6,
   "metadata": {
    "slideshow": {
     "slide_type": "fragment"
    }
   },
   "outputs": [],
   "source": [
    "C0 = Basis(N, 'Chebyshev', bc=(0, 0))\n",
    "C1 = Basis(N, 'Chebyshev')\n",
    "CC = TensorProductSpace(comm, (C0, C1))\n",
    "L1 = Basis(N, 'Legendre')\n",
    "CL = TensorProductSpace(comm, (C0, C1))"
   ]
  },
  {
   "cell_type": "code",
   "execution_count": 7,
   "metadata": {
    "slideshow": {
     "slide_type": "fragment"
    }
   },
   "outputs": [
    {
     "name": "stdout",
     "output_type": "stream",
     "text": [
      "Help on TensorProductSpace in module shenfun.tensorproductspace object:\n",
      "\n",
      "class TensorProductSpace(mpi4py_fft.mpifft.PFFT)\n",
      " |  TensorProductSpace(comm, bases, axes=None, dtype=None, slab=False, collapse_fourier=False, **kw)\n",
      " |  \n",
      " |  Class for multidimensional tensorproductspaces.\n",
      " |  \n",
      " |  The tensorproductspaces are created as Cartesian products from a set of 1D\n",
      " |  bases. The 1D bases are subclassed instances of the :class:`.SpectralBase`\n",
      " |  class.\n",
      " |  \n",
      " |  Parameters\n",
      " |  ----------\n",
      " |  comm : MPI communicator\n",
      " |  bases : list\n",
      " |      List of 1D bases\n",
      " |  axes : tuple of ints, optional\n",
      " |      A tuple containing the order of which to perform transforms.\n",
      " |      Last item is transformed first. Defaults to range(len(bases))\n",
      " |  dtype : data-type, optional\n",
      " |      Type of input data in real physical space. If not provided it\n",
      " |      will be inferred from the bases.\n",
      " |  slab : bool, optional\n",
      " |      Use 1D slab decomposition.\n",
      " |  collapse_fourier : bool, optional\n",
      " |      Collapse axes for Fourier bases if possible\n",
      " |  kw : dict, optional\n",
      " |      Dictionary that can be used to plan transforms. Input to method\n",
      " |      `plan` for the bases.\n",
      " |  \n",
      " |  Method resolution order:\n",
      " |      TensorProductSpace\n",
      " |      mpi4py_fft.mpifft.PFFT\n",
      " |      builtins.object\n",
      " |  \n",
      " |  Methods defined here:\n",
      " |  \n",
      " |  __getitem__(self, i)\n",
      " |      Return instance of base i\n",
      " |      \n",
      " |      Parameters\n",
      " |      ----------\n",
      " |      i : int\n",
      " |  \n",
      " |  __init__(self, comm, bases, axes=None, dtype=None, slab=False, collapse_fourier=False, **kw)\n",
      " |      Initialize self.  See help(type(self)) for accurate signature.\n",
      " |  \n",
      " |  __iter__(self)\n",
      " |  \n",
      " |  __len__(self)\n",
      " |      Return dimension of TensorProductSpace\n",
      " |  \n",
      " |  convolve(self, a_hat, b_hat, ab_hat)\n",
      " |      Convolution of a_hat and b_hat\n",
      " |      \n",
      " |      Parameters\n",
      " |      ----------\n",
      " |      a_hat : array\n",
      " |          Input array of shape and type as output array from\n",
      " |          self.forward, or instance of :class:`.Function`\n",
      " |      b_hat : array\n",
      " |          Input array of shape and type as output array from\n",
      " |          self.forward, or instance of :class:`.Function`\n",
      " |      ab_hat : array\n",
      " |          Return array of same type and shape as a_hat and b_hat\n",
      " |      \n",
      " |      Note\n",
      " |      ----\n",
      " |      The return array ab_hat is truncated to the shape of a_hat and b_hat.\n",
      " |      \n",
      " |      Also note that self should have bases with padding for this method to give\n",
      " |      a convolution without aliasing. The padding is specified when creating\n",
      " |      instances of bases for the :class:`.TensorProductSpace`.\n",
      " |      \n",
      " |      FIXME Efficiency due to allocation\n",
      " |  \n",
      " |  dim(self)\n",
      " |      Return dimension of ``self`` (degrees of freedom)\n",
      " |  \n",
      " |  dims(self)\n",
      " |      Return dimensions (degrees of freedom) of all bases in ``self``\n",
      " |  \n",
      " |  eval(self, points, coefficients, output_array=None, method=2)\n",
      " |      Evaluate Function at points, given expansion coefficients\n",
      " |      \n",
      " |      Parameters\n",
      " |      ----------\n",
      " |      points : float or array of floats\n",
      " |          Array must be of shape (D, N), for  N points in D dimensions\n",
      " |      coefficients : array\n",
      " |          Expansion coefficients, or instance of :class:`.Function`\n",
      " |      output_array : array, optional\n",
      " |          Return array, function values at points\n",
      " |      method : int, optional\n",
      " |          Chooses implementation. The default 0 is a low-memory cython\n",
      " |          version. Using method = 1 leads to a faster cython\n",
      " |          implementation that, on the downside, uses more memory.\n",
      " |          The final, method = 2, is a python implementation.\n",
      " |  \n",
      " |  get_nonperiodic_axes(self)\n",
      " |      Return list of axes that are not periodic\n",
      " |  \n",
      " |  global_shape(self, forward_output=False)\n",
      " |      Return global shape of arrays for TensorProductSpace\n",
      " |      \n",
      " |      Parameters\n",
      " |      ----------\n",
      " |      forward_output : bool, optional\n",
      " |          If True then return shape of an array that is the result of a\n",
      " |          forward transform. If False then return shape of physical\n",
      " |          space, i.e., the input to a forward transform.\n",
      " |  \n",
      " |  local_mesh(self, broadcast=False)\n",
      " |      Return list of local 1D physical meshes for each dimension of\n",
      " |      TensorProductSpace\n",
      " |      \n",
      " |      Parameters\n",
      " |      ----------\n",
      " |      broadcast : bool, optional\n",
      " |          Broadcast each 1D mesh to real shape of\n",
      " |          :class:`.TensorProductSpace`\n",
      " |  \n",
      " |  local_wavenumbers(self, broadcast=False, scaled=False, eliminate_highest_freq=False)\n",
      " |      Return list of local wavenumbers of TensorProductSpace\n",
      " |      \n",
      " |      Parameters\n",
      " |      ----------\n",
      " |      broadcast : bool, optional\n",
      " |          Broadcast returned wavenumber arrays to actual\n",
      " |          dimensions of TensorProductSpace\n",
      " |      scaled : bool, optional\n",
      " |          Scale wavenumbers with size of box\n",
      " |      eliminate_highest_freq : bool, optional\n",
      " |          Set Nyquist frequency to zero for evenly shaped axes of Fourier\n",
      " |          bases\n",
      " |  \n",
      " |  mesh(self)\n",
      " |      Return list of 1D physical meshes for each dimension of\n",
      " |      TensorProductSpace\n",
      " |  \n",
      " |  num_components(self)\n",
      " |      Return number of scalar spaces in TensorProductSpace\n",
      " |  \n",
      " |  size(self, forward_output=False)\n",
      " |      Return number of elements in :class:`.TensorProductSpace`\n",
      " |  \n",
      " |  wavenumbers(self, scaled=False, eliminate_highest_freq=False)\n",
      " |      Return list of wavenumbers of TensorProductSpace\n",
      " |      \n",
      " |      Parameters\n",
      " |      ----------\n",
      " |      scaled : bool, optional\n",
      " |          Scale wavenumbers with size of box\n",
      " |      eliminate_highest_freq : bool, optional\n",
      " |          Set Nyquist frequency to zero for evenly shaped axes of Fourier\n",
      " |          bases.\n",
      " |  \n",
      " |  ----------------------------------------------------------------------\n",
      " |  Data descriptors defined here:\n",
      " |  \n",
      " |  dimensions\n",
      " |      Return dimension of TensorProductSpace\n",
      " |  \n",
      " |  rank\n",
      " |      Return tensor rank of TensorProductSpace\n",
      " |  \n",
      " |  ----------------------------------------------------------------------\n",
      " |  Methods inherited from mpi4py_fft.mpifft.PFFT:\n",
      " |  \n",
      " |  destroy(self)\n",
      " |  \n",
      " |  dtype(self, forward_output=False)\n",
      " |      The type of transformed arrays\n",
      " |      \n",
      " |      Parameters\n",
      " |      ----------\n",
      " |      forward_output : bool, optional\n",
      " |          If True then return dtype of an array that is the result of a\n",
      " |          forward transform. Otherwise, return the dtype of an array that\n",
      " |          is input to a forward transform.\n",
      " |  \n",
      " |  local_slice(self, forward_output=True)\n",
      " |      The local view into the global data\n",
      " |      \n",
      " |      Parameters\n",
      " |      ----------\n",
      " |      forward_output : bool, optional\n",
      " |          Return local slices of output array (spectral space) if True, else\n",
      " |          return local slices of input array (physical space)\n",
      " |  \n",
      " |  shape(self, forward_output=True)\n",
      " |      The local (to each processor) shape of data\n",
      " |      \n",
      " |      Parameters\n",
      " |      ----------\n",
      " |      forward_output : bool, optional\n",
      " |          Return shape of output array (spectral space) if True, else return\n",
      " |          shape of input array (physical space)\n",
      " |  \n",
      " |  ----------------------------------------------------------------------\n",
      " |  Data descriptors inherited from mpi4py_fft.mpifft.PFFT:\n",
      " |  \n",
      " |  __dict__\n",
      " |      dictionary for instance variables (if defined)\n",
      " |  \n",
      " |  __weakref__\n",
      " |      list of weak references to the object (if defined)\n",
      "\n"
     ]
    }
   ],
   "source": [
    "help(CL)"
   ]
  },
  {
   "cell_type": "markdown",
   "metadata": {
    "slideshow": {
     "slide_type": "slide"
    }
   },
   "source": [
    "# How about equations?"
   ]
  },
  {
   "cell_type": "code",
   "execution_count": 8,
   "metadata": {
    "slideshow": {
     "slide_type": "fragment"
    }
   },
   "outputs": [],
   "source": [
    "L0 = Basis(N, 'Legendre', bc=(0, 0))\n",
    "u = TrialFunction(L0)\n",
    "v = TestFunction(L0)\n",
    "A = inner(grad(u), grad(v))"
   ]
  },
  {
   "cell_type": "code",
   "execution_count": 9,
   "metadata": {
    "slideshow": {
     "slide_type": "fragment"
    }
   },
   "outputs": [
    {
     "name": "stdout",
     "output_type": "stream",
     "text": [
      "{0: array([ 6., 10., 14., 18., 22., 26.])}\n"
     ]
    }
   ],
   "source": [
    "print(A)"
   ]
  },
  {
   "cell_type": "code",
   "execution_count": 10,
   "metadata": {
    "slideshow": {
     "slide_type": "fragment"
    }
   },
   "outputs": [
    {
     "name": "stdout",
     "output_type": "stream",
     "text": [
      "[[ 6.  0.  0.  0.  0.  0.]\n",
      " [ 0. 10.  0.  0.  0.  0.]\n",
      " [ 0.  0. 14.  0.  0.  0.]\n",
      " [ 0.  0.  0. 18.  0.  0.]\n",
      " [ 0.  0.  0.  0. 22.  0.]\n",
      " [ 0.  0.  0.  0.  0. 26.]]\n"
     ]
    }
   ],
   "source": [
    "print(A.diags().todense())"
   ]
  },
  {
   "cell_type": "markdown",
   "metadata": {
    "slideshow": {
     "slide_type": "fragment"
    }
   },
   "source": [
    "A diagonal stiffness matrix!"
   ]
  },
  {
   "cell_type": "markdown",
   "metadata": {
    "slideshow": {
     "slide_type": "slide"
    }
   },
   "source": [
    "# 2D"
   ]
  },
  {
   "cell_type": "code",
   "execution_count": 11,
   "metadata": {
    "slideshow": {
     "slide_type": "fragment"
    }
   },
   "outputs": [],
   "source": [
    "L0 = Basis(N, 'Legendre', bc=(0, 0))\n",
    "F1 = Basis(N, 'Fourier', dtype='d')\n",
    "TP = TensorProductSpace(comm, (L0, F1))\n",
    "u = TrialFunction(TP)\n",
    "v = TestFunction(TP)\n",
    "A = inner(grad(u), grad(v))"
   ]
  },
  {
   "cell_type": "code",
   "execution_count": 12,
   "metadata": {
    "slideshow": {
     "slide_type": "fragment"
    }
   },
   "outputs": [
    {
     "name": "stdout",
     "output_type": "stream",
     "text": [
      "[<shenfun.matrixbase.TPMatrix object at 0x11e45bf98>, <shenfun.matrixbase.TPMatrix object at 0x11e45bf28>]\n"
     ]
    }
   ],
   "source": [
    "print(A)"
   ]
  },
  {
   "cell_type": "markdown",
   "metadata": {
    "slideshow": {
     "slide_type": "fragment"
    }
   },
   "source": [
    "# ? \n",
    "\n",
    "A is a list of two TPMatrix objects???\n"
   ]
  },
  {
   "cell_type": "markdown",
   "metadata": {
    "slideshow": {
     "slide_type": "slide"
    }
   },
   "source": [
    "# `TPMatrix` is a Tensor Product matrix\n",
    "\n",
    "A `TPMatrix` is the outer product of smaller matrices (2 in 2D, 3 in 3D etc).  \n",
    "\n",
    "Consider the inner product:\n",
    "\n",
    "$$\n",
    "\\begin{align}\n",
    "(\\nabla u, \\nabla v) &= \\frac{1}{2\\pi}\\int_{-1}^{1}\\int_{0}^{2\\pi} \\left(\\frac{\\partial u}{\\partial x}, \\frac{\\partial u}{\\partial y}\\right) \\cdot \\left(\\frac{\\partial \\overline{v}}{\\partial x}, \\frac{\\partial \\overline{v}}{\\partial y}\\right) {dxdy} \\\\\n",
    "(\\nabla u, \\nabla v) &= \\frac{1}{2\\pi}\\int_{-1}^1 \\int_{0}^{2\\pi} \\frac{\\partial u}{\\partial x}\\frac{\\partial \\overline{v}}{\\partial x} {dxdy} + \\int_{-1}^1 \\int_{0}^{2\\pi} \\frac{\\partial u}{\\partial y}\\frac{\\partial \\overline{v}}{\\partial y} {dxdy}\n",
    "\\end{align}\n",
    "$$\n",
    "\n",
    "which is also a sum of two terms. These two terms are the two `TPMatrix`es returned by `inner` above.\n",
    "\n",
    "Now each one of these two terms can be written as the outer product of two smaller matrices. "
   ]
  },
  {
   "cell_type": "markdown",
   "metadata": {
    "slideshow": {
     "slide_type": "subslide"
    }
   },
   "source": [
    "Consider the first, inserting for \n",
    "\n",
    "$$\n",
    "\\begin{align}\n",
    "v &= \\phi_{kl} = (L_k(x)-L_{k+2}(x))\\exp(\\text{i}nl) \\\\\n",
    "u &= \\sum_m \\sum_n \\hat{u}_{mn} \\phi_{mn}\n",
    "\\end{align}\n",
    "$$\n",
    "we get\n",
    "$$\n",
    "\\begin{align}\n",
    "& \\frac{1}{2\\pi}\\int_{-1}^1 \\int_{0}^{2\\pi} \\frac{\\partial u}{\\partial x}\\frac{\\partial v^*}{\\partial x} {dxdy} = \\frac{1}{2\\pi}\\int_{-1}^1 \\int_{0}^{2\\pi} \\frac{\\partial \\sum_{m}\\sum_{n} \\hat{u}_{mn} \\phi_{mn}}{\\partial x}\\frac{\\partial \\phi_{kl}^*}{\\partial x }{dxdy}\n",
    "\\end{align}\n",
    "$$"
   ]
  },
  {
   "cell_type": "markdown",
   "metadata": {
    "slideshow": {
     "slide_type": "fragment"
    }
   },
   "source": [
    "$$\n",
    "\\begin{align}\n",
    "   &= \\sum_{m}\\sum_{n} \\hat{u}_{mn} \\frac{1}{2\\pi} \\int_{-1}^1 \\int_{0}^{2\\pi} \\frac{\\partial (L_m-L_{m+2})\\exp(iny)}{\\partial x}\\frac{\\partial (L_k-L_{k+2})\\exp(-ily)}{\\partial x} {dxdy} \\\\\n",
    "   &= \\sum_{m}\\sum_{n} \\hat{u}_{mn} \\frac{1}{2\\pi} \\int_{-1}^1 \\int_{0}^{2\\pi} \\frac{\\partial (L_m-L_{m+2})}{\\partial x}\\frac{\\partial (L_k-L_{k+2})}{\\partial x} \\exp(iny) \\exp(-ily) {dxdy} \\\\\n",
    "   &= \\sum_{m}\\sum_{n} \\hat{u}_{mn} \\underbrace{\\int_{-1}^1 \\frac{\\partial (L_m-L_{m+2})}{\\partial x}\\frac{\\partial (L_k-L_{k+2})}{\\partial x} {dx}}_{a_{km}} \\underbrace{\\frac{1}{2\\pi}\\int_{0}^{2\\pi}  \\exp(iny) \\exp(-ily) {dy}}_{\\delta_{ln}} \\\\\n",
    "   &= a_{km} \\delta_{ln} \\hat{u}_{mn}\n",
    "\\end{align}\n",
    "$$"
   ]
  },
  {
   "cell_type": "markdown",
   "metadata": {
    "slideshow": {
     "slide_type": "subslide"
    }
   },
   "source": [
    "Similarily for the second term\n",
    "\n",
    "\\begin{align}\n",
    "\\frac{1}{2\\pi}\\int_{-1}^1 \\int_{0}^{2\\pi} \\frac{\\partial u}{\\partial y}\\frac{\\partial v^*}{\\partial y} {dxdy} &= \\frac{1}{2\\pi}\\int_{-1}^1 \\int_{0}^{2\\pi} \\frac{\\partial \\sum_{m}\\sum_{n} \\hat{u}_{mn} \\phi_{mn}}{\\partial y}\\frac{\\partial \\phi_{kl}^*}{\\partial y }{dxdy}\n",
    "\\end{align}\n",
    "\\begin{align}\n",
    " &= \\sum_{m}\\sum_{n} \\hat{u}_{mn} \\underbrace{\\int_{-1}^1 (L_m-L_{m+2})(L_k-L_{k+2}) {dx}}_{b_{km}} \\underbrace{\\frac{1}{2\\pi}\\int_{0}^{2\\pi} l^2 \\exp(iny) \\exp(-ily){dy}}_{l^2\\delta_{ln}} \\\\\n",
    "   &= l^2 b_{km} \\delta_{ln} \\hat{u}_{mn}\n",
    "\\end{align}"
   ]
  },
  {
   "cell_type": "markdown",
   "metadata": {
    "slideshow": {
     "slide_type": "fragment"
    }
   },
   "source": [
    "which leads to:\n",
    "$$\n",
    "(\\nabla u, \\nabla v)_w = \\left(a_{km} \\delta_{ln} - l^2 b_{km} \\delta_{ln}\\right) \\hat{u}_{mn}\n",
    "$$"
   ]
  },
  {
   "cell_type": "code",
   "execution_count": 13,
   "metadata": {
    "slideshow": {
     "slide_type": "fragment"
    }
   },
   "outputs": [
    {
     "name": "stdout",
     "output_type": "stream",
     "text": [
      "[{0: array([ 6., 10., 14., 18., 22., 26.])}, {0: 1}]\n"
     ]
    }
   ],
   "source": [
    "A = inner(grad(u), grad(v)) # <- list of two TPMatrices\n",
    "print(A[0].mats)"
   ]
  },
  {
   "cell_type": "markdown",
   "metadata": {
    "slideshow": {
     "slide_type": "slide"
    }
   },
   "source": [
    "# Complete Poisson solver with error verification in 1D"
   ]
  },
  {
   "cell_type": "code",
   "execution_count": 14,
   "metadata": {
    "slideshow": {
     "slide_type": "fragment"
    }
   },
   "outputs": [
    {
     "name": "stdout",
     "output_type": "stream",
     "text": [
      "[ 3.72158258e-12 -3.70176702e-11  4.42706531e-11 -7.61924274e-11\n",
      "  8.28891122e-11 -1.12129639e-10  1.17948290e-10 -1.43341068e-10\n",
      "  1.48041746e-10 -1.68631331e-10  1.72095949e-10 -1.87183047e-10\n",
      "  1.89420479e-10 -1.98592282e-10  1.99676609e-10 -2.02743711e-10\n",
      "  2.02762585e-10 -1.99657624e-10  1.98611211e-10 -1.89401383e-10\n",
      "  1.87200366e-10 -1.72079906e-10  1.68644987e-10 -1.48031087e-10\n",
      "  1.43350110e-10 -1.17942406e-10  1.12133747e-10 -8.28862812e-11\n",
      "  7.61939262e-11 -4.42697302e-11  3.70180041e-11 -3.72154551e-12]\n"
     ]
    }
   ],
   "source": [
    "# Solve Poisson's equation\n",
    "from sympy import symbols, sin, lambdify\n",
    "from shenfun import * \n",
    "\n",
    "# Use sympy to compute manufactured solution\n",
    "x = symbols(\"x\")\n",
    "ue = sin(4*np.pi*x)*(1-x**2) # `ue` is the manufactured solution\n",
    "fe = ue.diff(x, 2) # `fe` is Poisson's right hand side for `ue`\n",
    "\n",
    "SD = Basis(32, 'Chebyshev', bc=(0, 0))\n",
    "u = TrialFunction(SD)\n",
    "v = TestFunction(SD)\n",
    "\n",
    "b = inner(v, Array(SD, buffer=fe)) # Array is initialized with `fe`\n",
    "A = inner(v, div(grad(u)))\n",
    "\n",
    "u_hat = A/b\n",
    "print(u_hat.backward()-Array(SD, buffer=ue))"
   ]
  },
  {
   "cell_type": "markdown",
   "metadata": {
    "slideshow": {
     "slide_type": "subslide"
    }
   },
   "source": [
    "# Complete (with MPI) in 3D with Fourier in 2 directions"
   ]
  },
  {
   "cell_type": "code",
   "execution_count": 15,
   "metadata": {
    "slideshow": {
     "slide_type": "fragment"
    }
   },
   "outputs": [
    {
     "name": "stdout",
     "output_type": "stream",
     "text": [
      "(32, 32, 17)\n"
     ]
    }
   ],
   "source": [
    "from sympy import symbols, sin, cos, lambdify\n",
    "from shenfun import *\n",
    "\n",
    "# Use sympy to compute manufactured solution\n",
    "x, y, z = symbols(\"x,y,z\")\n",
    "ue = (cos(4*x) + sin(2*y) + sin(4*z))*(1-x**2)\n",
    "fe = ue.diff(x, 2) + ue.diff(y, 2) + ue.diff(z, 2)\n",
    "\n",
    "C0 = Basis(32, 'Chebyshev', bc=(0, 0))\n",
    "F1 = Basis(32, 'Fourier', dtype='D')\n",
    "F2 = Basis(32, 'Fourier', dtype='d')\n",
    "T = TensorProductSpace(comm, (C0, F1, F2))\n",
    "u = TrialFunction(T)\n",
    "v = TestFunction(T)\n",
    "\n",
    "# Assemble left and right hand\n",
    "f_hat = inner(v, Array(T, buffer=fe))\n",
    "A = inner(v, div(grad(u)))\n",
    "\n",
    "# Solve\n",
    "solver = chebyshev.la.Helmholtz(*A)\n",
    "u_hat = Function(T)\n",
    "u_hat = solver(u_hat, f_hat)\n",
    "assert np.linalg.norm(u_hat.backward()-Array(T, buffer=ue)) < 1e-12\n",
    "print(u_hat.shape)"
   ]
  },
  {
   "cell_type": "markdown",
   "metadata": {
    "slideshow": {
     "slide_type": "subslide"
    }
   },
   "source": [
    "# Run with MPI distribution of arrays\n",
    "\n",
    "Here we would normally run from a bash shell\n",
    "<p style=\"margin-bottom:0.5cm;\">\n",
    "\n",
    "<div style=\"color:black\"> <strong>[bash shell] mpirun -np 4 python poisson3D.py </strong> </div>\n",
    "\n",
    "But since we are in a Jupyter notebook lets actually do this from python in a live cell:-)"
   ]
  },
  {
   "cell_type": "code",
   "execution_count": 16,
   "metadata": {
    "slideshow": {
     "slide_type": "fragment"
    }
   },
   "outputs": [
    {
     "data": {
      "text/plain": [
       "b'(32, 16, 8)\\n(32, 16, 9)\\n(32, 16, 8)\\n(32, 16, 9)\\n'"
      ]
     },
     "execution_count": 16,
     "metadata": {},
     "output_type": "execute_result"
    }
   ],
   "source": [
    "import subprocess\n",
    "subprocess.check_output('mpirun -np 4 python poisson3D.py', shell=True)"
   ]
  },
  {
   "cell_type": "markdown",
   "metadata": {
    "slideshow": {
     "slide_type": "slide"
    }
   },
   "source": [
    "# Advanced topics\n",
    "\n",
    "Coupled equations"
   ]
  },
  {
   "cell_type": "markdown",
   "metadata": {
    "slideshow": {
     "slide_type": "slide"
    }
   },
   "source": [
    "# Fourier bases\n",
    "\n",
    "<p style=\"margin-bottom:1cm;\">\n",
    "\n",
    "Especially interesting and efficient because they lead to diagonal matrices\n"
   ]
  },
  {
   "cell_type": "code",
   "execution_count": 17,
   "metadata": {
    "slideshow": {
     "slide_type": "fragment"
    }
   },
   "outputs": [],
   "source": [
    "C0 = Basis(N, 'Chebyshev', bc=(0, 0))\n",
    "F0 = Basis(N, 'Fourier', dtype='D')\n",
    "F1 = Basis(N, 'Fourier', dtype='d')\n",
    "TP = TensorProductSpace(comm, (C0, F0, F1))"
   ]
  },
  {
   "cell_type": "markdown",
   "metadata": {
    "slideshow": {
     "slide_type": "slide"
    }
   },
   "source": [
    "# MPI\n",
    "\n",
    "MPI is handled under the hood by [`mpi4py-fft`](https://bitbucket.org/mpi4py/mpi4py-fft). Multidimensional arrays are distributed with no additional effort for the user."
   ]
  }
 ],
 "metadata": {
  "celltoolbar": "Slideshow",
  "kernelspec": {
   "display_name": "Python 3",
   "language": "python",
   "name": "python3"
  },
  "language_info": {
   "codemirror_mode": {
    "name": "ipython",
    "version": 3
   },
   "file_extension": ".py",
   "mimetype": "text/x-python",
   "name": "python",
   "nbconvert_exporter": "python",
   "pygments_lexer": "ipython3",
   "version": "3.7.2"
  }
 },
 "nbformat": 4,
 "nbformat_minor": 2
}
