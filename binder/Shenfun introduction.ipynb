{
 "cells": [
  {
   "cell_type": "markdown",
   "metadata": {
    "slideshow": {
     "slide_type": "slide"
    }
   },
   "source": [
    "# The Spectral Galerkin method\n",
    "(with numerical integration)\n",
    "\n",
    "<p style=\"margin-bottom:1cm;\">\n",
    "\n",
    "<center style=\"font-size:1.5em\"> Approximates solution $u(x)$ using global basis functions $\\phi_k(x)$\n",
    "\n",
    "<img src=\"Chebyshev_Polynomials_of_the_First_Kind.svg\" width=\"400\">\n",
    "\n",
    "$$\n",
    "u(x) = \\sum_{k=0}^{N-1}\\hat{u}_k \\phi_k(x)\n",
    "$$\n",
    "\n"
   ]
  },
  {
   "cell_type": "markdown",
   "metadata": {
    "slideshow": {
     "slide_type": "slide"
    }
   },
   "source": [
    "# Basis functions\n",
    "\n",
    "\n",
    "| Family    | Basis (span)                             | Domain    |\n",
    "|  :---:    |         :---:                            |   :---:   |\n",
    "| Chebyshev | $$\\{T_k\\}_{k=0}^{N-1}$$                  | $$[-1, 1]$$ |\n",
    "| Legendre  | $$\\{L_k\\}_{k=0}^{N-1}$$                  | $$[-1, 1]$$ |\n",
    "| Fourier   | $$\\{\\exp(\\text{i}kx)\\}_{k=-N/2}^{N/2-1}$$| $$[0, 2\\pi]$$ |\n",
    "| Hermite   | $$\\{H_k\\}_{k=0}^{N-1}$$                  | $$[-\\infty, \\infty]$$|\n",
    "| Laguerre  | $$\\{La_k\\}_{k=0}^{N-1}$$                 | $$[0, \\infty]$$ |\n"
   ]
  },
  {
   "cell_type": "markdown",
   "metadata": {
    "slideshow": {
     "slide_type": "subslide"
    }
   },
   "source": [
    "# Bases with non-periodic boundary conditions\n",
    "\n",
    "## Dirichlet\n",
    "\n",
    "| family    | Basis (span)          | Boundary condition |\n",
    "|-----------|-----------------------|----------|\n",
    "| Chebyshev | $$\\{T_k-T_{k+2}\\}_{k=0}^{N-3}$$ | $$u(\\pm 1) = 0$$ |\n",
    "| Legendre  | $$\\{L_k-L_{k+2}\\}_{k=0}^{N-3}$$ | $$u(\\pm 1) = 0$$ |\n",
    "| Hermite   | $$\\exp(-x^2)\\{H_k\\}_{k=0}^{N-1}$$ | $$u(\\pm \\infty) = 0$$ |\n",
    "| Laguerre  | $$\\exp(-x/2)\\{La_k-La_{k+1}\\}_{k=0}^{N-2}$$| $$u(0) = u(\\infty) = 0$$ |"
   ]
  },
  {
   "cell_type": "markdown",
   "metadata": {
    "slideshow": {
     "slide_type": "subslide"
    }
   },
   "source": [
    "## Neumann $u'(\\pm 1) = 0$\n",
    "\n",
    "| family    | Basis (span)          |\n",
    "|-----------|-----------------------|\n",
    "| Chebyshev | $$\\{T_k-\\frac{k^2}{(k+2)^2}T_{k+2}\\}_{k=0}^{N-3}$$ | \n",
    "| Legendre  | $$\\{L_k-\\frac{k(k+1)}{(k+2)(k+3)}L_{k+2}\\}_{k=0}^{N-3}$$ |"
   ]
  },
  {
   "cell_type": "markdown",
   "metadata": {
    "slideshow": {
     "slide_type": "subslide"
    }
   },
   "source": [
    "## Biharmonic $u(\\pm 1) = u'(\\pm 1) = 0$\n",
    "\n",
    "| family    | Basis (span)          |\n",
    "|-----------|-----------------------|\n",
    "| Chebyshev | $$\\{T_k-\\frac{2(k+2)}{k+3}T_{k+2}+\\frac{k+1}{k+3} T_{k+4}\\}_{k=0}^{N-5}$$ | \n",
    "| Legendre  | $$\\{L_k-\\frac{2(2k+5)}{(2k+7)}L_{k+2}+\\frac{2k+3}{2k+7}L_{k+4}\\}_{k=0}^{N-5}$$ |\n"
   ]
  },
  {
   "cell_type": "markdown",
   "metadata": {
    "slideshow": {
     "slide_type": "slide"
    }
   },
   "source": [
    "# Multidimensional problems\n",
    "\n",
    "$$\n",
    "u(x, y) = \\sum_{k=0}^{N_0-1}\\sum_{l=0}^{N_1-1}\\hat{u}_{kl} \\phi_k(x)\\psi_l(y)\n",
    "$$\n",
    "\n",
    "$$\n",
    "u(x, y, z) = \\sum_{k=0}^{N_0-1}\\sum_{l=0}^{N_1-1} \\sum_{m=0}^{N_2-1}\\hat{u}_{klm} \\phi_k(x)\\psi_l(y)\\xi_m(z)\n",
    "$$"
   ]
  },
  {
   "cell_type": "markdown",
   "metadata": {
    "slideshow": {
     "slide_type": "subslide"
    }
   },
   "source": [
    "# Tensor product spaces\n",
    "\n",
    "Use 1D bases, e.g.,\n",
    "$$\n",
    "\\begin{align}\n",
    "\\phi_k(x) &= T_k(x)   & k \\in \\mathbf{k} = 0, 1, \\ldots, N_0-1 \\\\\n",
    "\\psi_l(x) &= \\exp(\\text{i}lx) & l \\in \\mathbf{l} = 0, 1, \\ldots, N_1-1 \\\\\n",
    "\\xi_m(x) &= L_m(x)-L_{m+2}(x) & m \\in \\mathbf{m} = 0, 1, \\ldots, N_2-3\n",
    "\\end{align}\n",
    "$$\n",
    "\n",
    "Combine to create outer product bases with appropriate boundary conditions\n",
    "\n",
    "$$\n",
    "\\begin{align}\n",
    "V^{\\mathbf{N}} &= \\text{span}\\{\\phi_k(x)\\psi_l(y) : (k, l) \\in \\mathbf{k} \\times \\mathbf{l} \\} \\\\\n",
    "W^{\\mathbf{N}} &= \\text{span}\\{\\phi_k(x)\\psi_l(y)\\xi_m(z) : (k, l, m) \\in \\mathbf{k} \\times \\mathbf{l} \\times \\mathbf{m} \\}\n",
    "\\end{align}\n",
    "$$\n",
    "\n",
    "Mixing any 1D basis. Combine Legendre with Chebyshev if desired."
   ]
  },
  {
   "cell_type": "markdown",
   "metadata": {
    "slideshow": {
     "slide_type": "slide"
    }
   },
   "source": [
    "# Solving PDEs with the Spectral Galerkin method follows three steps\n",
    "\n",
    "\n",
    "1. Choose global basis (test) functions satisfying the correct boundary conditions. Usually modified Chebyshev or Legendre polynomials, or Fourier exponentials\n",
    "\n",
    "2. Transform PDEs to weak variational forms using the method of weighted residuals\n",
    "\n",
    "3. Assemble and solve system of equations\n"
   ]
  },
  {
   "cell_type": "markdown",
   "metadata": {
    "slideshow": {
     "slide_type": "slide"
    }
   },
   "source": [
    "# Weighted inner products\n",
    "\n",
    "For the spectral Galerkin method the weighted inner product is defined as\n",
    "\n",
    "$$\n",
    " (u, v)_w = \\int_{\\Omega} u \\overline{v} w \\, \\mathbf{dx},\n",
    "$$\n",
    "\n",
    "where $w(\\mathbf{x})$ is a weight associated with the chosen basis (different bases have different weights), and $v(\\mathbf{x})$ and $u(\\mathbf{x})$ are test and trial functions, respectively. The overline represents a complex conjugate.\n",
    "\n",
    "Note that $\\Omega$ can be any tensor product domain spanned by the chosen 1D bases. For a 2D basis with Chebyshev in both directions $\\Omega=[-1, 1]^2$ and $\\mathbf{dx}=dxdy$. For mixed Chebyshev with Fourier it is $\\Omega=[-1, 1]\\times[0, 2\\pi]$. \n"
   ]
  },
  {
   "cell_type": "markdown",
   "metadata": {
    "slideshow": {
     "slide_type": "subslide"
    }
   },
   "source": [
    "# Quadrature is used to approximate the integral\n",
    "\n",
    "1D:\n",
    "$$\n",
    "\\int_{-1}^1 u v w \\, {dx} \\approx \\sum_{i=0}^{N-1} u(x_i) v(x_i) \\omega_i,\n",
    "$$\n",
    "\n",
    "where $\\{\\omega_i\\}_{i=0}^{N-1}$ are the quadrature weights associated with the chosen basis and quadrature rule. The associated quadrature points are denoted as $\\{x_i\\}_{i=0}^{N-1}$. For Chebyshev we can choose between `Chebyshev-Gauss` or `Chebyshev-Gauss-Lobatto`, whereas for Legendre the choices are `Legendre-Gauss` or `Legendre-Gauss-Lobatto`. \n",
    "\n",
    "2D:\n",
    "$$\n",
    "\\int_{-1}^1\\int_{0}^{2\\pi} u v w \\, {dxdy} \\approx \\sum_{i=0}^{N_0-1}\\sum_{j=0}^{N_1-1} u(x_i, y_j) v(x_i, y_j) \\omega^{(x)}_i \\omega_j^{(y)} ,\n",
    "$$\n"
   ]
  },
  {
   "cell_type": "markdown",
   "metadata": {
    "slideshow": {
     "slide_type": "slide"
    }
   },
   "source": [
    "# Shenfun contains everything you need to solve PDEs with the Spectral Galerkin method\n",
    "\n",
    "## Basic usage\n",
    "\n",
    "Shenfun consists of classes and functions whoose purpose are to make it easier to implement PDE’s with the spectral Galerkin method in simple tensor product domains. The most important everyday tools are\n",
    "\n",
    "* Basis\n",
    "* TestFunction/TrialFunction\n",
    "* inner\n",
    "* project\n",
    "* TensorProductSpace\n",
    "* div/grad/curl\n",
    "\n",
    "All are available after importing `shenfun`'s functionality"
   ]
  },
  {
   "cell_type": "code",
   "execution_count": 1,
   "metadata": {
    "slideshow": {
     "slide_type": "slide"
    }
   },
   "outputs": [],
   "source": [
    "from shenfun import *"
   ]
  },
  {
   "cell_type": "markdown",
   "metadata": {
    "slideshow": {
     "slide_type": "slide"
    }
   },
   "source": [
    "Create a Chebyshev basis $\\{T_k\\}_{k=0}^{N-1}$, $N\\in \\mathbb{Z}$"
   ]
  },
  {
   "cell_type": "code",
   "execution_count": 2,
   "metadata": {
    "slideshow": {
     "slide_type": "fragment"
    }
   },
   "outputs": [],
   "source": [
    "N = 10\n",
    "C = Basis(N, 'Chebyshev')\n",
    "x, w = C.points_and_weights()"
   ]
  },
  {
   "cell_type": "markdown",
   "metadata": {
    "slideshow": {
     "slide_type": "slide"
    }
   },
   "source": [
    "Create a Legendre basis with Dirichlet boundary conditions $\\{L_k - L_{k+2}\\}_{k=0}^{N-3}$"
   ]
  },
  {
   "cell_type": "code",
   "execution_count": 3,
   "metadata": {
    "slideshow": {
     "slide_type": "fragment"
    }
   },
   "outputs": [],
   "source": [
    "L = Basis(N, 'Legendre', bc=(0, 0))"
   ]
  },
  {
   "cell_type": "markdown",
   "metadata": {
    "slideshow": {
     "slide_type": "slide"
    }
   },
   "source": [
    "Create a `Function` $u(x) = \\sum_{k=0}^{N-1} \\hat{u}_k T_k(x)$"
   ]
  },
  {
   "cell_type": "code",
   "execution_count": 4,
   "metadata": {
    "slideshow": {
     "slide_type": "fragment"
    }
   },
   "outputs": [],
   "source": [
    "u = Function(C)\n",
    "u[2] = 1"
   ]
  },
  {
   "cell_type": "markdown",
   "metadata": {
    "slideshow": {
     "slide_type": "slide"
    }
   },
   "source": [
    "We know that $T_2(x) = 2x^2-1$. By setting $u(2)=1$ above, we fix the value of $\\hat{u}_2$ and the `Function` `u` will evaluate to exactly $T_2(x)$. \n",
    "\n",
    "We can see this also by projecting the function $T_2$ to the basis $\\{T_k\\}_{k=0}^{N-1}$"
   ]
  },
  {
   "cell_type": "code",
   "execution_count": 5,
   "metadata": {
    "slideshow": {
     "slide_type": "fragment"
    }
   },
   "outputs": [
    {
     "name": "stdout",
     "output_type": "stream",
     "text": [
      "[-4.44089210e-17  2.36612408e-16  1.00000000e+00  1.00665217e-17\n",
      " -8.49065980e-17 -3.14018492e-17 -3.42420318e-17 -2.41668305e-17\n",
      " -4.44089210e-17  8.02375870e-17]\n",
      "[0. 0. 1. 0. 0. 0. 0. 0. 0. 0.]\n"
     ]
    }
   ],
   "source": [
    "import sympy as sp\n",
    "x = sp.Symbol('x')\n",
    "T2 = 2*x**2 - 1  # or simply T2 = sp.chebyshevt(2, x)\n",
    "print(project(T2, C))\n",
    "print(u)"
   ]
  },
  {
   "cell_type": "markdown",
   "metadata": {
    "slideshow": {
     "slide_type": "slide"
    }
   },
   "source": [
    "Create another Legendre basis and a tensorproductspace as the outer product of these bases"
   ]
  },
  {
   "cell_type": "code",
   "execution_count": 6,
   "metadata": {
    "slideshow": {
     "slide_type": "fragment"
    }
   },
   "outputs": [],
   "source": [
    "TP = TensorProductSpace(comm, (C, L))"
   ]
  },
  {
   "cell_type": "code",
   "execution_count": 7,
   "metadata": {
    "slideshow": {
     "slide_type": "subslide"
    }
   },
   "outputs": [],
   "source": [
    "u = Function(TP)\n",
    "import matplotlib.pyplot as plt\n",
    "X = TP.mesh()\n",
    "plt.figure(figsize=(6, 6))\n",
    "for x in X[0][:, 0]:\n",
    "    plt.plot((x, x), (X[1][0, 0], X[1][0, -1]), 'k')\n",
    "for y in X[1][0]:\n",
    "    plt.plot((X[0][0, 0], X[0][-1, 0]) , (y, y), 'k')"
   ]
  }
 ],
 "metadata": {
  "celltoolbar": "Slideshow",
  "kernelspec": {
   "display_name": "Python 3",
   "language": "python",
   "name": "python3"
  },
  "language_info": {
   "codemirror_mode": {
    "name": "ipython",
    "version": 3
   },
   "file_extension": ".py",
   "mimetype": "text/x-python",
   "name": "python",
   "nbconvert_exporter": "python",
   "pygments_lexer": "ipython3",
   "version": "3.7.2"
  }
 },
 "nbformat": 4,
 "nbformat_minor": 2
}
