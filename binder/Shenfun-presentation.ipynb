{
 "cells": [
  {
   "cell_type": "markdown",
   "metadata": {
    "slideshow": {
     "slide_type": "slide"
    }
   },
   "source": [
    "<center>\n",
    "\n",
    "# Shenfun - High-Performance Computing platform for the Spectral Galerkin method\n",
    "\n",
    "<div><img src=\"https://rawcdn.githack.com/spectralDNS/spectralutilities/f3419a3e6c40dad55be5dcca51f6e0e21713dd90/figures/Chebyshev_Polynomials_of_the_First_Kind.svg\" width=\"300\"></div>\n",
    "\n",
    "<div class=\"sl-block\" style=\"height: auto; width: 600px;\">\n",
    "    <div>\n",
    "        <p><center style=\"font-size:1.2em\">Professor Mikael Mortensen</p>\n",
    "        <p><center>Department of Mathematics, University of Oslo</p>\n",
    "        <p><center>Presented at the International Conference on Scientific Computing and Applications (ICSCA), Xiamen, China, 29/5 - 2019</p>\n",
    "    </div>\n",
    "</div>"
   ]
  },
  {
   "cell_type": "markdown",
   "metadata": {
    "slideshow": {
     "slide_type": "slide"
    }
   },
   "source": [
    "# Shenfun - facts\n",
    "\n",
    "1. Shenfun is named in honour of <strong>Professor Jie Shen</strong> for his seminal work on the spectral Galerkin method:-) \n",
    "2. Shenfun is a high performance computing platform for solving partial differential equations (PDEs) with the spectral Galerkin method (with numerical integration).\n",
    "3. Shenfun has been run with 65,000 processors on a Cray XC40.\n",
    "4. Shenfun is a high-level <strong>Python</strong> package originally developed for large-scale pseudo-spectral turbulence simulations.\n",
    "\n",
    "\n",
    "<img src=\"https://rawcdn.githack.com/spectralDNS/spectralutilities/473129742f0b5f8d57e8c647809272c0ced99a45/movies/RB_200k_small.png\" style=\"float:left\" width=\"300\"> <img src=\"https://rawcdn.githack.com/spectralDNS/spectralutilities/473129742f0b5f8d57e8c647809272c0ced99a45/movies/isotropic_cropped.gif\" style=\"float:right\" width=\"200\"> \n",
    "<p style=\"clear: both;\">"
   ]
  },
  {
   "cell_type": "markdown",
   "metadata": {
    "slideshow": {
     "slide_type": "subslide"
    }
   },
   "source": [
    "# Python is a scripting language\n",
    "<p style=\"margin-bottom:1cm;\">\n",
    "\n",
    "No compilation - just execute. Much like MATLAB. High-level coding very popular in the scientific computing community. \n",
    "\n",
    "In this presentation this is a Python terminal:"
   ]
  },
  {
   "cell_type": "code",
   "execution_count": 1,
   "metadata": {
    "slideshow": {
     "slide_type": "fragment"
    }
   },
   "outputs": [
    {
     "name": "stdout",
     "output_type": "stream",
     "text": [
      "hello world icsca\n"
     ]
    }
   ],
   "source": [
    "print('hello world icsca')"
   ]
  },
  {
   "cell_type": "markdown",
   "metadata": {
    "slideshow": {
     "slide_type": "fragment"
    }
   },
   "source": [
    "Inside the terminal any Python code can be executed and if something is printed it is shown below."
   ]
  },
  {
   "cell_type": "code",
   "execution_count": 2,
   "metadata": {
    "slideshow": {
     "slide_type": "fragment"
    }
   },
   "outputs": [
    {
     "name": "stdout",
     "output_type": "stream",
     "text": [
      "4\n"
     ]
    }
   ],
   "source": [
    "print(2+2)"
   ]
  },
  {
   "cell_type": "markdown",
   "metadata": {
    "slideshow": {
     "slide_type": "subslide"
    }
   },
   "source": [
    "# When in presentation mode\n",
    "\n",
    "like now, the terminal is not alive. However, this presentation is written with [jupyter](https://jupyter.org/)\n",
    "\n",
    "<center><img src=\"https://rawcdn.githack.com/spectralDNS/spectralutilities/a6cccf4e2959c13cd4b7a6cf9d092b0ef11e7d5e/figures/jupyter.jpg\" width=100></center>\n",
    "\n",
    "and if opened in active mode, then all boxes like the one below would be live and active and ready to execute any Python code:"
   ]
  },
  {
   "cell_type": "code",
   "execution_count": null,
   "metadata": {
    "slideshow": {
     "slide_type": "fragment"
    }
   },
   "outputs": [],
   "source": []
  },
  {
   "cell_type": "markdown",
   "metadata": {
    "slideshow": {
     "slide_type": "fragment"
    }
   },
   "source": [
    "If interested (it is really not necessary), then\n",
    "\n",
    "Open https://github.com/spectralDNS/shenfun/ and press the launch-binder button.\n",
    "\n",
    "[![Binder](https://mybinder.org/badge_logo.svg)](https://mybinder.org/v2/gh/spectralDNS/shenfun/master?filepath=binder) \n",
    "\n",
    "Wait for binder to launch and choose the `Shenfun presentation.ipynb` file to get a live document. There are also some other demos there written in jupyter."
   ]
  },
  {
   "cell_type": "markdown",
   "metadata": {
    "slideshow": {
     "slide_type": "slide"
    }
   },
   "source": [
    "<center>\n",
    "\n",
    "<div><img src=\"https://gifimage.net/wp-content/uploads/2017/09/ajax-loading-gif-transparent-background-2.gif\" width=\"100\"></div>\n",
    "\n",
    "<div class=\"sl-block\" style=\"height: auto; width: 500px;\">\n",
    "    <div>\n",
    "        <p><center style=\"font-size:1.2em\">Meanwhile (may take a few minutes and really not necessary) I'll go through some background material required for understanding how <strong>shenfun</strong> works 😀</p>\n",
    "    </div>\n",
    "</div>\n"
   ]
  },
  {
   "cell_type": "markdown",
   "metadata": {
    "slideshow": {
     "slide_type": "slide"
    }
   },
   "source": [
    "# The Spectral Galerkin method (in a nutshell)\n",
    "\n",
    "approximates solutions $u(x)$ using global <strong>trial</strong> functions $\\phi_k(x)$ and unknown expansion coefficients $\\hat{u}_k$\n",
    "\n",
    "$$\n",
    "u(x) = \\sum_{k=0}^{N-1}\\hat{u}_k \\phi_k(x)\n",
    "$$\n",
    "\n",
    "Multidimensional solutions are formed from outer products of 1D bases\n",
    "\n",
    "$$\n",
    "u(x, y) = \\sum_{k=0}^{N_0-1}\\sum_{l=0}^{N_1-1}\\hat{u}_{kl} \\phi_{kl}(x, y)\\quad \\text{ or }\\quad\n",
    "u(x, y, z) = \\sum_{k=0}^{N_0-1}\\sum_{l=0}^{N_1-1} \\sum_{m=0}^{N_2-1}\\hat{u}_{klm} \\phi_{klm}(x, y, z)\n",
    "$$\n",
    "\n",
    "where, for example\n",
    "\n",
    "$$\n",
    "\\begin{align}\n",
    "\\phi_{kl}(x, y) &= T_k(x) L_l(y)\\\\\n",
    "\\phi_{klm}(x, y, z) &= T_k(x) L_l(y) \\exp(\\text{i}mz)\n",
    "\\end{align}\n",
    "$$\n",
    "\n",
    "$T_k$ and $L_k$ are Chebyshev and Legendre polynomials."
   ]
  },
  {
   "cell_type": "markdown",
   "metadata": {
    "slideshow": {
     "slide_type": "subslide"
    }
   },
   "source": [
    "# The Spectral Galerkin method\n",
    "\n",
    "solves PDEs, like Poisson's equation\n",
    "\n",
    "\\begin{align}\n",
    "\\nabla^2 u(x) &= f(x), \\quad x \\in [-1, 1] \\\\\n",
    "u(\\pm 1) &= 0\n",
    "\\end{align}\n",
    "\n",
    "using variational forms by the <strong>method of weighted residuals</strong>. I.e., multiply PDE by a test function $v$ and integrate over the domain. For Poisson this leads to the problem:\n",
    "\n",
    "Find $u \\in H^1_0$ such that \n",
    "\n",
    "$$(\\nabla u, \\nabla v)_w^N = -(f, v)_w^N \\quad \\forall v \\in H^1_0$$\n",
    "\n",
    "Here $(u, v)_w^{N}$ is a weighted inner product and $v(=\\phi_j)$ is a <strong>test</strong> function. Note that test and trial functions are the same for the Galerkin method.\n"
   ]
  },
  {
   "cell_type": "markdown",
   "metadata": {
    "slideshow": {
     "slide_type": "subslide"
    }
   },
   "source": [
    "# Weighted inner products\n",
    "\n",
    "The weighted inner product is defined as\n",
    "\n",
    "$$\n",
    " (u, v)_w = \\int_{\\Omega} u \\overline{v} w \\, d\\Omega,\n",
    "$$\n",
    "\n",
    "where $w(\\mathbf{x})$ is a weight associated with the chosen basis (different bases have different weights). The overline represents a complex conjugate (for Fourier).\n",
    "\n",
    "$\\Omega$ is a tensor product domain spanned by the chosen 1D bases.\n"
   ]
  },
  {
   "cell_type": "markdown",
   "metadata": {
    "slideshow": {
     "slide_type": "subslide"
    }
   },
   "source": [
    "# In Shenfun quadrature is used for the integrals\n",
    "\n",
    "1D with Chebyshev basis:\n",
    "\n",
    "$$\n",
    "(u, v)_w ^N = \\sum_{i=0}^{N-1} u(x_i) v(x_i) \\omega_i \\approx \\int_{-1}^1 \\frac{u v}{\\sqrt{1-x^2}}  \\, {dx},\n",
    "$$\n",
    "\n",
    "where $\\{\\omega_i\\}_{i=0}^{N-1}$ are the quadrature weights associated with the chosen basis and quadrature rule. The associated quadrature points are denoted as $\\{x_i\\}_{i=0}^{N-1}$. \n",
    "\n",
    "2D with mixed Chebyshev-Fourier:\n",
    "\n",
    "$$\n",
    "(u, v)_w^N = \\int_{-1}^1\\int_{0}^{2\\pi} \\frac{u \\overline{v}}{2\\pi\\sqrt{1-x^2}} \\, {dxdy} \\approx \\sum_{i=0}^{N_0-1}\\sum_{j=0}^{N_1-1} u(x_i, y_j) \\overline{v}(x_i, y_j) \\omega^{(x)}_i \\omega_j^{(y)} ,\n",
    "$$\n"
   ]
  },
  {
   "cell_type": "markdown",
   "metadata": {
    "slideshow": {
     "slide_type": "slide"
    }
   },
   "source": [
    "# Spectral Galerkin solution procedure\n",
    "\n",
    "1. Choose function space(s) satisfying correct boundary conditions\n",
    "2. Transform PDEs to variational forms with inner products\n",
    "3. Assemble variational forms and solve resulting linear algebra systems"
   ]
  },
  {
   "cell_type": "markdown",
   "metadata": {
    "slideshow": {
     "slide_type": "subslide"
    }
   },
   "source": [
    "# Orthogonal bases \n",
    "<p style=\"margin-bottom:1cm;\">\n",
    "\n",
    "| Family    | Basis                                    | Domain    |\n",
    "|  :---:    |         :---:                            |   :---:   |\n",
    "| Chebyshev | $$\\{T_k\\}_{k=0}^{N-1}$$                  | $$[-1, 1]$$ |\n",
    "| Legendre  | $$\\{L_k\\}_{k=0}^{N-1}$$                  | $$[-1, 1]$$ |\n",
    "| Fourier   | $$\\{\\exp(\\text{i}kx)\\}_{k=-N/2}^{N/2-1}$$| $$[0, 2\\pi]$$ |\n",
    "| Hermite   | $$\\{H_k\\}_{k=0}^{N-1}$$                  | $$[-\\infty, \\infty]$$|\n",
    "| Laguerre  | $$\\{La_k\\}_{k=0}^{N-1}$$                 | $$[0, \\infty]$$ |\n"
   ]
  },
  {
   "cell_type": "code",
   "execution_count": 3,
   "metadata": {
    "slideshow": {
     "slide_type": "fragment"
    }
   },
   "outputs": [
    {
     "name": "stdout",
     "output_type": "stream",
     "text": [
      "[[ 0.98078528  0.39269908]\n",
      " [ 0.83146961  0.39269908]\n",
      " [ 0.55557023  0.39269908]\n",
      " [ 0.19509032  0.39269908]\n",
      " [-0.19509032  0.39269908]\n",
      " [-0.55557023  0.39269908]\n",
      " [-0.83146961  0.39269908]\n",
      " [-0.98078528  0.39269908]]\n"
     ]
    }
   ],
   "source": [
    "from shenfun import *\n",
    "N = 8\n",
    "C = FunctionSpace(N, 'Chebyshev')\n",
    "L = FunctionSpace(N, 'Legendre')\n",
    "x, w = C.points_and_weights()\n",
    "print(np.vstack((x, w)).T)"
   ]
  },
  {
   "cell_type": "markdown",
   "metadata": {
    "slideshow": {
     "slide_type": "subslide"
    }
   },
   "source": [
    "# Shen's bases with Dirichlet bcs\n",
    "<p style=\"margin-bottom:1cm;\">\n",
    "\n",
    "\n",
    "| family    | Basis                 | Boundary condition |\n",
    "|-----------|-----------------------|----------|\n",
    "| Chebyshev | $$\\{T_k-T_{k+2}\\}_{k=0}^{N-3}$$ | $$u(\\pm 1) = 0$$ |\n",
    "| Legendre  | $$\\{L_k-L_{k+2}\\}_{k=0}^{N-3}$$ | $$u(\\pm 1) = 0$$ |\n",
    "| Hermite   | $$\\exp(-x^2)\\{H_k\\}_{k=0}^{N-1}$$ | $$u(\\pm \\infty) = 0$$ |\n",
    "| Laguerre  | $$\\exp(-x/2)\\{La_k-La_{k+1}\\}_{k=0}^{N-2}$$| $$u(0) = u(\\infty) = 0$$ |"
   ]
  },
  {
   "cell_type": "code",
   "execution_count": 4,
   "metadata": {
    "slideshow": {
     "slide_type": "fragment"
    }
   },
   "outputs": [],
   "source": [
    "C0 = FunctionSpace(N, 'Chebyshev', bc=(0, 0))\n",
    "L0 = FunctionSpace(N, 'Legendre', bc=(0, 0))\n",
    "H0 = FunctionSpace(N, 'Hermite')\n",
    "La = FunctionSpace(N, 'Laguerre', bc=(0, None))"
   ]
  },
  {
   "cell_type": "markdown",
   "metadata": {
    "slideshow": {
     "slide_type": "subslide"
    }
   },
   "source": [
    "# Shen's bases with Neumann $u'(\\pm 1) = 0$\n",
    "\n",
    "<p style=\"margin-bottom:1cm;\">\n",
    "\n",
    "| family    | Basis                 |\n",
    "|-----------|-----------------------|\n",
    "| Chebyshev | $$\\left\\{T_k-\\frac{k^2}{(k+2)^2}T_{k+2}\\right\\}_{k=0}^{N-3}$$ | \n",
    "| Legendre  | $$\\left\\{L_k-\\frac{k(k+1)}{(k+2)(k+3)}L_{k+2}\\right\\}_{k=0}^{N-3}$$ |"
   ]
  },
  {
   "cell_type": "code",
   "execution_count": 5,
   "metadata": {
    "slideshow": {
     "slide_type": "fragment"
    }
   },
   "outputs": [],
   "source": [
    "CN = FunctionSpace(N, 'Chebyshev', bc={'left': {'N': 0}, 'right': {'N': 0}})\n",
    "LN = FunctionSpace(N, 'Legendre', bc={'left': {'N': 0}, 'right': {'N': 0}})"
   ]
  },
  {
   "cell_type": "markdown",
   "metadata": {
    "slideshow": {
     "slide_type": "fragment"
    }
   },
   "source": [
    "# Shen's biharmonic bases $u(\\pm 1) = u'(\\pm 1) = 0$\n",
    "<p style=\"margin-bottom:1cm;\">\n",
    "\n",
    "| family    | Basis                 |\n",
    "|-----------| :-----------------:   |\n",
    "| Chebyshev | $$\\left\\{T_k-\\frac{2(k+2)}{k+3}T_{k+2}+\\frac{k+1}{k+3} T_{k+4}\\right\\}_{k=0}^{N-5}$$ | \n",
    "| Legendre  | $$\\left\\{L_k-\\frac{2(2k+5)}{(2k+7)}L_{k+2}+\\frac{2k+3}{2k+7}L_{k+4}\\right\\}_{k=0}^{N-5}$$ |\n"
   ]
  },
  {
   "cell_type": "code",
   "execution_count": 6,
   "metadata": {
    "slideshow": {
     "slide_type": "fragment"
    }
   },
   "outputs": [],
   "source": [
    "CB = FunctionSpace(N, 'Chebyshev', bc=(0, 0, 0, 0))\n",
    "LB = FunctionSpace(N, 'Legendre', bc=(0, 0, 0, 0))"
   ]
  },
  {
   "cell_type": "markdown",
   "metadata": {
    "slideshow": {
     "slide_type": "subslide"
    }
   },
   "source": [
    "# Multidimensional tensor product spaces\n",
    "<p style=\"margin-bottom:0.5cm;\">\n",
    "\n",
    "$$\n",
    "\\begin{align}\n",
    "L_0 &= \\{L_k(x)-L_{k+2}(x)\\}_{k=0}^{N-3} \\\\\n",
    "C_0 &= \\{T_k(x)-T_{k+2}(x)\\}_{k=0}^{N-3} \\\\\n",
    "L_1 &= \\{L_l(y)\\}_{l=0}^{N-1} \\\\\n",
    "LL(x, y) &= L_0(x) \\times L_1(y) \\\\\n",
    "CL(x, y) &= C_0(x) \\times L_1(y)\n",
    "\\end{align}\n",
    "$$\n"
   ]
  },
  {
   "cell_type": "code",
   "execution_count": 7,
   "metadata": {
    "slideshow": {
     "slide_type": "fragment"
    }
   },
   "outputs": [],
   "source": [
    "L0 = FunctionSpace(N, 'Legendre', bc=(0, 0))\n",
    "C0 = FunctionSpace(N, 'Chebyshev', bc=(0, 0))\n",
    "L1 = FunctionSpace(N, 'Legendre')\n",
    "LL = TensorProductSpace(comm, (L0, L1)) # comm is MPI.COMM_WORLD\n",
    "CL = TensorProductSpace(comm, (C0, L1))"
   ]
  },
  {
   "cell_type": "markdown",
   "metadata": {
    "slideshow": {
     "slide_type": "subslide"
    }
   },
   "source": [
    "# Basis functions can be created for all bases\n"
   ]
  },
  {
   "cell_type": "code",
   "execution_count": 8,
   "metadata": {
    "slideshow": {
     "slide_type": "fragment"
    }
   },
   "outputs": [],
   "source": [
    "L0 = FunctionSpace(N, 'Legendre', bc=(0, 0))\n",
    "L1 = FunctionSpace(N, 'Legendre')\n",
    "\n",
    "# 1D\n",
    "u = TrialFunction(L0)\n",
    "v = TestFunction(L0)\n",
    "uh = Function(L0)\n",
    "uj = Array(L0)\n",
    "\n",
    "# 2D\n",
    "LL = TensorProductSpace(comm, (L0, L1)) # comm is MPI.COMM_WORLD\n",
    "\n",
    "u = TrialFunction(LL)\n",
    "v = TestFunction(LL)\n",
    "uh = Function(LL)\n",
    "uj = Array(LL)\n"
   ]
  },
  {
   "cell_type": "markdown",
   "metadata": {
    "slideshow": {
     "slide_type": "subslide"
    }
   },
   "source": [
    "# The shenfun `Function` represents the solution\n",
    "\n",
    "`uh = Function(L0)`\n",
    "\n",
    "$$\n",
    "u(x) = \\sum_{k=0}^{N-1} \\hat{u}_k \\phi_{k}(x)\n",
    "$$\n",
    "\n",
    "The function evaluated for all quadrature points, $\\{u(x_j)\\}_{j=0}^{N-1}$, is an `Array`\n",
    "\n",
    "`uj = Array(L0)`\n",
    "\n",
    "There is a (fast) `backward` transform for moving from `Function` to `Array`, and a `forward` transform to go the other way. Note that the `Array` is not a basis function!"
   ]
  },
  {
   "cell_type": "code",
   "execution_count": 9,
   "metadata": {
    "slideshow": {
     "slide_type": "fragment"
    }
   },
   "outputs": [],
   "source": [
    "L0 = FunctionSpace(N, 'Legendre', bc=(0, 0))\n",
    "uh = Function(L0)\n",
    "uj = Array(L0)\n",
    "\n",
    "# Move back and forth\n",
    "uj = uh.backward(uj)\n",
    "uh = uj.forward(uh)"
   ]
  },
  {
   "cell_type": "markdown",
   "metadata": {
    "slideshow": {
     "slide_type": "subslide"
    }
   },
   "source": [
    "# Operators in shenfun act on basis functions\n",
    "\n",
    "`u` is an instance of either `TestFunction`, `TrialFunction` or `Function`\n",
    "\n",
    "- `div(u)`\n",
    "- `grad(u)`\n",
    "- `curl(u)`\n",
    "- `Dx(u, 0, 1)` (partial derivative in x-direction)\n",
    "\n",
    "# Assembly\n",
    "- `project`\n",
    "- `inner`"
   ]
  },
  {
   "cell_type": "code",
   "execution_count": 10,
   "metadata": {
    "slideshow": {
     "slide_type": "fragment"
    }
   },
   "outputs": [],
   "source": [
    "L0 = FunctionSpace(N, 'Legendre', bc=(0, 0))\n",
    "L1 = FunctionSpace(N, 'Legendre')\n",
    "u = TrialFunction(L0)\n",
    "v = TestFunction(L0)\n",
    "uh = Function(L0)\n",
    "du = grad(u)  # vector valued expression\n",
    "g = div(du)   # scalar valued expression\n",
    "c = project(Dx(uh, 0, 1), L1) # project expressions with Functions"
   ]
  },
  {
   "cell_type": "markdown",
   "metadata": {
    "slideshow": {
     "slide_type": "subslide"
    }
   },
   "source": [
    "# Implementation closely matches mathematics\n",
    "<p style=\"margin-bottom:1cm;\">\n",
    "\n",
    "$$\n",
    "A = (\\nabla u, \\nabla v)_w^N\n",
    "$$"
   ]
  },
  {
   "cell_type": "code",
   "execution_count": 11,
   "metadata": {
    "slideshow": {
     "slide_type": "fragment"
    }
   },
   "outputs": [],
   "source": [
    "A = inner(grad(u), grad(v))"
   ]
  },
  {
   "cell_type": "code",
   "execution_count": 12,
   "metadata": {
    "slideshow": {
     "slide_type": "fragment"
    }
   },
   "outputs": [
    {
     "data": {
      "text/plain": [
       "{0: array([ 6., 10., 14., 18., 22., 26.])}"
      ]
     },
     "execution_count": 12,
     "metadata": {},
     "output_type": "execute_result"
    }
   ],
   "source": [
    "dict(A)"
   ]
  },
  {
   "cell_type": "code",
   "execution_count": 13,
   "metadata": {
    "slideshow": {
     "slide_type": "fragment"
    }
   },
   "outputs": [
    {
     "name": "stdout",
     "output_type": "stream",
     "text": [
      "[[ 6.  0.  0.  0.  0.  0.]\n",
      " [ 0. 10.  0.  0.  0.  0.]\n",
      " [ 0.  0. 14.  0.  0.  0.]\n",
      " [ 0.  0.  0. 18.  0.  0.]\n",
      " [ 0.  0.  0.  0. 22.  0.]\n",
      " [ 0.  0.  0.  0.  0. 26.]]\n"
     ]
    }
   ],
   "source": [
    "print(A.diags().todense())"
   ]
  },
  {
   "cell_type": "markdown",
   "metadata": {
    "slideshow": {
     "slide_type": "fragment"
    }
   },
   "source": [
    "A diagonal stiffness matrix!"
   ]
  },
  {
   "cell_type": "markdown",
   "metadata": {
    "slideshow": {
     "slide_type": "subslide"
    }
   },
   "source": [
    "# Complete Poisson solver with error verification in 1D"
   ]
  },
  {
   "cell_type": "code",
   "execution_count": 14,
   "metadata": {
    "slideshow": {
     "slide_type": "fragment"
    }
   },
   "outputs": [
    {
     "name": "stdout",
     "output_type": "stream",
     "text": [
      "[ 3.35399536e-16  3.00596323e-16 -2.30645922e-16 ...  2.30663714e-16\n",
      " -3.00589159e-16 -3.35397465e-16]\n"
     ]
    }
   ],
   "source": [
    "# Solve Poisson's equation\n",
    "from sympy import symbols, sin, lambdify\n",
    "from shenfun import * \n",
    "\n",
    "# Use sympy to compute manufactured solution\n",
    "x = symbols(\"x\")\n",
    "ue = sin(4*np.pi*x)*(1-x**2) # `ue` is the manufactured solution\n",
    "fe = ue.diff(x, 2) # `fe` is Poisson's right hand side for `ue`\n",
    "\n",
    "SD = FunctionSpace(2000, 'L', bc=(0, 0))\n",
    "u = TrialFunction(SD)\n",
    "v = TestFunction(SD)\n",
    "\n",
    "b = inner(v, Array(SD, buffer=fe)) # Array is initialized with `fe`\n",
    "A = inner(v, div(grad(u)))\n",
    "\n",
    "uh = Function(SD)\n",
    "uh = A.solve(b, uh)  # Very fast O(N) solver\n",
    "print(uh.backward()-Array(SD, buffer=ue))"
   ]
  },
  {
   "cell_type": "markdown",
   "metadata": {
    "slideshow": {
     "slide_type": "slide"
    }
   },
   "source": [
    "# 2D - Implementation still closely matching mathematics"
   ]
  },
  {
   "cell_type": "code",
   "execution_count": 15,
   "metadata": {
    "slideshow": {
     "slide_type": "fragment"
    }
   },
   "outputs": [],
   "source": [
    "L0 = FunctionSpace(N, 'Legendre', bc=(0, 0))\n",
    "F1 = FunctionSpace(N, 'Fourier', dtype='d')\n",
    "TP = TensorProductSpace(comm, (L0, F1))\n",
    "u = TrialFunction(TP)\n",
    "v = TestFunction(TP)\n",
    "A = inner(grad(u), grad(v))"
   ]
  },
  {
   "cell_type": "code",
   "execution_count": 16,
   "metadata": {
    "slideshow": {
     "slide_type": "fragment"
    }
   },
   "outputs": [
    {
     "name": "stdout",
     "output_type": "stream",
     "text": [
      "[<shenfun.matrixbase.TPMatrix object at 0x19d58bc70>, <shenfun.matrixbase.TPMatrix object at 0x19d58ba90>]\n"
     ]
    }
   ],
   "source": [
    "print(A)"
   ]
  },
  {
   "cell_type": "markdown",
   "metadata": {
    "slideshow": {
     "slide_type": "fragment"
    }
   },
   "source": [
    "# ? \n",
    "\n",
    "A is a list of two TPMatrix objects???\n"
   ]
  },
  {
   "cell_type": "markdown",
   "metadata": {
    "slideshow": {
     "slide_type": "subslide"
    }
   },
   "source": [
    "# `TPMatrix` is a Tensor Product matrix\n",
    "\n",
    "A `TPMatrix` is the outer product of smaller matrices (2 in 2D, 3 in 3D etc).  \n",
    "\n",
    "Consider the inner product:\n",
    "\n",
    "$$\n",
    "\\begin{align}\n",
    "(\\nabla u, \\nabla v)_w &=\\int_{-1}^{1}\\int_{0}^{2\\pi} \\left(\\frac{\\partial u}{\\partial x}, \\frac{\\partial u}{\\partial y}\\right) \\cdot \\left(\\frac{\\partial \\overline{v}}{\\partial x}, \\frac{\\partial \\overline{v}}{\\partial y}\\right)  \\frac{dxdy}{2\\pi} \\\\\n",
    "(\\nabla u, \\nabla v)_w &= \\int_{-1}^1 \\int_{0}^{2\\pi} \\frac{\\partial u}{\\partial x}\\frac{\\partial \\overline{v}}{\\partial x} \\frac{dxdy}{2\\pi} + \\int_{-1}^1 \\int_{0}^{2\\pi} \\frac{\\partial u}{\\partial y}\\frac{\\partial \\overline{v}}{\\partial y} \\frac{dxdy}{2\\pi}\n",
    "\\end{align}\n",
    "$$\n",
    "\n",
    "which, like `A`, is a sum of two terms. These two terms are the two `TPMatrix`es returned by `inner` above.\n",
    "\n",
    "Now each one of these two terms can be written as the outer product of two smaller matrices. "
   ]
  },
  {
   "cell_type": "markdown",
   "metadata": {
    "slideshow": {
     "slide_type": "subslide"
    }
   },
   "source": [
    "Consider the first, inserting for test and trial functions\n",
    "\n",
    "$$\n",
    "\\begin{align}\n",
    "v &= \\phi_{kl} = (L_k(x)-L_{k+2}(x))\\exp(\\text{i}ly) \\\\\n",
    "u &= \\phi_{mn}\n",
    "\\end{align}\n",
    "$$\n",
    "\n",
    "The first term becomes\n",
    "\n",
    "$$\n",
    "\\small\n",
    "\\begin{align}\n",
    "\\int_{-1}^1 \\int_{0}^{2\\pi} \\frac{\\partial u}{\\partial x}\\frac{\\partial \\overline{v}}{\\partial x} \\frac{dxdy}{2\\pi} &= \\underbrace{\\int_{-1}^1 \\frac{\\partial (L_m-L_{m+2})}{\\partial x}\\frac{\\partial (L_k-L_{k+2})}{\\partial x} {dx}}_{a_{km}} \\underbrace{\\int_{0}^{2\\pi}  \\exp(iny) \\exp(-ily) \\frac{dy}{2\\pi}}_{\\delta_{ln}} \\\\\n",
    "   &= a_{km} \\delta_{ln}\n",
    "\\end{align}\n",
    "$$\n",
    "\n",
    "and the second\n",
    "\n",
    "$$\n",
    "\\small\n",
    "\\begin{align}\n",
    "\\int_{-1}^1 \\int_{0}^{2\\pi} \\frac{\\partial u}{\\partial y}\\frac{\\partial \\overline{v}}{\\partial y} \\frac{dxdy}{2\\pi} &= \\underbrace{\\int_{-1}^1 (L_m-L_{m+2})(L_k-L_{k+2}) {dx}}_{b_{km}} \\underbrace{\\int_{0}^{2\\pi} ln \\exp(iny) \\exp(-ily)\\frac{dy}{2\\pi}}_{l^2\\delta_{ln}} \\\\\n",
    "   &= l^2 b_{km} \\delta_{ln}\n",
    "\\end{align}\n",
    "$$\n",
    "\n",
    "All in all:\n",
    "\n",
    "$$\n",
    "(\\nabla u, \\nabla v)_w = \\left(a_{km} \\delta_{ln} + l^2 b_{km} \\delta_{ln}\\right)\n",
    "$$"
   ]
  },
  {
   "cell_type": "markdown",
   "metadata": {
    "slideshow": {
     "slide_type": "subslide"
    }
   },
   "source": [
    "$$\n",
    "(\\nabla u, \\nabla v)_w = \\left(a_{km} \\delta_{ln} + l^2 b_{km} \\delta_{ln}\\right)\n",
    "$$"
   ]
  },
  {
   "cell_type": "code",
   "execution_count": 17,
   "metadata": {
    "slideshow": {
     "slide_type": "fragment"
    }
   },
   "outputs": [
    {
     "name": "stdout",
     "output_type": "stream",
     "text": [
      "[<shenfun.legendre.matrices.ASDSDmat object at 0x19d58b130>, <shenfun.fourier.matrices.FourierMatrix object at 0x19d58a560>]\n",
      "Or as dense matrices:\n",
      "[[ 6.  0.  0.  0.  0.  0.]\n",
      " [ 0. 10.  0.  0.  0.  0.]\n",
      " [ 0.  0. 14.  0.  0.  0.]\n",
      " [ 0.  0.  0. 18.  0.  0.]\n",
      " [ 0.  0.  0.  0. 22.  0.]\n",
      " [ 0.  0.  0.  0.  0. 26.]]\n",
      "[[1. 0. 0. 0. 0.]\n",
      " [0. 1. 0. 0. 0.]\n",
      " [0. 0. 1. 0. 0.]\n",
      " [0. 0. 0. 1. 0.]\n",
      " [0. 0. 0. 0. 1.]]\n"
     ]
    }
   ],
   "source": [
    "A = inner(grad(u), grad(v)) # <- list of two TPMatrices\n",
    "print(A[0].mats)\n",
    "print('Or as dense matrices:')\n",
    "for mat in A[0].mats:\n",
    "    print(mat.diags().todense())"
   ]
  },
  {
   "cell_type": "code",
   "execution_count": 18,
   "metadata": {
    "slideshow": {
     "slide_type": "fragment"
    }
   },
   "outputs": [
    {
     "name": "stdout",
     "output_type": "stream",
     "text": [
      "[<shenfun.legendre.matrices.BSDSDmat object at 0x19d58a3b0>, <shenfun.fourier.matrices.FourierMatrix object at 0x19d58a290>]\n",
      "[[1]]\n"
     ]
    }
   ],
   "source": [
    "print(A[1].mats)\n",
    "print(A[1].scale) # l^2"
   ]
  },
  {
   "cell_type": "markdown",
   "metadata": {
    "slideshow": {
     "slide_type": "slide"
    }
   },
   "source": [
    "# 3D Poisson (with MPI and Fourier x 2)"
   ]
  },
  {
   "cell_type": "code",
   "execution_count": 19,
   "metadata": {
    "slideshow": {
     "slide_type": "fragment"
    }
   },
   "outputs": [
    {
     "name": "stdout",
     "output_type": "stream",
     "text": [
      "(32, 32, 17)\n"
     ]
    }
   ],
   "source": [
    "import matplotlib.pyplot as plt\n",
    "from sympy import symbols, sin, cos, lambdify\n",
    "from shenfun import *\n",
    "\n",
    "# Use sympy to compute manufactured solution\n",
    "x, y, z = symbols(\"x,y,z\")\n",
    "ue = (cos(4*x) + sin(2*y) + sin(4*z))*(1-x**2)\n",
    "fe = ue.diff(x, 2) + ue.diff(y, 2) + ue.diff(z, 2)\n",
    "\n",
    "C0 = FunctionSpace(32, 'Chebyshev', bc=(0, 0))\n",
    "F1 = FunctionSpace(32, 'Fourier', dtype='D')\n",
    "F2 = FunctionSpace(32, 'Fourier', dtype='d')\n",
    "T = TensorProductSpace(comm, (C0, F1, F2))\n",
    "u = TrialFunction(T)\n",
    "v = TestFunction(T)\n",
    "\n",
    "# Assemble left and right hand\n",
    "f_hat = inner(v, Array(T, buffer=fe))\n",
    "A = inner(v, div(grad(u)))\n",
    "\n",
    "# Solve\n",
    "solver = chebyshev.la.Helmholtz(*A) # Very fast O(N) solver\n",
    "u_hat = Function(T)\n",
    "u_hat = solver(f_hat, u_hat)\n",
    "assert np.linalg.norm(u_hat.backward()-Array(T, buffer=ue)) < 1e-12\n",
    "print(u_hat.shape)"
   ]
  },
  {
   "cell_type": "markdown",
   "metadata": {
    "slideshow": {
     "slide_type": "subslide"
    }
   },
   "source": [
    "# Contour plot of slice with constant y"
   ]
  },
  {
   "cell_type": "code",
   "execution_count": 20,
   "metadata": {
    "slideshow": {
     "slide_type": "fragment"
    }
   },
   "outputs": [
    {
     "data": {
      "text/plain": [
       "<matplotlib.colorbar.Colorbar at 0x19e89f0d0>"
      ]
     },
     "execution_count": 20,
     "metadata": {},
     "output_type": "execute_result"
    },
    {
     "data": {
      "image/png": "[encoded data removed]",
      "text/plain": [
       "<Figure size 432x288 with 2 Axes>"
      ]
     },
     "metadata": {
      "needs_background": "light"
     },
     "output_type": "display_data"
    }
   ],
   "source": [
    "X = T.local_mesh()\n",
    "ua = u_hat.backward()\n",
    "plt.contourf(X[2][0, 0, :], X[0][:, 0, 0], ua[:, 2], 100)\n",
    "plt.colorbar()"
   ]
  },
  {
   "cell_type": "markdown",
   "metadata": {
    "slideshow": {
     "slide_type": "subslide"
    }
   },
   "source": [
    "# Run with MPI distribution of arrays\n",
    "\n",
    "Here we would normally run from a bash shell\n",
    "<p style=\"margin-bottom:0.5cm;\">\n",
    "\n",
    "<div style=\"color:black\"> <strong>[bash shell] mpirun -np 4 python poisson3D.py </strong> </div>\n",
    "\n",
    "But since we are in a Jupyter notebook lets actually do this from python in a live cell:-)"
   ]
  },
  {
   "cell_type": "code",
   "execution_count": 21,
   "metadata": {
    "slideshow": {
     "slide_type": "fragment"
    }
   },
   "outputs": [
    {
     "data": {
      "text/plain": [
       "b'(32, 16, 8)\\n(32, 16, 9)\\n(32, 16, 9)\\n(32, 16, 8)\\n'"
      ]
     },
     "execution_count": 21,
     "metadata": {},
     "output_type": "execute_result"
    }
   ],
   "source": [
    "import subprocess\n",
    "subprocess.check_output('mpirun -np 4 python poisson3D.py', shell=True)"
   ]
  },
  {
   "cell_type": "markdown",
   "metadata": {
    "slideshow": {
     "slide_type": "fragment"
    }
   },
   "source": [
    "Note that Fourier bases are especially attractive because of features easily handled with MPI:\n",
    "\n",
    "    - diagonal matrices\n",
    "    - fast transforms"
   ]
  },
  {
   "cell_type": "markdown",
   "metadata": {
    "slideshow": {
     "slide_type": "subslide"
    }
   },
   "source": [
    "# mpi4py-fft\n",
    "\n",
    "<p style=\"margin-bottom:1cm;\">\n",
    "\n",
    "<div class=\"sl-block is-focused\" data-block-type=\"image\" style=\"min-width: 4px; min-height: 4px; width: 256px; height: 65px; left: 0px; top: 280px;\" data-origin-id=\"e9caa44395810f9c496e1903dd61aba2\"><img data-natural-width=\"1280\" data-natural-height=\"325\" style=\"\" data-lazy-loaded=\"\" src=\"https://s3.amazonaws.com/media-p.slid.es/uploads/92046/images/4253090/BitBucket_SVG_Logo.svg.png\"></div>\n",
    "\n",
    "by Mikael Mortensen and Lisandro Dalcin\n",
    "\n",
    "Highly configurable Python package for distributing multidimensional arrays and for computing fast Fourier Transforms (FFTs) in parallel. Wraps [FFTW](http://www.fftw.org/) and lies at the core of `shenfun` and distributes large arrays.\n",
    "\n",
    "<div>\n",
    "<img src=\"https://rawcdn.githack.com/spectralDNS/spectralutilities/7777e58e1e81887149d1eaf6053e33769ee4a3f5/figures/pencil2.png\" style=\"float:left\" width=320> <img src=\"https://rawcdn.githack.com/spectralDNS/spectralutilities/7777e58e1e81887149d1eaf6053e33769ee4a3f5/figures/pencil3.png\" style=\"float:right\" width=320>\n",
    "</div>\n",
    "\n",
    "[![mpi4py-fft](https://anaconda.org/conda-forge/mpi4py-fft/badges/downloads.svg)](https://anaconda.org/conda-forge/mpi4py-fft)"
   ]
  },
  {
   "cell_type": "markdown",
   "metadata": {
    "slideshow": {
     "slide_type": "slide"
    }
   },
   "source": [
    "# Nonlinearities and convolutions\n",
    "All treated with pseudo-spectral techniques. For example\n",
    "\n",
    "$$\n",
    "\\begin{align}\n",
    "\\hat{w}_k &= \\widehat{\\mathbf{u} \\cdot \\mathbf{u}}_k \\\\\n",
    "          &\\text{or} \\\\\n",
    "\\hat{w}_k &= \\widehat{|\\nabla f|^2}_k\n",
    "\\end{align}\n",
    "$$\n",
    "\n",
    "Nonlinear terms are computed in real space and then forward transformed to spectral space.\n",
    "\n",
    "3/2-rule or 2/3-rule possible for dealiasing of Fourier."
   ]
  },
  {
   "cell_type": "code",
   "execution_count": 22,
   "metadata": {
    "slideshow": {
     "slide_type": "fragment"
    }
   },
   "outputs": [],
   "source": [
    "V = VectorSpace(T)\n",
    "u = Array(V)\n",
    "u[:] = np.random.random(u.shape)\n",
    "w = np.sum(u*u, axis=0)\n",
    "wh = Function(T)\n",
    "wh = T.forward(w, wh)"
   ]
  },
  {
   "cell_type": "markdown",
   "metadata": {
    "slideshow": {
     "slide_type": "slide"
    }
   },
   "source": [
    "# Mixed tensor product spaces\n",
    "\n",
    "Solve several equations simultaneously\n",
    "\n",
    "- Coupled equations\n",
    "- Block matrices and vectors\n",
    "- Tensor spaces of vectors, like velocity $u \\in [\\mathbb{R}^3]^3$"
   ]
  },
  {
   "cell_type": "markdown",
   "metadata": {
    "slideshow": {
     "slide_type": "subslide"
    }
   },
   "source": [
    "# Stokes equations\n",
    "### lid-driven cavity - coupled solver\n",
    "<p style=\"margin-bottom:0.25cm;\">\n",
    "\n",
    "$$\n",
    "\\begin{align*}\n",
    "\\nabla^2 \\mathbf{u} - \\nabla p &= \\mathbf{f} \\quad \\text{in }  \\Omega, \\quad \\quad \\Omega = [-1, 1]\\times[-1, 1]\\\\ \n",
    "\\nabla \\cdot \\mathbf{u} &= h \\quad \\text{in } \\Omega  \\\\ \n",
    "\\int_{\\Omega} p dx &= 0 \\\\\n",
    "\\mathbf{u}(\\pm 1, y) = \\mathbf{u}(x, -1) = (0, 0) &\\text{ and }\\mathbf{u}(x, 1) = (1, 0) \\text{ or } ((1-x^2)(1+x^2), 0)\n",
    "\\end{align*}\n",
    "$$\n",
    "\n",
    "Given appropriate spaces $V$ and $Q$ a variational form reads: find $(\\mathbf{u}, p) \\in V \\times Q$ such that \n",
    "\n",
    "$$\n",
    "\\begin{equation}\n",
    "a((\\mathbf{u}, p), (\\mathbf{v}, q)) = L((\\mathbf{v}, q)) \\quad \\forall (\\mathbf{v}, q) \\in V \\times Q\n",
    "\\end{equation}\n",
    "$$"
   ]
  },
  {
   "cell_type": "markdown",
   "metadata": {
    "slideshow": {
     "slide_type": "fragment"
    }
   },
   "source": [
    "where bilinear and linear forms are, respectively\n",
    "\n",
    "$$\n",
    "\\begin{equation}\n",
    "    a((\\mathbf{u}, p), (\\mathbf{v}, q)) = \\int_{\\Omega} (\\nabla^2 \\mathbf{u} - \\nabla p) \\cdot {\\mathbf{v}} \\, dx_w + \\int_{\\Omega} \\nabla \\cdot \\mathbf{u} \\, {q} \\, dx_w,\n",
    "\\end{equation}\n",
    "$$\n",
    "$$\n",
    "\\begin{equation}  \n",
    "    L((\\mathbf{v}, q)) = \\int_{\\Omega} \\mathbf{f} \\cdot {\\mathbf{v}}\\, dx_w + \\int_{\\Omega} h {q} \\, dx_w\n",
    "\\end{equation}\n",
    "$$"
   ]
  },
  {
   "cell_type": "markdown",
   "metadata": {
    "slideshow": {
     "slide_type": "subslide"
    }
   },
   "source": [
    "Using integration by parts for Legendre (not really necessary, but looks nicer and more familiar:-)\n",
    "\n",
    "$$\n",
    "\\begin{equation}\n",
    "    a((\\mathbf{u}, p), (\\mathbf{v}, q)) = -\\int_{\\Omega} \\nabla \\mathbf{u} \\cdot \\nabla{\\mathbf{v}} \\, dx_w + \\int_{\\Omega} \\nabla \\cdot \\mathbf{v} \\, {p} \\, dx_w + \\int_{\\Omega} \\nabla \\cdot \\mathbf{u} \\, {q} \\, dx_w,\n",
    "\\end{equation}\n",
    "$$"
   ]
  },
  {
   "cell_type": "markdown",
   "metadata": {
    "slideshow": {
     "slide_type": "subslide"
    }
   },
   "source": [
    "# Implementation of spaces, basis functions"
   ]
  },
  {
   "cell_type": "code",
   "execution_count": 23,
   "metadata": {
    "slideshow": {
     "slide_type": "fragment"
    }
   },
   "outputs": [],
   "source": [
    "N = (40, 40)\n",
    "D0X = FunctionSpace(N[0], 'Legendre', bc=(0, 0))  # For velocity components 0, 1\n",
    "#D1Y = FunctionSpace(N[1], 'Legendre', bc=(0, 1)) # For velocity component 0 \n",
    "D1Y = FunctionSpace(N[1], 'Legendre', bc=(0, (1-x)**2*(1+x)**2)) # Regularized lid\n",
    "D0Y = FunctionSpace(N[1], 'Legendre', bc=(0, 0))  # For velocity component 1\n",
    "PX = FunctionSpace(N[0], 'Legendre')\n",
    "PY = FunctionSpace(N[1], 'Legendre')\n",
    "\n",
    "# All required spaces\n",
    "V0 = TensorProductSpace(comm, (D0X, D1Y)) # velocity conponent 0\n",
    "V1 = TensorProductSpace(comm, (D0X, D0Y)) # velocity component 1\n",
    "Q = TensorProductSpace(comm, (PX, PY), modify_spaces_inplace=True)    # pressure\n",
    "V = VectorSpace([V0, V1])     # Velocity vector (V0 x V1)\n",
    "VQ = CompositeSpace([V, Q])      # V x Q\n",
    "\n",
    "PX.slice = lambda: slice(0, PX.N-2) # For inf-sup\n",
    "PY.slice = lambda: slice(0, PY.N-2) # For inf-sup\n",
    "\n",
    "# All required test and trial functions\n",
    "up = TrialFunction(VQ)\n",
    "vq = TestFunction(VQ)\n",
    "u, p = up\n",
    "v, q = vq"
   ]
  },
  {
   "cell_type": "markdown",
   "metadata": {
    "slideshow": {
     "slide_type": "subslide"
    }
   },
   "source": [
    "# Implementation Stokes - matrices and solve"
   ]
  },
  {
   "cell_type": "code",
   "execution_count": 24,
   "metadata": {
    "slideshow": {
     "slide_type": "fragment"
    }
   },
   "outputs": [],
   "source": [
    "# Assemble matrices\n",
    "A = inner(grad(v), -grad(u))\n",
    "G = inner(div(v), p)\n",
    "D = inner(q, div(u))\n",
    "\n",
    "# Create Block matrix solver\n",
    "sol = la.BlockMatrixSolver(A+G+D)\n",
    "\n",
    "# Add Functions to hold solution and rhs\n",
    "up_hat = Function(VQ).set_boundary_dofs()\n",
    "fh_hat = Function(VQ)\n",
    "\n",
    "# Solve Stokes problem. Note constraint for pressure\n",
    "up_hat = sol(fh_hat, u=up_hat, constraints=((2, 0, 0),))\n",
    "\n",
    "# Move solution to Array in real space\n",
    "up = up_hat.backward()\n",
    "u_, p_ = up"
   ]
  },
  {
   "cell_type": "code",
   "execution_count": 25,
   "metadata": {
    "slideshow": {
     "slide_type": "subslide"
    }
   },
   "outputs": [
    {
     "data": {
      "text/plain": [
       "<matplotlib.quiver.Quiver at 0x19eaac310>"
      ]
     },
     "execution_count": 25,
     "metadata": {},
     "output_type": "execute_result"
    },
    {
     "data": {
      "image/png": "[encoded data removed]",
      "text/plain": [
       "<Figure size 432x288 with 1 Axes>"
      ]
     },
     "metadata": {
      "needs_background": "light"
     },
     "output_type": "display_data"
    }
   ],
   "source": [
    "X = Q.local_mesh(True)\n",
    "plt.quiver(X[0], X[1], u_[0], u_[1])"
   ]
  },
  {
   "cell_type": "markdown",
   "metadata": {
    "slideshow": {
     "slide_type": "subslide"
    }
   },
   "source": [
    "# Block matrix M\n",
    "$$\n",
    "M =\n",
    "  \\begin{bmatrix}\n",
    "      A[0]+A[1] & 0 & G[0] \\\\\n",
    "      0 & A[2]+A[3] & G[1] \\\\ \n",
    "      D[0] & D[1] & 0\n",
    "  \\end{bmatrix}\n",
    "$$\n",
    "\n",
    "where $D = G^T$ for the Legendre basis, making $M$ symmetric. For Chebyshev $M$ will not be symmetric.\n",
    "\n",
    "Solver through [scipy.sparse.linalg](https://docs.scipy.org/doc/scipy/reference/sparse.linalg.html)\n",
    "\n",
    "For Navier-Stokes of the lid-driven cavity, see https://github.com/spectralDNS/shenfun/blob/master/demo/NavierStokesDrivenCavity.py"
   ]
  },
  {
   "cell_type": "markdown",
   "metadata": {
    "slideshow": {
     "slide_type": "subslide"
    }
   },
   "source": [
    "# Sparsity pattern\n",
    "\n",
    "$$\n",
    "M =\n",
    "  \\begin{bmatrix}\n",
    "      A[0]+A[1] & 0 & G[0] \\\\\n",
    "      0 & A[2]+A[3] & G[1] \\\\ \n",
    "      D[0] & D[1] & 0\n",
    "  \\end{bmatrix}\n",
    "$$"
   ]
  },
  {
   "cell_type": "code",
   "execution_count": 26,
   "metadata": {
    "slideshow": {
     "slide_type": "fragment"
    }
   },
   "outputs": [
    {
     "data": {
      "application/javascript": [
       "/* Put everything inside the global mpl namespace */\n",
       "/* global mpl */\n",
       "window.mpl = {};\n",
       "\n",
       "mpl.get_websocket_type = function () {\n",
       "    if (typeof WebSocket !== 'undefined') {\n",
       "        return WebSocket;\n",
       "    } else if (typeof MozWebSocket !== 'undefined') {\n",
       "        return MozWebSocket;\n",
       "    } else {\n",
       "        alert(\n",
       "            'Your browser does not have WebSocket support. ' +\n",
       "                'Please try Chrome, Safari or Firefox ≥ 6. ' +\n",
       "                'Firefox 4 and 5 are also supported but you ' +\n",
       "                'have to enable WebSockets in about:config.'\n",
       "        );\n",
       "    }\n",
       "};\n",
       "\n",
       "mpl.figure = function (figure_id, websocket, ondownload, parent_element) {\n",
       "    this.id = figure_id;\n",
       "\n",
       "    this.ws = websocket;\n",
       "\n",
       "    this.supports_binary = this.ws.binaryType !== undefined;\n",
       "\n",
       "    if (!this.supports_binary) {\n",
       "        var warnings = document.getElementById('mpl-warnings');\n",
       "        if (warnings) {\n",
       "            warnings.style.display = 'block';\n",
       "            warnings.textContent =\n",
       "                'This browser does not support binary websocket messages. ' +\n",
       "                'Performance may be slow.';\n",
       "        }\n",
       "    }\n",
       "\n",
       "    this.imageObj = new Image();\n",
       "\n",
       "    this.context = undefined;\n",
       "    this.message = undefined;\n",
       "    this.canvas = undefined;\n",
       "    this.rubberband_canvas = undefined;\n",
       "    this.rubberband_context = undefined;\n",
       "    this.format_dropdown = undefined;\n",
       "\n",
       "    this.image_mode = 'full';\n",
       "\n",
       "    this.root = document.createElement('div');\n",
       "    this.root.setAttribute('style', 'display: inline-block');\n",
       "    this._root_extra_style(this.root);\n",
       "\n",
       "    parent_element.appendChild(this.root);\n",
       "\n",
       "    this._init_header(this);\n",
       "    this._init_canvas(this);\n",
       "    this._init_toolbar(this);\n",
       "\n",
       "    var fig = this;\n",
       "\n",
       "    this.waiting = false;\n",
       "\n",
       "    this.ws.onopen = function () {\n",
       "        fig.send_message('supports_binary', { value: fig.supports_binary });\n",
       "        fig.send_message('send_image_mode', {});\n",
       "        if (fig.ratio !== 1) {\n",
       "            fig.send_message('set_device_pixel_ratio', {\n",
       "                device_pixel_ratio: fig.ratio,\n",
       "            });\n",
       "        }\n",
       "        fig.send_message('refresh', {});\n",
       "    };\n",
       "\n",
       "    this.imageObj.onload = function () {\n",
       "        if (fig.image_mode === 'full') {\n",
       "            // Full images could contain transparency (where diff images\n",
       "            // almost always do), so we need to clear the canvas so that\n",
       "            // there is no ghosting.\n",
       "            fig.context.clearRect(0, 0, fig.canvas.width, fig.canvas.height);\n",
       "        }\n",
       "        fig.context.drawImage(fig.imageObj, 0, 0);\n",
       "    };\n",
       "\n",
       "    this.imageObj.onunload = function () {\n",
       "        fig.ws.close();\n",
       "    };\n",
       "\n",
       "    this.ws.onmessage = this._make_on_message_function(this);\n",
       "\n",
       "    this.ondownload = ondownload;\n",
       "};\n",
       "\n",
       "mpl.figure.prototype._init_header = function () {\n",
       "    var titlebar = document.createElement('div');\n",
       "    titlebar.classList =\n",
       "        'ui-dialog-titlebar ui-widget-header ui-corner-all ui-helper-clearfix';\n",
       "    var titletext = document.createElement('div');\n",
       "    titletext.classList = 'ui-dialog-title';\n",
       "    titletext.setAttribute(\n",
       "        'style',\n",
       "        'width: 100%; text-align: center; padding: 3px;'\n",
       "    );\n",
       "    titlebar.appendChild(titletext);\n",
       "    this.root.appendChild(titlebar);\n",
       "    this.header = titletext;\n",
       "};\n",
       "\n",
       "mpl.figure.prototype._canvas_extra_style = function (_canvas_div) {};\n",
       "\n",
       "mpl.figure.prototype._root_extra_style = function (_canvas_div) {};\n",
       "\n",
       "mpl.figure.prototype._init_canvas = function () {\n",
       "    var fig = this;\n",
       "\n",
       "    var canvas_div = (this.canvas_div = document.createElement('div'));\n",
       "    canvas_div.setAttribute(\n",
       "        'style',\n",
       "        'border: 1px solid #ddd;' +\n",
       "            'box-sizing: content-box;' +\n",
       "            'clear: both;' +\n",
       "            'min-height: 1px;' +\n",
       "            'min-width: 1px;' +\n",
       "            'outline: 0;' +\n",
       "            'overflow: hidden;' +\n",
       "            'position: relative;' +\n",
       "            'resize: both;'\n",
       "    );\n",
       "\n",
       "    function on_keyboard_event_closure(name) {\n",
       "        return function (event) {\n",
       "            return fig.key_event(event, name);\n",
       "        };\n",
       "    }\n",
       "\n",
       "    canvas_div.addEventListener(\n",
       "        'keydown',\n",
       "        on_keyboard_event_closure('key_press')\n",
       "    );\n",
       "    canvas_div.addEventListener(\n",
       "        'keyup',\n",
       "        on_keyboard_event_closure('key_release')\n",
       "    );\n",
       "\n",
       "    this._canvas_extra_style(canvas_div);\n",
       "    this.root.appendChild(canvas_div);\n",
       "\n",
       "    var canvas = (this.canvas = document.createElement('canvas'));\n",
       "    canvas.classList.add('mpl-canvas');\n",
       "    canvas.setAttribute('style', 'box-sizing: content-box;');\n",
       "\n",
       "    this.context = canvas.getContext('2d');\n",
       "\n",
       "    var backingStore =\n",
       "        this.context.backingStorePixelRatio ||\n",
       "        this.context.webkitBackingStorePixelRatio ||\n",
       "        this.context.mozBackingStorePixelRatio ||\n",
       "        this.context.msBackingStorePixelRatio ||\n",
       "        this.context.oBackingStorePixelRatio ||\n",
       "        this.context.backingStorePixelRatio ||\n",
       "        1;\n",
       "\n",
       "    this.ratio = (window.devicePixelRatio || 1) / backingStore;\n",
       "\n",
       "    var rubberband_canvas = (this.rubberband_canvas = document.createElement(\n",
       "        'canvas'\n",
       "    ));\n",
       "    rubberband_canvas.setAttribute(\n",
       "        'style',\n",
       "        'box-sizing: content-box; position: absolute; left: 0; top: 0; z-index: 1;'\n",
       "    );\n",
       "\n",
       "    // Apply a ponyfill if ResizeObserver is not implemented by browser.\n",
       "    if (this.ResizeObserver === undefined) {\n",
       "        if (window.ResizeObserver !== undefined) {\n",
       "            this.ResizeObserver = window.ResizeObserver;\n",
       "        } else {\n",
       "            var obs = _JSXTOOLS_RESIZE_OBSERVER({});\n",
       "            this.ResizeObserver = obs.ResizeObserver;\n",
       "        }\n",
       "    }\n",
       "\n",
       "    this.resizeObserverInstance = new this.ResizeObserver(function (entries) {\n",
       "        var nentries = entries.length;\n",
       "        for (var i = 0; i < nentries; i++) {\n",
       "            var entry = entries[i];\n",
       "            var width, height;\n",
       "            if (entry.contentBoxSize) {\n",
       "                if (entry.contentBoxSize instanceof Array) {\n",
       "                    // Chrome 84 implements new version of spec.\n",
       "                    width = entry.contentBoxSize[0].inlineSize;\n",
       "                    height = entry.contentBoxSize[0].blockSize;\n",
       "                } else {\n",
       "                    // Firefox implements old version of spec.\n",
       "                    width = entry.contentBoxSize.inlineSize;\n",
       "                    height = entry.contentBoxSize.blockSize;\n",
       "                }\n",
       "            } else {\n",
       "                // Chrome <84 implements even older version of spec.\n",
       "                width = entry.contentRect.width;\n",
       "                height = entry.contentRect.height;\n",
       "            }\n",
       "\n",
       "            // Keep the size of the canvas and rubber band canvas in sync with\n",
       "            // the canvas container.\n",
       "            if (entry.devicePixelContentBoxSize) {\n",
       "                // Chrome 84 implements new version of spec.\n",
       "                canvas.setAttribute(\n",
       "                    'width',\n",
       "                    entry.devicePixelContentBoxSize[0].inlineSize\n",
       "                );\n",
       "                canvas.setAttribute(\n",
       "                    'height',\n",
       "                    entry.devicePixelContentBoxSize[0].blockSize\n",
       "                );\n",
       "            } else {\n",
       "                canvas.setAttribute('width', width * fig.ratio);\n",
       "                canvas.setAttribute('height', height * fig.ratio);\n",
       "            }\n",
       "            canvas.setAttribute(\n",
       "                'style',\n",
       "                'width: ' + width + 'px; height: ' + height + 'px;'\n",
       "            );\n",
       "\n",
       "            rubberband_canvas.setAttribute('width', width);\n",
       "            rubberband_canvas.setAttribute('height', height);\n",
       "\n",
       "            // And update the size in Python. We ignore the initial 0/0 size\n",
       "            // that occurs as the element is placed into the DOM, which should\n",
       "            // otherwise not happen due to the minimum size styling.\n",
       "            if (fig.ws.readyState == 1 && width != 0 && height != 0) {\n",
       "                fig.request_resize(width, height);\n",
       "            }\n",
       "        }\n",
       "    });\n",
       "    this.resizeObserverInstance.observe(canvas_div);\n",
       "\n",
       "    function on_mouse_event_closure(name) {\n",
       "        return function (event) {\n",
       "            return fig.mouse_event(event, name);\n",
       "        };\n",
       "    }\n",
       "\n",
       "    rubberband_canvas.addEventListener(\n",
       "        'mousedown',\n",
       "        on_mouse_event_closure('button_press')\n",
       "    );\n",
       "    rubberband_canvas.addEventListener(\n",
       "        'mouseup',\n",
       "        on_mouse_event_closure('button_release')\n",
       "    );\n",
       "    rubberband_canvas.addEventListener(\n",
       "        'dblclick',\n",
       "        on_mouse_event_closure('dblclick')\n",
       "    );\n",
       "    // Throttle sequential mouse events to 1 every 20ms.\n",
       "    rubberband_canvas.addEventListener(\n",
       "        'mousemove',\n",
       "        on_mouse_event_closure('motion_notify')\n",
       "    );\n",
       "\n",
       "    rubberband_canvas.addEventListener(\n",
       "        'mouseenter',\n",
       "        on_mouse_event_closure('figure_enter')\n",
       "    );\n",
       "    rubberband_canvas.addEventListener(\n",
       "        'mouseleave',\n",
       "        on_mouse_event_closure('figure_leave')\n",
       "    );\n",
       "\n",
       "    canvas_div.addEventListener('wheel', function (event) {\n",
       "        if (event.deltaY < 0) {\n",
       "            event.step = 1;\n",
       "        } else {\n",
       "            event.step = -1;\n",
       "        }\n",
       "        on_mouse_event_closure('scroll')(event);\n",
       "    });\n",
       "\n",
       "    canvas_div.appendChild(canvas);\n",
       "    canvas_div.appendChild(rubberband_canvas);\n",
       "\n",
       "    this.rubberband_context = rubberband_canvas.getContext('2d');\n",
       "    this.rubberband_context.strokeStyle = '#000000';\n",
       "\n",
       "    this._resize_canvas = function (width, height, forward) {\n",
       "        if (forward) {\n",
       "            canvas_div.style.width = width + 'px';\n",
       "            canvas_div.style.height = height + 'px';\n",
       "        }\n",
       "    };\n",
       "\n",
       "    // Disable right mouse context menu.\n",
       "    this.rubberband_canvas.addEventListener('contextmenu', function (_e) {\n",
       "        event.preventDefault();\n",
       "        return false;\n",
       "    });\n",
       "\n",
       "    function set_focus() {\n",
       "        canvas.focus();\n",
       "        canvas_div.focus();\n",
       "    }\n",
       "\n",
       "    window.setTimeout(set_focus, 100);\n",
       "};\n",
       "\n",
       "mpl.figure.prototype._init_toolbar = function () {\n",
       "    var fig = this;\n",
       "\n",
       "    var toolbar = document.createElement('div');\n",
       "    toolbar.classList = 'mpl-toolbar';\n",
       "    this.root.appendChild(toolbar);\n",
       "\n",
       "    function on_click_closure(name) {\n",
       "        return function (_event) {\n",
       "            return fig.toolbar_button_onclick(name);\n",
       "        };\n",
       "    }\n",
       "\n",
       "    function on_mouseover_closure(tooltip) {\n",
       "        return function (event) {\n",
       "            if (!event.currentTarget.disabled) {\n",
       "                return fig.toolbar_button_onmouseover(tooltip);\n",
       "            }\n",
       "        };\n",
       "    }\n",
       "\n",
       "    fig.buttons = {};\n",
       "    var buttonGroup = document.createElement('div');\n",
       "    buttonGroup.classList = 'mpl-button-group';\n",
       "    for (var toolbar_ind in mpl.toolbar_items) {\n",
       "        var name = mpl.toolbar_items[toolbar_ind][0];\n",
       "        var tooltip = mpl.toolbar_items[toolbar_ind][1];\n",
       "        var image = mpl.toolbar_items[toolbar_ind][2];\n",
       "        var method_name = mpl.toolbar_items[toolbar_ind][3];\n",
       "\n",
       "        if (!name) {\n",
       "            /* Instead of a spacer, we start a new button group. */\n",
       "            if (buttonGroup.hasChildNodes()) {\n",
       "                toolbar.appendChild(buttonGroup);\n",
       "            }\n",
       "            buttonGroup = document.createElement('div');\n",
       "            buttonGroup.classList = 'mpl-button-group';\n",
       "            continue;\n",
       "        }\n",
       "\n",
       "        var button = (fig.buttons[name] = document.createElement('button'));\n",
       "        button.classList = 'mpl-widget';\n",
       "        button.setAttribute('role', 'button');\n",
       "        button.setAttribute('aria-disabled', 'false');\n",
       "        button.addEventListener('click', on_click_closure(method_name));\n",
       "        button.addEventListener('mouseover', on_mouseover_closure(tooltip));\n",
       "\n",
       "        var icon_img = document.createElement('img');\n",
       "        icon_img.src = '_images/' + image + '.png';\n",
       "        icon_img.srcset = '_images/' + image + '_large.png 2x';\n",
       "        icon_img.alt = tooltip;\n",
       "        button.appendChild(icon_img);\n",
       "\n",
       "        buttonGroup.appendChild(button);\n",
       "    }\n",
       "\n",
       "    if (buttonGroup.hasChildNodes()) {\n",
       "        toolbar.appendChild(buttonGroup);\n",
       "    }\n",
       "\n",
       "    var fmt_picker = document.createElement('select');\n",
       "    fmt_picker.classList = 'mpl-widget';\n",
       "    toolbar.appendChild(fmt_picker);\n",
       "    this.format_dropdown = fmt_picker;\n",
       "\n",
       "    for (var ind in mpl.extensions) {\n",
       "        var fmt = mpl.extensions[ind];\n",
       "        var option = document.createElement('option');\n",
       "        option.selected = fmt === mpl.default_extension;\n",
       "        option.innerHTML = fmt;\n",
       "        fmt_picker.appendChild(option);\n",
       "    }\n",
       "\n",
       "    var status_bar = document.createElement('span');\n",
       "    status_bar.classList = 'mpl-message';\n",
       "    toolbar.appendChild(status_bar);\n",
       "    this.message = status_bar;\n",
       "};\n",
       "\n",
       "mpl.figure.prototype.request_resize = function (x_pixels, y_pixels) {\n",
       "    // Request matplotlib to resize the figure. Matplotlib will then trigger a resize in the client,\n",
       "    // which will in turn request a refresh of the image.\n",
       "    this.send_message('resize', { width: x_pixels, height: y_pixels });\n",
       "};\n",
       "\n",
       "mpl.figure.prototype.send_message = function (type, properties) {\n",
       "    properties['type'] = type;\n",
       "    properties['figure_id'] = this.id;\n",
       "    this.ws.send(JSON.stringify(properties));\n",
       "};\n",
       "\n",
       "mpl.figure.prototype.send_draw_message = function () {\n",
       "    if (!this.waiting) {\n",
       "        this.waiting = true;\n",
       "        this.ws.send(JSON.stringify({ type: 'draw', figure_id: this.id }));\n",
       "    }\n",
       "};\n",
       "\n",
       "mpl.figure.prototype.handle_save = function (fig, _msg) {\n",
       "    var format_dropdown = fig.format_dropdown;\n",
       "    var format = format_dropdown.options[format_dropdown.selectedIndex].value;\n",
       "    fig.ondownload(fig, format);\n",
       "};\n",
       "\n",
       "mpl.figure.prototype.handle_resize = function (fig, msg) {\n",
       "    var size = msg['size'];\n",
       "    if (size[0] !== fig.canvas.width || size[1] !== fig.canvas.height) {\n",
       "        fig._resize_canvas(size[0], size[1], msg['forward']);\n",
       "        fig.send_message('refresh', {});\n",
       "    }\n",
       "};\n",
       "\n",
       "mpl.figure.prototype.handle_rubberband = function (fig, msg) {\n",
       "    var x0 = msg['x0'] / fig.ratio;\n",
       "    var y0 = (fig.canvas.height - msg['y0']) / fig.ratio;\n",
       "    var x1 = msg['x1'] / fig.ratio;\n",
       "    var y1 = (fig.canvas.height - msg['y1']) / fig.ratio;\n",
       "    x0 = Math.floor(x0) + 0.5;\n",
       "    y0 = Math.floor(y0) + 0.5;\n",
       "    x1 = Math.floor(x1) + 0.5;\n",
       "    y1 = Math.floor(y1) + 0.5;\n",
       "    var min_x = Math.min(x0, x1);\n",
       "    var min_y = Math.min(y0, y1);\n",
       "    var width = Math.abs(x1 - x0);\n",
       "    var height = Math.abs(y1 - y0);\n",
       "\n",
       "    fig.rubberband_context.clearRect(\n",
       "        0,\n",
       "        0,\n",
       "        fig.canvas.width / fig.ratio,\n",
       "        fig.canvas.height / fig.ratio\n",
       "    );\n",
       "\n",
       "    fig.rubberband_context.strokeRect(min_x, min_y, width, height);\n",
       "};\n",
       "\n",
       "mpl.figure.prototype.handle_figure_label = function (fig, msg) {\n",
       "    // Updates the figure title.\n",
       "    fig.header.textContent = msg['label'];\n",
       "};\n",
       "\n",
       "mpl.figure.prototype.handle_cursor = function (fig, msg) {\n",
       "    fig.rubberband_canvas.style.cursor = msg['cursor'];\n",
       "};\n",
       "\n",
       "mpl.figure.prototype.handle_message = function (fig, msg) {\n",
       "    fig.message.textContent = msg['message'];\n",
       "};\n",
       "\n",
       "mpl.figure.prototype.handle_draw = function (fig, _msg) {\n",
       "    // Request the server to send over a new figure.\n",
       "    fig.send_draw_message();\n",
       "};\n",
       "\n",
       "mpl.figure.prototype.handle_image_mode = function (fig, msg) {\n",
       "    fig.image_mode = msg['mode'];\n",
       "};\n",
       "\n",
       "mpl.figure.prototype.handle_history_buttons = function (fig, msg) {\n",
       "    for (var key in msg) {\n",
       "        if (!(key in fig.buttons)) {\n",
       "            continue;\n",
       "        }\n",
       "        fig.buttons[key].disabled = !msg[key];\n",
       "        fig.buttons[key].setAttribute('aria-disabled', !msg[key]);\n",
       "    }\n",
       "};\n",
       "\n",
       "mpl.figure.prototype.handle_navigate_mode = function (fig, msg) {\n",
       "    if (msg['mode'] === 'PAN') {\n",
       "        fig.buttons['Pan'].classList.add('active');\n",
       "        fig.buttons['Zoom'].classList.remove('active');\n",
       "    } else if (msg['mode'] === 'ZOOM') {\n",
       "        fig.buttons['Pan'].classList.remove('active');\n",
       "        fig.buttons['Zoom'].classList.add('active');\n",
       "    } else {\n",
       "        fig.buttons['Pan'].classList.remove('active');\n",
       "        fig.buttons['Zoom'].classList.remove('active');\n",
       "    }\n",
       "};\n",
       "\n",
       "mpl.figure.prototype.updated_canvas_event = function () {\n",
       "    // Called whenever the canvas gets updated.\n",
       "    this.send_message('ack', {});\n",
       "};\n",
       "\n",
       "// A function to construct a web socket function for onmessage handling.\n",
       "// Called in the figure constructor.\n",
       "mpl.figure.prototype._make_on_message_function = function (fig) {\n",
       "    return function socket_on_message(evt) {\n",
       "        if (evt.data instanceof Blob) {\n",
       "            var img = evt.data;\n",
       "            if (img.type !== 'image/png') {\n",
       "                /* FIXME: We get \"Resource interpreted as Image but\n",
       "                 * transferred with MIME type text/plain:\" errors on\n",
       "                 * Chrome.  But how to set the MIME type?  It doesn't seem\n",
       "                 * to be part of the websocket stream */\n",
       "                img.type = 'image/png';\n",
       "            }\n",
       "\n",
       "            /* Free the memory for the previous frames */\n",
       "            if (fig.imageObj.src) {\n",
       "                (window.URL || window.webkitURL).revokeObjectURL(\n",
       "                    fig.imageObj.src\n",
       "                );\n",
       "            }\n",
       "\n",
       "            fig.imageObj.src = (window.URL || window.webkitURL).createObjectURL(\n",
       "                img\n",
       "            );\n",
       "            fig.updated_canvas_event();\n",
       "            fig.waiting = false;\n",
       "            return;\n",
       "        } else if (\n",
       "            typeof evt.data === 'string' &&\n",
       "            evt.data.slice(0, 21) === 'data:image/png;base64'\n",
       "        ) {\n",
       "            fig.imageObj.src = evt.data;\n",
       "            fig.updated_canvas_event();\n",
       "            fig.waiting = false;\n",
       "            return;\n",
       "        }\n",
       "\n",
       "        var msg = JSON.parse(evt.data);\n",
       "        var msg_type = msg['type'];\n",
       "\n",
       "        // Call the  \"handle_{type}\" callback, which takes\n",
       "        // the figure and JSON message as its only arguments.\n",
       "        try {\n",
       "            var callback = fig['handle_' + msg_type];\n",
       "        } catch (e) {\n",
       "            console.log(\n",
       "                \"No handler for the '\" + msg_type + \"' message type: \",\n",
       "                msg\n",
       "            );\n",
       "            return;\n",
       "        }\n",
       "\n",
       "        if (callback) {\n",
       "            try {\n",
       "                // console.log(\"Handling '\" + msg_type + \"' message: \", msg);\n",
       "                callback(fig, msg);\n",
       "            } catch (e) {\n",
       "                console.log(\n",
       "                    \"Exception inside the 'handler_\" + msg_type + \"' callback:\",\n",
       "                    e,\n",
       "                    e.stack,\n",
       "                    msg\n",
       "                );\n",
       "            }\n",
       "        }\n",
       "    };\n",
       "};\n",
       "\n",
       "// from https://stackoverflow.com/questions/1114465/getting-mouse-location-in-canvas\n",
       "mpl.findpos = function (e) {\n",
       "    //this section is from http://www.quirksmode.org/js/events_properties.html\n",
       "    var targ;\n",
       "    if (!e) {\n",
       "        e = window.event;\n",
       "    }\n",
       "    if (e.target) {\n",
       "        targ = e.target;\n",
       "    } else if (e.srcElement) {\n",
       "        targ = e.srcElement;\n",
       "    }\n",
       "    if (targ.nodeType === 3) {\n",
       "        // defeat Safari bug\n",
       "        targ = targ.parentNode;\n",
       "    }\n",
       "\n",
       "    // pageX,Y are the mouse positions relative to the document\n",
       "    var boundingRect = targ.getBoundingClientRect();\n",
       "    var x = e.pageX - (boundingRect.left + document.body.scrollLeft);\n",
       "    var y = e.pageY - (boundingRect.top + document.body.scrollTop);\n",
       "\n",
       "    return { x: x, y: y };\n",
       "};\n",
       "\n",
       "/*\n",
       " * return a copy of an object with only non-object keys\n",
       " * we need this to avoid circular references\n",
       " * https://stackoverflow.com/a/24161582/3208463\n",
       " */\n",
       "function simpleKeys(original) {\n",
       "    return Object.keys(original).reduce(function (obj, key) {\n",
       "        if (typeof original[key] !== 'object') {\n",
       "            obj[key] = original[key];\n",
       "        }\n",
       "        return obj;\n",
       "    }, {});\n",
       "}\n",
       "\n",
       "mpl.figure.prototype.mouse_event = function (event, name) {\n",
       "    var canvas_pos = mpl.findpos(event);\n",
       "\n",
       "    if (name === 'button_press') {\n",
       "        this.canvas.focus();\n",
       "        this.canvas_div.focus();\n",
       "    }\n",
       "\n",
       "    var x = canvas_pos.x * this.ratio;\n",
       "    var y = canvas_pos.y * this.ratio;\n",
       "\n",
       "    this.send_message(name, {\n",
       "        x: x,\n",
       "        y: y,\n",
       "        button: event.button,\n",
       "        step: event.step,\n",
       "        guiEvent: simpleKeys(event),\n",
       "    });\n",
       "\n",
       "    /* This prevents the web browser from automatically changing to\n",
       "     * the text insertion cursor when the button is pressed.  We want\n",
       "     * to control all of the cursor setting manually through the\n",
       "     * 'cursor' event from matplotlib */\n",
       "    event.preventDefault();\n",
       "    return false;\n",
       "};\n",
       "\n",
       "mpl.figure.prototype._key_event_extra = function (_event, _name) {\n",
       "    // Handle any extra behaviour associated with a key event\n",
       "};\n",
       "\n",
       "mpl.figure.prototype.key_event = function (event, name) {\n",
       "    // Prevent repeat events\n",
       "    if (name === 'key_press') {\n",
       "        if (event.key === this._key) {\n",
       "            return;\n",
       "        } else {\n",
       "            this._key = event.key;\n",
       "        }\n",
       "    }\n",
       "    if (name === 'key_release') {\n",
       "        this._key = null;\n",
       "    }\n",
       "\n",
       "    var value = '';\n",
       "    if (event.ctrlKey && event.key !== 'Control') {\n",
       "        value += 'ctrl+';\n",
       "    }\n",
       "    else if (event.altKey && event.key !== 'Alt') {\n",
       "        value += 'alt+';\n",
       "    }\n",
       "    else if (event.shiftKey && event.key !== 'Shift') {\n",
       "        value += 'shift+';\n",
       "    }\n",
       "\n",
       "    value += 'k' + event.key;\n",
       "\n",
       "    this._key_event_extra(event, name);\n",
       "\n",
       "    this.send_message(name, { key: value, guiEvent: simpleKeys(event) });\n",
       "    return false;\n",
       "};\n",
       "\n",
       "mpl.figure.prototype.toolbar_button_onclick = function (name) {\n",
       "    if (name === 'download') {\n",
       "        this.handle_save(this, null);\n",
       "    } else {\n",
       "        this.send_message('toolbar_button', { name: name });\n",
       "    }\n",
       "};\n",
       "\n",
       "mpl.figure.prototype.toolbar_button_onmouseover = function (tooltip) {\n",
       "    this.message.textContent = tooltip;\n",
       "};\n",
       "\n",
       "///////////////// REMAINING CONTENT GENERATED BY embed_js.py /////////////////\n",
       "// prettier-ignore\n",
       "var _JSXTOOLS_RESIZE_OBSERVER=function(A){var t,i=new WeakMap,n=new WeakMap,a=new WeakMap,r=new WeakMap,o=new Set;function s(e){if(!(this instanceof s))throw new TypeError(\"Constructor requires 'new' operator\");i.set(this,e)}function h(){throw new TypeError(\"Function is not a constructor\")}function c(e,t,i,n){e=0 in arguments?Number(arguments[0]):0,t=1 in arguments?Number(arguments[1]):0,i=2 in arguments?Number(arguments[2]):0,n=3 in arguments?Number(arguments[3]):0,this.right=(this.x=this.left=e)+(this.width=i),this.bottom=(this.y=this.top=t)+(this.height=n),Object.freeze(this)}function d(){t=requestAnimationFrame(d);var s=new WeakMap,p=new Set;o.forEach((function(t){r.get(t).forEach((function(i){var r=t instanceof window.SVGElement,o=a.get(t),d=r?0:parseFloat(o.paddingTop),f=r?0:parseFloat(o.paddingRight),l=r?0:parseFloat(o.paddingBottom),u=r?0:parseFloat(o.paddingLeft),g=r?0:parseFloat(o.borderTopWidth),m=r?0:parseFloat(o.borderRightWidth),w=r?0:parseFloat(o.borderBottomWidth),b=u+f,F=d+l,v=(r?0:parseFloat(o.borderLeftWidth))+m,W=g+w,y=r?0:t.offsetHeight-W-t.clientHeight,E=r?0:t.offsetWidth-v-t.clientWidth,R=b+v,z=F+W,M=r?t.width:parseFloat(o.width)-R-E,O=r?t.height:parseFloat(o.height)-z-y;if(n.has(t)){var k=n.get(t);if(k[0]===M&&k[1]===O)return}n.set(t,[M,O]);var S=Object.create(h.prototype);S.target=t,S.contentRect=new c(u,d,M,O),s.has(i)||(s.set(i,[]),p.add(i)),s.get(i).push(S)}))})),p.forEach((function(e){i.get(e).call(e,s.get(e),e)}))}return s.prototype.observe=function(i){if(i instanceof window.Element){r.has(i)||(r.set(i,new Set),o.add(i),a.set(i,window.getComputedStyle(i)));var n=r.get(i);n.has(this)||n.add(this),cancelAnimationFrame(t),t=requestAnimationFrame(d)}},s.prototype.unobserve=function(i){if(i instanceof window.Element&&r.has(i)){var n=r.get(i);n.has(this)&&(n.delete(this),n.size||(r.delete(i),o.delete(i))),n.size||r.delete(i),o.size||cancelAnimationFrame(t)}},A.DOMRectReadOnly=c,A.ResizeObserver=s,A.ResizeObserverEntry=h,A}; // eslint-disable-line\n",
       "mpl.toolbar_items = [[\"Home\", \"Reset original view\", \"fa fa-home icon-home\", \"home\"], [\"Back\", \"Back to previous view\", \"fa fa-arrow-left icon-arrow-left\", \"back\"], [\"Forward\", \"Forward to next view\", \"fa fa-arrow-right icon-arrow-right\", \"forward\"], [\"\", \"\", \"\", \"\"], [\"Pan\", \"Left button pans, Right button zooms\\nx/y fixes axis, CTRL fixes aspect\", \"fa fa-arrows icon-move\", \"pan\"], [\"Zoom\", \"Zoom to rectangle\\nx/y fixes axis\", \"fa fa-square-o icon-check-empty\", \"zoom\"], [\"\", \"\", \"\", \"\"], [\"Download\", \"Download plot\", \"fa fa-floppy-o icon-save\", \"download\"]];\n",
       "\n",
       "mpl.extensions = [\"eps\", \"jpeg\", \"pgf\", \"pdf\", \"png\", \"ps\", \"raw\", \"svg\", \"tif\"];\n",
       "\n",
       "mpl.default_extension = \"png\";/* global mpl */\n",
       "\n",
       "var comm_websocket_adapter = function (comm) {\n",
       "    // Create a \"websocket\"-like object which calls the given IPython comm\n",
       "    // object with the appropriate methods. Currently this is a non binary\n",
       "    // socket, so there is still some room for performance tuning.\n",
       "    var ws = {};\n",
       "\n",
       "    ws.binaryType = comm.kernel.ws.binaryType;\n",
       "    ws.readyState = comm.kernel.ws.readyState;\n",
       "    function updateReadyState(_event) {\n",
       "        if (comm.kernel.ws) {\n",
       "            ws.readyState = comm.kernel.ws.readyState;\n",
       "        } else {\n",
       "            ws.readyState = 3; // Closed state.\n",
       "        }\n",
       "    }\n",
       "    comm.kernel.ws.addEventListener('open', updateReadyState);\n",
       "    comm.kernel.ws.addEventListener('close', updateReadyState);\n",
       "    comm.kernel.ws.addEventListener('error', updateReadyState);\n",
       "\n",
       "    ws.close = function () {\n",
       "        comm.close();\n",
       "    };\n",
       "    ws.send = function (m) {\n",
       "        //console.log('sending', m);\n",
       "        comm.send(m);\n",
       "    };\n",
       "    // Register the callback with on_msg.\n",
       "    comm.on_msg(function (msg) {\n",
       "        //console.log('receiving', msg['content']['data'], msg);\n",
       "        var data = msg['content']['data'];\n",
       "        if (data['blob'] !== undefined) {\n",
       "            data = {\n",
       "                data: new Blob(msg['buffers'], { type: data['blob'] }),\n",
       "            };\n",
       "        }\n",
       "        // Pass the mpl event to the overridden (by mpl) onmessage function.\n",
       "        ws.onmessage(data);\n",
       "    });\n",
       "    return ws;\n",
       "};\n",
       "\n",
       "mpl.mpl_figure_comm = function (comm, msg) {\n",
       "    // This is the function which gets called when the mpl process\n",
       "    // starts-up an IPython Comm through the \"matplotlib\" channel.\n",
       "\n",
       "    var id = msg.content.data.id;\n",
       "    // Get hold of the div created by the display call when the Comm\n",
       "    // socket was opened in Python.\n",
       "    var element = document.getElementById(id);\n",
       "    var ws_proxy = comm_websocket_adapter(comm);\n",
       "\n",
       "    function ondownload(figure, _format) {\n",
       "        window.open(figure.canvas.toDataURL());\n",
       "    }\n",
       "\n",
       "    var fig = new mpl.figure(id, ws_proxy, ondownload, element);\n",
       "\n",
       "    // Call onopen now - mpl needs it, as it is assuming we've passed it a real\n",
       "    // web socket which is closed, not our websocket->open comm proxy.\n",
       "    ws_proxy.onopen();\n",
       "\n",
       "    fig.parent_element = element;\n",
       "    fig.cell_info = mpl.find_output_cell(\"<div id='\" + id + \"'></div>\");\n",
       "    if (!fig.cell_info) {\n",
       "        console.error('Failed to find cell for figure', id, fig);\n",
       "        return;\n",
       "    }\n",
       "    fig.cell_info[0].output_area.element.on(\n",
       "        'cleared',\n",
       "        { fig: fig },\n",
       "        fig._remove_fig_handler\n",
       "    );\n",
       "};\n",
       "\n",
       "mpl.figure.prototype.handle_close = function (fig, msg) {\n",
       "    var width = fig.canvas.width / fig.ratio;\n",
       "    fig.cell_info[0].output_area.element.off(\n",
       "        'cleared',\n",
       "        fig._remove_fig_handler\n",
       "    );\n",
       "    fig.resizeObserverInstance.unobserve(fig.canvas_div);\n",
       "\n",
       "    // Update the output cell to use the data from the current canvas.\n",
       "    fig.push_to_output();\n",
       "    var dataURL = fig.canvas.toDataURL();\n",
       "    // Re-enable the keyboard manager in IPython - without this line, in FF,\n",
       "    // the notebook keyboard shortcuts fail.\n",
       "    IPython.keyboard_manager.enable();\n",
       "    fig.parent_element.innerHTML =\n",
       "        '<img src=\"' + dataURL + '\" width=\"' + width + '\">';\n",
       "    fig.close_ws(fig, msg);\n",
       "};\n",
       "\n",
       "mpl.figure.prototype.close_ws = function (fig, msg) {\n",
       "    fig.send_message('closing', msg);\n",
       "    // fig.ws.close()\n",
       "};\n",
       "\n",
       "mpl.figure.prototype.push_to_output = function (_remove_interactive) {\n",
       "    // Turn the data on the canvas into data in the output cell.\n",
       "    var width = this.canvas.width / this.ratio;\n",
       "    var dataURL = this.canvas.toDataURL();\n",
       "    this.cell_info[1]['text/html'] =\n",
       "        '<img src=\"' + dataURL + '\" width=\"' + width + '\">';\n",
       "};\n",
       "\n",
       "mpl.figure.prototype.updated_canvas_event = function () {\n",
       "    // Tell IPython that the notebook contents must change.\n",
       "    IPython.notebook.set_dirty(true);\n",
       "    this.send_message('ack', {});\n",
       "    var fig = this;\n",
       "    // Wait a second, then push the new image to the DOM so\n",
       "    // that it is saved nicely (might be nice to debounce this).\n",
       "    setTimeout(function () {\n",
       "        fig.push_to_output();\n",
       "    }, 1000);\n",
       "};\n",
       "\n",
       "mpl.figure.prototype._init_toolbar = function () {\n",
       "    var fig = this;\n",
       "\n",
       "    var toolbar = document.createElement('div');\n",
       "    toolbar.classList = 'btn-toolbar';\n",
       "    this.root.appendChild(toolbar);\n",
       "\n",
       "    function on_click_closure(name) {\n",
       "        return function (_event) {\n",
       "            return fig.toolbar_button_onclick(name);\n",
       "        };\n",
       "    }\n",
       "\n",
       "    function on_mouseover_closure(tooltip) {\n",
       "        return function (event) {\n",
       "            if (!event.currentTarget.disabled) {\n",
       "                return fig.toolbar_button_onmouseover(tooltip);\n",
       "            }\n",
       "        };\n",
       "    }\n",
       "\n",
       "    fig.buttons = {};\n",
       "    var buttonGroup = document.createElement('div');\n",
       "    buttonGroup.classList = 'btn-group';\n",
       "    var button;\n",
       "    for (var toolbar_ind in mpl.toolbar_items) {\n",
       "        var name = mpl.toolbar_items[toolbar_ind][0];\n",
       "        var tooltip = mpl.toolbar_items[toolbar_ind][1];\n",
       "        var image = mpl.toolbar_items[toolbar_ind][2];\n",
       "        var method_name = mpl.toolbar_items[toolbar_ind][3];\n",
       "\n",
       "        if (!name) {\n",
       "            /* Instead of a spacer, we start a new button group. */\n",
       "            if (buttonGroup.hasChildNodes()) {\n",
       "                toolbar.appendChild(buttonGroup);\n",
       "            }\n",
       "            buttonGroup = document.createElement('div');\n",
       "            buttonGroup.classList = 'btn-group';\n",
       "            continue;\n",
       "        }\n",
       "\n",
       "        button = fig.buttons[name] = document.createElement('button');\n",
       "        button.classList = 'btn btn-default';\n",
       "        button.href = '#';\n",
       "        button.title = name;\n",
       "        button.innerHTML = '<i class=\"fa ' + image + ' fa-lg\"></i>';\n",
       "        button.addEventListener('click', on_click_closure(method_name));\n",
       "        button.addEventListener('mouseover', on_mouseover_closure(tooltip));\n",
       "        buttonGroup.appendChild(button);\n",
       "    }\n",
       "\n",
       "    if (buttonGroup.hasChildNodes()) {\n",
       "        toolbar.appendChild(buttonGroup);\n",
       "    }\n",
       "\n",
       "    // Add the status bar.\n",
       "    var status_bar = document.createElement('span');\n",
       "    status_bar.classList = 'mpl-message pull-right';\n",
       "    toolbar.appendChild(status_bar);\n",
       "    this.message = status_bar;\n",
       "\n",
       "    // Add the close button to the window.\n",
       "    var buttongrp = document.createElement('div');\n",
       "    buttongrp.classList = 'btn-group inline pull-right';\n",
       "    button = document.createElement('button');\n",
       "    button.classList = 'btn btn-mini btn-primary';\n",
       "    button.href = '#';\n",
       "    button.title = 'Stop Interaction';\n",
       "    button.innerHTML = '<i class=\"fa fa-power-off icon-remove icon-large\"></i>';\n",
       "    button.addEventListener('click', function (_evt) {\n",
       "        fig.handle_close(fig, {});\n",
       "    });\n",
       "    button.addEventListener(\n",
       "        'mouseover',\n",
       "        on_mouseover_closure('Stop Interaction')\n",
       "    );\n",
       "    buttongrp.appendChild(button);\n",
       "    var titlebar = this.root.querySelector('.ui-dialog-titlebar');\n",
       "    titlebar.insertBefore(buttongrp, titlebar.firstChild);\n",
       "};\n",
       "\n",
       "mpl.figure.prototype._remove_fig_handler = function (event) {\n",
       "    var fig = event.data.fig;\n",
       "    if (event.target !== this) {\n",
       "        // Ignore bubbled events from children.\n",
       "        return;\n",
       "    }\n",
       "    fig.close_ws(fig, {});\n",
       "};\n",
       "\n",
       "mpl.figure.prototype._root_extra_style = function (el) {\n",
       "    el.style.boxSizing = 'content-box'; // override notebook setting of border-box.\n",
       "};\n",
       "\n",
       "mpl.figure.prototype._canvas_extra_style = function (el) {\n",
       "    // this is important to make the div 'focusable\n",
       "    el.setAttribute('tabindex', 0);\n",
       "    // reach out to IPython and tell the keyboard manager to turn it's self\n",
       "    // off when our div gets focus\n",
       "\n",
       "    // location in version 3\n",
       "    if (IPython.notebook.keyboard_manager) {\n",
       "        IPython.notebook.keyboard_manager.register_events(el);\n",
       "    } else {\n",
       "        // location in version 2\n",
       "        IPython.keyboard_manager.register_events(el);\n",
       "    }\n",
       "};\n",
       "\n",
       "mpl.figure.prototype._key_event_extra = function (event, _name) {\n",
       "    // Check for shift+enter\n",
       "    if (event.shiftKey && event.which === 13) {\n",
       "        this.canvas_div.blur();\n",
       "        // select the cell after this one\n",
       "        var index = IPython.notebook.find_cell_index(this.cell_info[0]);\n",
       "        IPython.notebook.select(index + 1);\n",
       "    }\n",
       "};\n",
       "\n",
       "mpl.figure.prototype.handle_save = function (fig, _msg) {\n",
       "    fig.ondownload(fig, null);\n",
       "};\n",
       "\n",
       "mpl.find_output_cell = function (html_output) {\n",
       "    // Return the cell and output element which can be found *uniquely* in the notebook.\n",
       "    // Note - this is a bit hacky, but it is done because the \"notebook_saving.Notebook\"\n",
       "    // IPython event is triggered only after the cells have been serialised, which for\n",
       "    // our purposes (turning an active figure into a static one), is too late.\n",
       "    var cells = IPython.notebook.get_cells();\n",
       "    var ncells = cells.length;\n",
       "    for (var i = 0; i < ncells; i++) {\n",
       "        var cell = cells[i];\n",
       "        if (cell.cell_type === 'code') {\n",
       "            for (var j = 0; j < cell.output_area.outputs.length; j++) {\n",
       "                var data = cell.output_area.outputs[j];\n",
       "                if (data.data) {\n",
       "                    // IPython >= 3 moved mimebundle to data attribute of output\n",
       "                    data = data.data;\n",
       "                }\n",
       "                if (data['text/html'] === html_output) {\n",
       "                    return [cell, data, j];\n",
       "                }\n",
       "            }\n",
       "        }\n",
       "    }\n",
       "};\n",
       "\n",
       "// Register the function which deals with the matplotlib target/channel.\n",
       "// The kernel may be null if the page has been refreshed.\n",
       "if (IPython.notebook.kernel !== null) {\n",
       "    IPython.notebook.kernel.comm_manager.register_target(\n",
       "        'matplotlib',\n",
       "        mpl.mpl_figure_comm\n",
       "    );\n",
       "}\n"
      ],
      "text/plain": [
       "<IPython.core.display.Javascript object>"
      ]
     },
     "metadata": {},
     "output_type": "display_data"
    },
    {
     "data": {
      "text/html": [
       "<img src=\"data:image/png;base64,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\" width=\"600\">"
      ],
      "text/plain": [
       "<IPython.core.display.HTML object>"
      ]
     },
     "metadata": {},
     "output_type": "display_data"
    },
    {
     "data": {
      "text/plain": [
       "<matplotlib.lines.Line2D at 0x19eb9e620>"
      ]
     },
     "execution_count": 26,
     "metadata": {},
     "output_type": "execute_result"
    }
   ],
   "source": [
    "%matplotlib notebook\n",
    "plt.figure(figsize=(6,4))\n",
    "plt.spy(sol.mat.diags(), markersize=0.5)"
   ]
  },
  {
   "cell_type": "markdown",
   "metadata": {
    "slideshow": {
     "slide_type": "slide"
    }
   },
   "source": [
    "# Future work\n",
    "\n",
    "- More linear algebra solvers. Most 1D bases are very good, but coupling two non-periodic directions demands more of\n",
    "    - Block preconditioners\n",
    "    - Uzawa solvers\n",
    "    - matrix decomposition (some implemented)\n",
    "    - MPI for all solvers\n",
    "- Fast Legendre transforms\n",
    "- Chebyshev-Legendre transforms\n",
    "- Generalized Jacobi polynomials\n",
    "- Cylindrical/circular domains\n",
    "- Unbounded domains - Laguerre/Hermite recently added \n",
    "    - Fast transforms\n",
    "- Solvers for more than 2 non-periodic bases\n",
    "- Domain decomposition\n",
    "- Better documentation😃"
   ]
  },
  {
   "cell_type": "markdown",
   "metadata": {
    "slideshow": {
     "slide_type": "slide"
    }
   },
   "source": [
    "<center>\n",
    "    \n",
    "# Thank you for your time😃\n",
    "\n",
    "<img src=\"https://rawcdn.githack.com/spectralDNS/spectralutilities/473129742f0b5f8d57e8c647809272c0ced99a45/movies/RB_200k_small.png\" style=\"float:left\" width=\"300\">\n",
    "\n",
    "<img src=\"https://cdn.jsdelivr.net/gh/spectralDNS/spectralutilities@master/movies/Re2000_5.gif\" width=\"400\" height=\"133\" style=\"float:right\" alt=\"Channel flow\"/>\n",
    "<p style=\"clear: both;\">\n",
    "\n",
    "<img src=\"https://rawcdn.githack.com/spectralDNS/spectralutilities/473129742f0b5f8d57e8c647809272c0ced99a45/movies/isotropic_cropped.gif\" style=\"float:left\" width=\"250\">\n",
    "\n",
    "<img src=\"https://cdn.jsdelivr.net/gh/spectralDNS/spectralutilities@master/movies/KHmovie_3.gif\" width=\"400\" height=\"200\" style=\"float:right\" alt=\"Kelvin Helmholtz instability\"/>\n",
    "\n",
    "<p style=\"clear: both;\">\n"
   ]
  }
 ],
 "metadata": {
  "celltoolbar": "Slideshow",
  "kernelspec": {
   "display_name": "shenfun",
   "language": "python",
   "name": "shenfun"
  },
  "language_info": {
   "codemirror_mode": {
    "name": "ipython",
    "version": 3
   },
   "file_extension": ".py",
   "mimetype": "text/x-python",
   "name": "python",
   "nbconvert_exporter": "python",
   "pygments_lexer": "ipython3",
   "version": "3.10.2"
  },
  "toc": {
   "base_numbering": 1,
   "nav_menu": {},
   "number_sections": false,
   "sideBar": true,
   "skip_h1_title": false,
   "title_cell": "Table of Contents",
   "title_sidebar": "Contents",
   "toc_cell": false,
   "toc_position": {},
   "toc_section_display": true,
   "toc_window_display": false
  }
 },
 "nbformat": 4,
 "nbformat_minor": 2
}
