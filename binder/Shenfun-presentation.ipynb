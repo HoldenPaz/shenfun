{
 "cells": [
  {
   "cell_type": "markdown",
   "metadata": {
    "slideshow": {
     "slide_type": "slide"
    }
   },
   "source": [
    "<center>\n",
    "\n",
    "# Shenfun - High-Performance Computing platform for the Spectral Galerkin method\n",
    "\n",
    "<div><img src=\"https://rawcdn.githack.com/spectralDNS/spectralutilities/f3419a3e6c40dad55be5dcca51f6e0e21713dd90/figures/Chebyshev_Polynomials_of_the_First_Kind.svg\" width=\"300\"></div>\n",
    "\n",
    "<div class=\"sl-block\" style=\"height: auto; width: 600px;\">\n",
    "    <div>\n",
    "        <p><center style=\"font-size:1.2em\">Professor Mikael Mortensen</p>\n",
    "        <p><center>Department of Mathematics, University of Oslo</p>\n",
    "        <p><center>Presented at the International Conference on Scientific Computing and Applications (ICSCA), Xiamen, China, 29/5 - 2019</p>\n",
    "    </div>\n",
    "</div>"
   ]
  },
  {
   "cell_type": "markdown",
   "metadata": {
    "slideshow": {
     "slide_type": "slide"
    }
   },
   "source": [
    "# Shenfun - facts\n",
    "\n",
    "1. Shenfun is named in honour of <strong>Professor Jie Shen</strong> for his seminal work on the spectral Galerkin method:-) \n",
    "2. Shenfun is a high performance computing platform for solving partial differential equations (PDEs) with the spectral Galerkin method (with numerical integration).\n",
    "3. Shenfun has been run with 65,000 processors on a Cray XC40.\n",
    "4. Shenfun is a high-level <strong>Python</strong> package originally developed for large-scale pseudo-spectral turbulence simulations.\n",
    "\n",
    "\n",
    "<img src=\"https://rawcdn.githack.com/spectralDNS/spectralutilities/473129742f0b5f8d57e8c647809272c0ced99a45/movies/RB_200k_small.png\" style=\"float:left\" width=\"300\"> <img src=\"https://rawcdn.githack.com/spectralDNS/spectralutilities/473129742f0b5f8d57e8c647809272c0ced99a45/movies/isotropic_cropped.gif\" style=\"float:right\" width=\"200\"> \n",
    "<p style=\"clear: both;\">"
   ]
  },
  {
   "cell_type": "markdown",
   "metadata": {
    "slideshow": {
     "slide_type": "subslide"
    }
   },
   "source": [
    "# Python is a scripting language\n",
    "<p style=\"margin-bottom:1cm;\">\n",
    "\n",
    "No compilation - just execute. Much like MATLAB. High-level coding very popular in the scientific computing community. \n",
    "\n",
    "In this presentation this is a Python terminal:"
   ]
  },
  {
   "cell_type": "code",
   "execution_count": 1,
   "metadata": {
    "slideshow": {
     "slide_type": "fragment"
    }
   },
   "outputs": [],
   "source": [
    "print('hello world icsca')"
   ]
  },
  {
   "cell_type": "markdown",
   "metadata": {
    "slideshow": {
     "slide_type": "fragment"
    }
   },
   "source": [
    "Inside the terminal any Python code can be executed and if something is printed it is shown below."
   ]
  },
  {
   "cell_type": "code",
   "execution_count": 2,
   "metadata": {
    "slideshow": {
     "slide_type": "fragment"
    }
   },
   "outputs": [],
   "source": [
    "print(2+2)"
   ]
  },
  {
   "cell_type": "markdown",
   "metadata": {
    "slideshow": {
     "slide_type": "subslide"
    }
   },
   "source": [
    "# When in presentation mode\n",
    "\n",
    "like now, the terminal is not alive. However, this presentation is written with [jupyter](https://jupyter.org/)\n",
    "\n",
    "<center><img src=\"https://rawcdn.githack.com/spectralDNS/spectralutilities/a6cccf4e2959c13cd4b7a6cf9d092b0ef11e7d5e/figures/jupyter.jpg\" width=100></center>\n",
    "\n",
    "and if opened in active mode, then all boxes like the one below would be live and active and ready to execute any Python code:"
   ]
  },
  {
   "cell_type": "code",
   "execution_count": null,
   "metadata": {
    "slideshow": {
     "slide_type": "fragment"
    }
   },
   "outputs": [],
   "source": []
  },
  {
   "cell_type": "markdown",
   "metadata": {
    "slideshow": {
     "slide_type": "fragment"
    }
   },
   "source": [
    "If interested (it is really not necessary), then\n",
    "\n",
    "Open https://github.com/spectralDNS/shenfun/ and press the launch-binder button.\n",
    "\n",
    "[![Binder](https://mybinder.org/badge_logo.svg)](https://mybinder.org/v2/gh/spectralDNS/shenfun/master?filepath=binder) \n",
    "\n",
    "Wait for binder to launch and choose the `Shenfun presentation.ipynb` file to get a live document. There are also some other demos there written in jupyter."
   ]
  },
  {
   "cell_type": "markdown",
   "metadata": {
    "slideshow": {
     "slide_type": "slide"
    }
   },
   "source": [
    "<center>\n",
    "\n",
    "<div><img src=\"https://gifimage.net/wp-content/uploads/2017/09/ajax-loading-gif-transparent-background-2.gif\" width=\"100\"></div>\n",
    "\n",
    "<div class=\"sl-block\" style=\"height: auto; width: 500px;\">\n",
    "    <div>\n",
    "        <p><center style=\"font-size:1.2em\">Meanwhile (may take a few minutes and really not necessary) I'll go through some background material required for understanding how <strong>shenfun</strong> works 😀</p>\n",
    "    </div>\n",
    "</div>\n"
   ]
  },
  {
   "cell_type": "markdown",
   "metadata": {
    "slideshow": {
     "slide_type": "slide"
    }
   },
   "source": [
    "# The Spectral Galerkin method (in a nutshell)\n",
    "\n",
    "approximates solutions $u(x)$ using global <strong>trial</strong> functions $\\phi_k(x)$ and unknown expansion coefficients $\\hat{u}_k$\n",
    "\n",
    "$$\n",
    "u(x) = \\sum_{k=0}^{N-1}\\hat{u}_k \\phi_k(x)\n",
    "$$\n",
    "\n",
    "Multidimensional solutions are formed from outer products of 1D bases\n",
    "\n",
    "$$\n",
    "u(x, y) = \\sum_{k=0}^{N_0-1}\\sum_{l=0}^{N_1-1}\\hat{u}_{kl} \\phi_{kl}(x, y)\\quad \\text{ or }\\quad\n",
    "u(x, y, z) = \\sum_{k=0}^{N_0-1}\\sum_{l=0}^{N_1-1} \\sum_{m=0}^{N_2-1}\\hat{u}_{klm} \\phi_{klm}(x, y, z)\n",
    "$$\n",
    "\n",
    "where, for example\n",
    "\n",
    "$$\n",
    "\\begin{align}\n",
    "\\phi_{kl}(x, y) &= T_k(x) L_l(y)\\\\\n",
    "\\phi_{klm}(x, y, z) &= T_k(x) L_l(y) \\exp(\\text{i}mz)\n",
    "\\end{align}\n",
    "$$\n",
    "\n",
    "$T_k$ and $L_k$ are Chebyshev and Legendre polynomials."
   ]
  },
  {
   "cell_type": "markdown",
   "metadata": {
    "slideshow": {
     "slide_type": "subslide"
    }
   },
   "source": [
    "# The Spectral Galerkin method\n",
    "\n",
    "solves PDEs, like Poisson's equation\n",
    "\n",
    "\\begin{align}\n",
    "\\nabla^2 u(x) &= f(x), \\quad x \\in [-1, 1] \\\\\n",
    "u(\\pm 1) &= 0\n",
    "\\end{align}\n",
    "\n",
    "using variational forms by the <strong>method of weighted residuals</strong>. I.e., multiply PDE by a test function $v$ and integrate over the domain. For Poisson this leads to the problem:\n",
    "\n",
    "Find $u \\in H^1_0$ such that \n",
    "\n",
    "$$(\\nabla u, \\nabla v)_w^N = -(f, v)_w^N \\quad \\forall v \\in H^1_0$$\n",
    "\n",
    "Here $(u, v)_w^{N}$ is a weighted inner product and $v(=\\phi_j)$ is a <strong>test</strong> function. Note that test and trial functions are the same for the Galerkin method.\n"
   ]
  },
  {
   "cell_type": "markdown",
   "metadata": {
    "slideshow": {
     "slide_type": "subslide"
    }
   },
   "source": [
    "# Weighted inner products\n",
    "\n",
    "The weighted inner product is defined as\n",
    "\n",
    "$$\n",
    " (u, v)_w = \\int_{\\Omega} u \\overline{v} w \\, d\\Omega,\n",
    "$$\n",
    "\n",
    "where $w(\\mathbf{x})$ is a weight associated with the chosen basis (different bases have different weights). The overline represents a complex conjugate (for Fourier).\n",
    "\n",
    "$\\Omega$ is a tensor product domain spanned by the chosen 1D bases.\n"
   ]
  },
  {
   "cell_type": "markdown",
   "metadata": {
    "slideshow": {
     "slide_type": "subslide"
    }
   },
   "source": [
    "# In Shenfun quadrature is used for the integrals\n",
    "\n",
    "1D with Chebyshev basis:\n",
    "\n",
    "$$\n",
    "(u, v)_w ^N = \\sum_{i=0}^{N-1} u(x_i) v(x_i) \\omega_i \\approx \\int_{-1}^1 \\frac{u v}{\\sqrt{1-x^2}}  \\, {dx},\n",
    "$$\n",
    "\n",
    "where $\\{\\omega_i\\}_{i=0}^{N-1}$ are the quadrature weights associated with the chosen basis and quadrature rule. The associated quadrature points are denoted as $\\{x_i\\}_{i=0}^{N-1}$. \n",
    "\n",
    "2D with mixed Chebyshev-Fourier:\n",
    "\n",
    "$$\n",
    "(u, v)_w^N = \\int_{-1}^1\\int_{0}^{2\\pi} \\frac{u \\overline{v}}{2\\pi\\sqrt{1-x^2}} \\, {dxdy} \\approx \\sum_{i=0}^{N_0-1}\\sum_{j=0}^{N_1-1} u(x_i, y_j) \\overline{v}(x_i, y_j) \\omega^{(x)}_i \\omega_j^{(y)} ,\n",
    "$$\n"
   ]
  },
  {
   "cell_type": "markdown",
   "metadata": {
    "slideshow": {
     "slide_type": "slide"
    }
   },
   "source": [
    "# Spectral Galerkin solution procedure\n",
    "\n",
    "1. Choose function space(s) satisfying correct boundary conditions\n",
    "2. Transform PDEs to variational forms with inner products\n",
    "3. Assemble variational forms and solve resulting linear algebra systems"
   ]
  },
  {
   "cell_type": "markdown",
   "metadata": {
    "slideshow": {
     "slide_type": "subslide"
    }
   },
   "source": [
    "# Orthogonal bases \n",
    "<p style=\"margin-bottom:1cm;\">\n",
    "\n",
    "| Family    | Basis                                    | Domain    |\n",
    "|  :---:    |         :---:                            |   :---:   |\n",
    "| Chebyshev | $$\\{T_k\\}_{k=0}^{N-1}$$                  | $$[-1, 1]$$ |\n",
    "| Legendre  | $$\\{L_k\\}_{k=0}^{N-1}$$                  | $$[-1, 1]$$ |\n",
    "| Fourier   | $$\\{\\exp(\\text{i}kx)\\}_{k=-N/2}^{N/2-1}$$| $$[0, 2\\pi]$$ |\n",
    "| Hermite   | $$\\{H_k\\}_{k=0}^{N-1}$$                  | $$[-\\infty, \\infty]$$|\n",
    "| Laguerre  | $$\\{La_k\\}_{k=0}^{N-1}$$                 | $$[0, \\infty]$$ |\n"
   ]
  },
  {
   "cell_type": "code",
   "execution_count": 3,
   "metadata": {
    "slideshow": {
     "slide_type": "fragment"
    }
   },
   "outputs": [
    {
     "name": "stdout",
     "output_type": "stream",
     "text": [
      "[[ 0.98078528  0.39269908]\n",
      " [ 0.83146961  0.39269908]\n",
      " [ 0.55557023  0.39269908]\n",
      " [ 0.19509032  0.39269908]\n",
      " [-0.19509032  0.39269908]\n",
      " [-0.55557023  0.39269908]\n",
      " [-0.83146961  0.39269908]\n",
      " [-0.98078528  0.39269908]]\n"
     ]
    }
   ],
   "source": [
    "from shenfun import *\n",
    "N = 8\n",
    "C = FunctionSpace(N, 'Chebyshev')\n",
    "L = FunctionSpace(N, 'Legendre')\n",
    "x, w = C.points_and_weights()\n",
    "print(np.vstack((x, w)).T)"
   ]
  },
  {
   "cell_type": "markdown",
   "metadata": {
    "slideshow": {
     "slide_type": "subslide"
    }
   },
   "source": [
    "# Shen's bases with Dirichlet bcs\n",
    "<p style=\"margin-bottom:1cm;\">\n",
    "\n",
    "\n",
    "| family    | Basis                 | Boundary condition |\n",
    "|-----------|-----------------------|----------|\n",
    "| Chebyshev | $$\\{T_k-T_{k+2}\\}_{k=0}^{N-3}$$ | $$u(\\pm 1) = 0$$ |\n",
    "| Legendre  | $$\\{L_k-L_{k+2}\\}_{k=0}^{N-3}$$ | $$u(\\pm 1) = 0$$ |\n",
    "| Hermite   | $$\\exp(-x^2)\\{H_k\\}_{k=0}^{N-1}$$ | $$u(\\pm \\infty) = 0$$ |\n",
    "| Laguerre  | $$\\exp(-x/2)\\{La_k-La_{k+1}\\}_{k=0}^{N-2}$$| $$u(0) = u(\\infty) = 0$$ |"
   ]
  },
  {
   "cell_type": "code",
   "execution_count": 4,
   "metadata": {
    "slideshow": {
     "slide_type": "fragment"
    }
   },
   "outputs": [],
   "source": [
    "C0 = FunctionSpace(N, 'Chebyshev', bc=(0, 0))\n",
    "L0 = FunctionSpace(N, 'Legendre', bc=(0, 0))\n",
    "H0 = FunctionSpace(N, 'Hermite')\n",
    "La = FunctionSpace(N, 'Laguerre', bc=(0, 0))"
   ]
  },
  {
   "cell_type": "markdown",
   "metadata": {
    "slideshow": {
     "slide_type": "subslide"
    }
   },
   "source": [
    "# Shen's bases with Neumann $u'(\\pm 1) = 0$\n",
    "\n",
    "<p style=\"margin-bottom:1cm;\">\n",
    "\n",
    "| family    | Basis                 |\n",
    "|-----------|-----------------------|\n",
    "| Chebyshev | $$\\left\\{T_k-\\frac{k^2}{(k+2)^2}T_{k+2}\\right\\}_{k=0}^{N-3}$$ | \n",
    "| Legendre  | $$\\left\\{L_k-\\frac{k(k+1)}{(k+2)(k+3)}L_{k+2}\\right\\}_{k=0}^{N-3}$$ |"
   ]
  },
  {
   "cell_type": "code",
   "execution_count": 5,
   "metadata": {
    "slideshow": {
     "slide_type": "fragment"
    }
   },
   "outputs": [],
   "source": [
    "CN = FunctionSpace(N, 'Chebyshev', bc={'left': ('N', 0), 'right': ('N', 0)})\n",
    "LN = FunctionSpace(N, 'Legendre', bc={'left': ('N', 0), 'right': ('N', 0)})"
   ]
  },
  {
   "cell_type": "markdown",
   "metadata": {
    "slideshow": {
     "slide_type": "fragment"
    }
   },
   "source": [
    "# Shen's biharmonic bases $u(\\pm 1) = u'(\\pm 1) = 0$\n",
    "<p style=\"margin-bottom:1cm;\">\n",
    "\n",
    "| family    | Basis                 |\n",
    "|-----------| :-----------------:   |\n",
    "| Chebyshev | $$\\left\\{T_k-\\frac{2(k+2)}{k+3}T_{k+2}+\\frac{k+1}{k+3} T_{k+4}\\right\\}_{k=0}^{N-5}$$ | \n",
    "| Legendre  | $$\\left\\{L_k-\\frac{2(2k+5)}{(2k+7)}L_{k+2}+\\frac{2k+3}{2k+7}L_{k+4}\\right\\}_{k=0}^{N-5}$$ |\n"
   ]
  },
  {
   "cell_type": "code",
   "execution_count": 6,
   "metadata": {
    "slideshow": {
     "slide_type": "fragment"
    }
   },
   "outputs": [],
   "source": [
    "CB = FunctionSpace(N, 'Chebyshev', bc=(0, 0, 0, 0))\n",
    "LB = FunctionSpace(N, 'Legendre', bc=(0, 0, 0, 0))"
   ]
  },
  {
   "cell_type": "markdown",
   "metadata": {
    "slideshow": {
     "slide_type": "subslide"
    }
   },
   "source": [
    "# Multidimensional tensor product spaces\n",
    "<p style=\"margin-bottom:0.5cm;\">\n",
    "\n",
    "$$\n",
    "\\begin{align}\n",
    "L_0 &= \\{L_k(x)-L_{k+2}(x)\\}_{k=0}^{N-3} \\\\\n",
    "C_0 &= \\{T_k(x)-T_{k+2}(x)\\}_{k=0}^{N-3} \\\\\n",
    "L_1 &= \\{L_l(y)\\}_{l=0}^{N-1} \\\\\n",
    "LL(x, y) &= L_0(x) \\times L_1(y) \\\\\n",
    "CL(x, y) &= C_0(x) \\times L_1(y)\n",
    "\\end{align}\n",
    "$$\n"
   ]
  },
  {
   "cell_type": "code",
   "execution_count": 7,
   "metadata": {
    "slideshow": {
     "slide_type": "fragment"
    }
   },
   "outputs": [],
   "source": [
    "L0 = FunctionSpace(N, 'Legendre', bc=(0, 0))\n",
    "C0 = FunctionSpace(N, 'Chebyshev', bc=(0, 0))\n",
    "L1 = FunctionSpace(N, 'Legendre')\n",
    "LL = TensorProductSpace(comm, (L0, L1)) # comm is MPI.COMM_WORLD\n",
    "CL = TensorProductSpace(comm, (C0, L1))"
   ]
  },
  {
   "cell_type": "markdown",
   "metadata": {
    "slideshow": {
     "slide_type": "subslide"
    }
   },
   "source": [
    "# Basis functions can be created for all bases\n"
   ]
  },
  {
   "cell_type": "code",
   "execution_count": 8,
   "metadata": {
    "slideshow": {
     "slide_type": "fragment"
    }
   },
   "outputs": [],
   "source": [
    "L0 = FunctionSpace(N, 'Legendre', bc=(0, 0))\n",
    "L1 = FunctionSpace(N, 'Legendre')\n",
    "\n",
    "# 1D\n",
    "u = TrialFunction(L0)\n",
    "v = TestFunction(L0)\n",
    "uh = Function(L0)\n",
    "uj = Array(L0)\n",
    "\n",
    "# 2D\n",
    "LL = TensorProductSpace(comm, (L0, L1)) # comm is MPI.COMM_WORLD\n",
    "\n",
    "u = TrialFunction(LL)\n",
    "v = TestFunction(LL)\n",
    "uh = Function(LL)\n",
    "uj = Array(LL)\n"
   ]
  },
  {
   "cell_type": "markdown",
   "metadata": {
    "slideshow": {
     "slide_type": "subslide"
    }
   },
   "source": [
    "# The shenfun `Function` represents the solution\n",
    "\n",
    "`uh = Function(L0)`\n",
    "\n",
    "$$\n",
    "u(x) = \\sum_{k=0}^{N-1} \\hat{u}_k \\phi_{k}(x)\n",
    "$$\n",
    "\n",
    "The function evaluated for all quadrature points, $\\{u(x_j)\\}_{j=0}^{N-1}$, is an `Array`\n",
    "\n",
    "`uj = Array(L0)`\n",
    "\n",
    "There is a (fast) `backward` transform for moving from `Function` to `Array`, and a `forward` transform to go the other way. Note that the `Array` is not a basis function!"
   ]
  },
  {
   "cell_type": "code",
   "execution_count": 9,
   "metadata": {
    "slideshow": {
     "slide_type": "fragment"
    }
   },
   "outputs": [],
   "source": [
    "L0 = FunctionSpace(N, 'Legendre', bc=(0, 0))\n",
    "uh = Function(L0)\n",
    "uj = Array(L0)\n",
    "\n",
    "# Move back and forth\n",
    "uj = uh.backward(uj)\n",
    "uh = uj.forward(uh)"
   ]
  },
  {
   "cell_type": "markdown",
   "metadata": {
    "slideshow": {
     "slide_type": "subslide"
    }
   },
   "source": [
    "# Operators in shenfun act on basis functions\n",
    "\n",
    "`u` is an instance of either `TestFunction`, `TrialFunction` or `Function`\n",
    "\n",
    "- `div(u)`\n",
    "- `grad(u)`\n",
    "- `curl(u)`\n",
    "- `Dx(u, 0, 1)` (partial derivative in x-direction)\n",
    "\n",
    "# Assembly\n",
    "- `project`\n",
    "- `inner`"
   ]
  },
  {
   "cell_type": "code",
   "execution_count": 10,
   "metadata": {
    "slideshow": {
     "slide_type": "fragment"
    }
   },
   "outputs": [],
   "source": [
    "L0 = FunctionSpace(N, 'Legendre', bc=(0, 0))\n",
    "L1 = FunctionSpace(N, 'Legendre')\n",
    "u = TrialFunction(L0)\n",
    "v = TestFunction(L0)\n",
    "uh = Function(L0)\n",
    "du = grad(u)  # vector valued expression\n",
    "g = div(du)   # scalar valued expression\n",
    "c = project(Dx(uh, 0, 1), L1) # project expressions with Functions"
   ]
  },
  {
   "cell_type": "markdown",
   "metadata": {
    "slideshow": {
     "slide_type": "subslide"
    }
   },
   "source": [
    "# Implementation closely matches mathematics\n",
    "<p style=\"margin-bottom:1cm;\">\n",
    "\n",
    "$$\n",
    "A = (\\nabla u, \\nabla v)_w^N\n",
    "$$"
   ]
  },
  {
   "cell_type": "code",
   "execution_count": 11,
   "metadata": {
    "slideshow": {
     "slide_type": "fragment"
    }
   },
   "outputs": [],
   "source": [
    "A = inner(grad(u), grad(v))"
   ]
  },
  {
   "cell_type": "code",
   "execution_count": 12,
   "metadata": {
    "slideshow": {
     "slide_type": "fragment"
    }
   },
   "outputs": [
    {
     "data": {
      "text/plain": [
       "{0: array([ 6., 10., 14., 18., 22., 26.])}"
      ]
     },
     "execution_count": 12,
     "metadata": {},
     "output_type": "execute_result"
    }
   ],
   "source": [
    "dict(A)"
   ]
  },
  {
   "cell_type": "code",
   "execution_count": 13,
   "metadata": {
    "slideshow": {
     "slide_type": "fragment"
    }
   },
   "outputs": [
    {
     "name": "stdout",
     "output_type": "stream",
     "text": [
      "[[ 6.  0.  0.  0.  0.  0.]\n",
      " [ 0. 10.  0.  0.  0.  0.]\n",
      " [ 0.  0. 14.  0.  0.  0.]\n",
      " [ 0.  0.  0. 18.  0.  0.]\n",
      " [ 0.  0.  0.  0. 22.  0.]\n",
      " [ 0.  0.  0.  0.  0. 26.]]\n"
     ]
    }
   ],
   "source": [
    "print(A.diags().todense())"
   ]
  },
  {
   "cell_type": "markdown",
   "metadata": {
    "slideshow": {
     "slide_type": "fragment"
    }
   },
   "source": [
    "A diagonal stiffness matrix!"
   ]
  },
  {
   "cell_type": "markdown",
   "metadata": {
    "slideshow": {
     "slide_type": "subslide"
    }
   },
   "source": [
    "# Complete Poisson solver with error verification in 1D"
   ]
  },
  {
   "cell_type": "code",
   "execution_count": 14,
   "metadata": {
    "slideshow": {
     "slide_type": "fragment"
    }
   },
   "outputs": [
    {
     "name": "stdout",
     "output_type": "stream",
     "text": [
      "[ 3.35399534e-16  3.00599697e-16 -2.30645975e-16 ...  2.30663767e-16\n",
      " -3.00592534e-16 -3.35397463e-16]\n"
     ]
    }
   ],
   "source": [
    "# Solve Poisson's equation\n",
    "from sympy import symbols, sin, lambdify\n",
    "from shenfun import * \n",
    "\n",
    "# Use sympy to compute manufactured solution\n",
    "x = symbols(\"x\")\n",
    "ue = sin(4*np.pi*x)*(1-x**2) # `ue` is the manufactured solution\n",
    "fe = ue.diff(x, 2) # `fe` is Poisson's right hand side for `ue`\n",
    "\n",
    "SD = FunctionSpace(2000, 'L', bc=(0, 0))\n",
    "u = TrialFunction(SD)\n",
    "v = TestFunction(SD)\n",
    "\n",
    "b = inner(v, Array(SD, buffer=fe)) # Array is initialized with `fe`\n",
    "A = inner(v, div(grad(u)))\n",
    "\n",
    "uh = Function(SD)\n",
    "uh = A.solve(b, uh)  # Very fast O(N) solver\n",
    "print(uh.backward()-Array(SD, buffer=ue))"
   ]
  },
  {
   "cell_type": "markdown",
   "metadata": {
    "slideshow": {
     "slide_type": "slide"
    }
   },
   "source": [
    "# 2D - Implementation still closely matching mathematics"
   ]
  },
  {
   "cell_type": "code",
   "execution_count": 15,
   "metadata": {
    "slideshow": {
     "slide_type": "fragment"
    }
   },
   "outputs": [],
   "source": [
    "L0 = FunctionSpace(N, 'Legendre', bc=(0, 0))\n",
    "F1 = FunctionSpace(N, 'Fourier', dtype='d')\n",
    "TP = TensorProductSpace(comm, (L0, F1))\n",
    "u = TrialFunction(TP)\n",
    "v = TestFunction(TP)\n",
    "A = inner(grad(u), grad(v))"
   ]
  },
  {
   "cell_type": "code",
   "execution_count": 16,
   "metadata": {
    "slideshow": {
     "slide_type": "fragment"
    }
   },
   "outputs": [
    {
     "name": "stdout",
     "output_type": "stream",
     "text": [
      "[<shenfun.matrixbase.TPMatrix object at 0x7fe068fcec70>, <shenfun.matrixbase.TPMatrix object at 0x7fe068fced30>]\n"
     ]
    }
   ],
   "source": [
    "print(A)"
   ]
  },
  {
   "cell_type": "markdown",
   "metadata": {
    "slideshow": {
     "slide_type": "fragment"
    }
   },
   "source": [
    "# ? \n",
    "\n",
    "A is a list of two TPMatrix objects???\n"
   ]
  },
  {
   "cell_type": "markdown",
   "metadata": {
    "slideshow": {
     "slide_type": "subslide"
    }
   },
   "source": [
    "# `TPMatrix` is a Tensor Product matrix\n",
    "\n",
    "A `TPMatrix` is the outer product of smaller matrices (2 in 2D, 3 in 3D etc).  \n",
    "\n",
    "Consider the inner product:\n",
    "\n",
    "$$\n",
    "\\begin{align}\n",
    "(\\nabla u, \\nabla v)_w &=\\int_{-1}^{1}\\int_{0}^{2\\pi} \\left(\\frac{\\partial u}{\\partial x}, \\frac{\\partial u}{\\partial y}\\right) \\cdot \\left(\\frac{\\partial \\overline{v}}{\\partial x}, \\frac{\\partial \\overline{v}}{\\partial y}\\right)  \\frac{dxdy}{2\\pi} \\\\\n",
    "(\\nabla u, \\nabla v)_w &= \\int_{-1}^1 \\int_{0}^{2\\pi} \\frac{\\partial u}{\\partial x}\\frac{\\partial \\overline{v}}{\\partial x} \\frac{dxdy}{2\\pi} + \\int_{-1}^1 \\int_{0}^{2\\pi} \\frac{\\partial u}{\\partial y}\\frac{\\partial \\overline{v}}{\\partial y} \\frac{dxdy}{2\\pi}\n",
    "\\end{align}\n",
    "$$\n",
    "\n",
    "which, like `A`, is a sum of two terms. These two terms are the two `TPMatrix`es returned by `inner` above.\n",
    "\n",
    "Now each one of these two terms can be written as the outer product of two smaller matrices. "
   ]
  },
  {
   "cell_type": "markdown",
   "metadata": {
    "slideshow": {
     "slide_type": "subslide"
    }
   },
   "source": [
    "Consider the first, inserting for test and trial functions\n",
    "\n",
    "$$\n",
    "\\begin{align}\n",
    "v &= \\phi_{kl} = (L_k(x)-L_{k+2}(x))\\exp(\\text{i}ly) \\\\\n",
    "u &= \\phi_{mn}\n",
    "\\end{align}\n",
    "$$\n",
    "\n",
    "The first term becomes\n",
    "\n",
    "$$\n",
    "\\small\n",
    "\\begin{align}\n",
    "\\int_{-1}^1 \\int_{0}^{2\\pi} \\frac{\\partial u}{\\partial x}\\frac{\\partial \\overline{v}}{\\partial x} \\frac{dxdy}{2\\pi} &= \\underbrace{\\int_{-1}^1 \\frac{\\partial (L_m-L_{m+2})}{\\partial x}\\frac{\\partial (L_k-L_{k+2})}{\\partial x} {dx}}_{a_{km}} \\underbrace{\\int_{0}^{2\\pi}  \\exp(iny) \\exp(-ily) \\frac{dy}{2\\pi}}_{\\delta_{ln}} \\\\\n",
    "   &= a_{km} \\delta_{ln}\n",
    "\\end{align}\n",
    "$$\n",
    "\n",
    "and the second\n",
    "\n",
    "$$\n",
    "\\small\n",
    "\\begin{align}\n",
    "\\int_{-1}^1 \\int_{0}^{2\\pi} \\frac{\\partial u}{\\partial y}\\frac{\\partial \\overline{v}}{\\partial y} \\frac{dxdy}{2\\pi} &= \\underbrace{\\int_{-1}^1 (L_m-L_{m+2})(L_k-L_{k+2}) {dx}}_{b_{km}} \\underbrace{\\int_{0}^{2\\pi} ln \\exp(iny) \\exp(-ily)\\frac{dy}{2\\pi}}_{l^2\\delta_{ln}} \\\\\n",
    "   &= l^2 b_{km} \\delta_{ln}\n",
    "\\end{align}\n",
    "$$\n",
    "\n",
    "All in all:\n",
    "\n",
    "$$\n",
    "(\\nabla u, \\nabla v)_w = \\left(a_{km} \\delta_{ln} + l^2 b_{km} \\delta_{ln}\\right)\n",
    "$$"
   ]
  },
  {
   "cell_type": "markdown",
   "metadata": {
    "slideshow": {
     "slide_type": "subslide"
    }
   },
   "source": [
    "$$\n",
    "(\\nabla u, \\nabla v)_w = \\left(a_{km} \\delta_{ln} + l^2 b_{km} \\delta_{ln}\\right)\n",
    "$$"
   ]
  },
  {
   "cell_type": "code",
   "execution_count": 17,
   "metadata": {
    "slideshow": {
     "slide_type": "fragment"
    }
   },
   "outputs": [
    {
     "name": "stdout",
     "output_type": "stream",
     "text": [
      "[<shenfun.legendre.matrices.ASDSDmat object at 0x7fe068fed790>, <shenfun.matrixbase.Identity object at 0x7fe068fed700>]\n",
      "Or as dense matrices:\n",
      "[[ 6.  0.  0.  0.  0.  0.]\n",
      " [ 0. 10.  0.  0.  0.  0.]\n",
      " [ 0.  0. 14.  0.  0.  0.]\n",
      " [ 0.  0.  0. 18.  0.  0.]\n",
      " [ 0.  0.  0.  0. 22.  0.]\n",
      " [ 0.  0.  0.  0.  0. 26.]]\n",
      "[[1. 0. 0. 0. 0.]\n",
      " [0. 1. 0. 0. 0.]\n",
      " [0. 0. 1. 0. 0.]\n",
      " [0. 0. 0. 1. 0.]\n",
      " [0. 0. 0. 0. 1.]]\n"
     ]
    }
   ],
   "source": [
    "A = inner(grad(u), grad(v)) # <- list of two TPMatrices\n",
    "print(A[0].mats)\n",
    "print('Or as dense matrices:')\n",
    "for mat in A[0].mats:\n",
    "    print(mat.diags().todense())"
   ]
  },
  {
   "cell_type": "code",
   "execution_count": 18,
   "metadata": {
    "slideshow": {
     "slide_type": "fragment"
    }
   },
   "outputs": [
    {
     "name": "stdout",
     "output_type": "stream",
     "text": [
      "[<shenfun.legendre.matrices.BSDSDmat object at 0x7fe0484e05b0>, <shenfun.matrixbase.Identity object at 0x7fe0484e07c0>]\n",
      "[[ 0.  1.  4.  9. 16.]]\n"
     ]
    }
   ],
   "source": [
    "print(A[1].mats)\n",
    "print(A[1].scale) # l^2"
   ]
  },
  {
   "cell_type": "markdown",
   "metadata": {
    "slideshow": {
     "slide_type": "slide"
    }
   },
   "source": [
    "# 3D Poisson (with MPI and Fourier x 2)"
   ]
  },
  {
   "cell_type": "code",
   "execution_count": 19,
   "metadata": {
    "slideshow": {
     "slide_type": "fragment"
    }
   },
   "outputs": [
    {
     "name": "stdout",
     "output_type": "stream",
     "text": [
      "(32, 32, 17)\n"
     ]
    }
   ],
   "source": [
    "import matplotlib.pyplot as plt\n",
    "from sympy import symbols, sin, cos, lambdify\n",
    "from shenfun import *\n",
    "\n",
    "# Use sympy to compute manufactured solution\n",
    "x, y, z = symbols(\"x,y,z\")\n",
    "ue = (cos(4*x) + sin(2*y) + sin(4*z))*(1-x**2)\n",
    "fe = ue.diff(x, 2) + ue.diff(y, 2) + ue.diff(z, 2)\n",
    "\n",
    "C0 = FunctionSpace(32, 'Chebyshev', bc=(0, 0))\n",
    "F1 = FunctionSpace(32, 'Fourier', dtype='D')\n",
    "F2 = FunctionSpace(32, 'Fourier', dtype='d')\n",
    "T = TensorProductSpace(comm, (C0, F1, F2))\n",
    "u = TrialFunction(T)\n",
    "v = TestFunction(T)\n",
    "\n",
    "# Assemble left and right hand\n",
    "f_hat = inner(v, Array(T, buffer=fe))\n",
    "A = inner(v, div(grad(u)))\n",
    "\n",
    "# Solve\n",
    "solver = chebyshev.la.Helmholtz(*A) # Very fast O(N) solver\n",
    "u_hat = Function(T)\n",
    "u_hat = solver(f_hat, u_hat)\n",
    "assert np.linalg.norm(u_hat.backward()-Array(T, buffer=ue)) < 1e-12\n",
    "print(u_hat.shape)"
   ]
  },
  {
   "cell_type": "markdown",
   "metadata": {
    "slideshow": {
     "slide_type": "subslide"
    }
   },
   "source": [
    "# Contour plot of slice with constant y"
   ]
  },
  {
   "cell_type": "code",
   "execution_count": 20,
   "metadata": {
    "slideshow": {
     "slide_type": "fragment"
    }
   },
   "outputs": [
    {
     "data": {
      "text/plain": [
       "<matplotlib.colorbar.Colorbar at 0x7fdfc0106520>"
      ]
     },
     "execution_count": 20,
     "metadata": {},
     "output_type": "execute_result"
    },
    {
     "data": {
      "image/png": "[encoded data removed]",
      "text/plain": [
       "<Figure size 432x288 with 2 Axes>"
      ]
     },
     "metadata": {
      "needs_background": "light"
     },
     "output_type": "display_data"
    }
   ],
   "source": [
    "X = T.local_mesh()\n",
    "ua = u_hat.backward()\n",
    "plt.contourf(X[2][0, 0, :], X[0][:, 0, 0], ua[:, 2], 100)\n",
    "plt.colorbar()"
   ]
  },
  {
   "cell_type": "markdown",
   "metadata": {
    "slideshow": {
     "slide_type": "subslide"
    }
   },
   "source": [
    "# Run with MPI distribution of arrays\n",
    "\n",
    "Here we would normally run from a bash shell\n",
    "<p style=\"margin-bottom:0.5cm;\">\n",
    "\n",
    "<div style=\"color:black\"> <strong>[bash shell] mpirun -np 4 python poisson3D.py </strong> </div>\n",
    "\n",
    "But since we are in a Jupyter notebook lets actually do this from python in a live cell:-)"
   ]
  },
  {
   "cell_type": "code",
   "execution_count": 21,
   "metadata": {
    "slideshow": {
     "slide_type": "fragment"
    }
   },
   "outputs": [
    {
     "data": {
      "text/plain": [
       "b'(32, 16, 8)\\n(32, 16, 9)\\n(32, 16, 9)\\n(32, 16, 8)\\n'"
      ]
     },
     "execution_count": 21,
     "metadata": {},
     "output_type": "execute_result"
    }
   ],
   "source": [
    "import subprocess\n",
    "subprocess.check_output('mpirun -np 4 python poisson3D.py', shell=True)"
   ]
  },
  {
   "cell_type": "markdown",
   "metadata": {
    "slideshow": {
     "slide_type": "fragment"
    }
   },
   "source": [
    "Note that Fourier bases are especially attractive because of features easily handled with MPI:\n",
    "\n",
    "    - diagonal matrices\n",
    "    - fast transforms"
   ]
  },
  {
   "cell_type": "markdown",
   "metadata": {
    "slideshow": {
     "slide_type": "subslide"
    }
   },
   "source": [
    "# mpi4py-fft\n",
    "\n",
    "<p style=\"margin-bottom:1cm;\">\n",
    "\n",
    "<div class=\"sl-block is-focused\" data-block-type=\"image\" style=\"min-width: 4px; min-height: 4px; width: 256px; height: 65px; left: 0px; top: 280px;\" data-origin-id=\"e9caa44395810f9c496e1903dd61aba2\"><img data-natural-width=\"1280\" data-natural-height=\"325\" style=\"\" data-lazy-loaded=\"\" src=\"https://s3.amazonaws.com/media-p.slid.es/uploads/92046/images/4253090/BitBucket_SVG_Logo.svg.png\"></div>\n",
    "\n",
    "by Mikael Mortensen and Lisandro Dalcin\n",
    "\n",
    "Highly configurable Python package for distributing multidimensional arrays and for computing fast Fourier Transforms (FFTs) in parallel. Wraps [FFTW](http://www.fftw.org/) and lies at the core of `shenfun` and distributes large arrays.\n",
    "\n",
    "<div>\n",
    "<img src=\"https://rawcdn.githack.com/spectralDNS/spectralutilities/7777e58e1e81887149d1eaf6053e33769ee4a3f5/figures/pencil2.png\" style=\"float:left\" width=320> <img src=\"https://rawcdn.githack.com/spectralDNS/spectralutilities/7777e58e1e81887149d1eaf6053e33769ee4a3f5/figures/pencil3.png\" style=\"float:right\" width=320>\n",
    "</div>\n",
    "\n",
    "[![mpi4py-fft](https://anaconda.org/conda-forge/mpi4py-fft/badges/downloads.svg)](https://anaconda.org/conda-forge/mpi4py-fft)"
   ]
  },
  {
   "cell_type": "markdown",
   "metadata": {
    "slideshow": {
     "slide_type": "slide"
    }
   },
   "source": [
    "# Nonlinearities and convolutions\n",
    "All treated with pseudo-spectral techniques. For example\n",
    "\n",
    "$$\n",
    "\\begin{align}\n",
    "\\hat{w}_k &= \\widehat{\\mathbf{u} \\cdot \\mathbf{u}}_k \\\\\n",
    "          &\\text{or} \\\\\n",
    "\\hat{w}_k &= \\widehat{|\\nabla f|^2}_k\n",
    "\\end{align}\n",
    "$$\n",
    "\n",
    "Nonlinear terms are computed in real space and then forward transformed to spectral space.\n",
    "\n",
    "3/2-rule or 2/3-rule possible for dealiasing of Fourier."
   ]
  },
  {
   "cell_type": "code",
   "execution_count": 22,
   "metadata": {
    "slideshow": {
     "slide_type": "fragment"
    }
   },
   "outputs": [],
   "source": [
    "V = VectorSpace(T)\n",
    "u = Array(V)\n",
    "u[:] = np.random.random(u.shape)\n",
    "w = np.sum(u*u, axis=0)\n",
    "wh = Function(T)\n",
    "wh = T.forward(w, wh)"
   ]
  },
  {
   "cell_type": "markdown",
   "metadata": {
    "slideshow": {
     "slide_type": "slide"
    }
   },
   "source": [
    "# Mixed tensor product spaces\n",
    "\n",
    "Solve several equations simultaneously\n",
    "\n",
    "- Coupled equations\n",
    "- Block matrices and vectors\n",
    "- Tensor spaces of vectors, like velocity $u \\in [\\mathbb{R}^3]^3$"
   ]
  },
  {
   "cell_type": "markdown",
   "metadata": {
    "slideshow": {
     "slide_type": "subslide"
    }
   },
   "source": [
    "# Stokes equations\n",
    "### lid-driven cavity - coupled solver\n",
    "<p style=\"margin-bottom:0.25cm;\">\n",
    "\n",
    "$$\n",
    "\\begin{align*}\n",
    "\\nabla^2 \\mathbf{u} - \\nabla p &= \\mathbf{f} \\quad \\text{in }  \\Omega, \\quad \\quad \\Omega = [-1, 1]\\times[-1, 1]\\\\ \n",
    "\\nabla \\cdot \\mathbf{u} &= h \\quad \\text{in } \\Omega  \\\\ \n",
    "\\int_{\\Omega} p dx &= 0 \\\\\n",
    "\\mathbf{u}(\\pm 1, y) = \\mathbf{u}(x, -1) = (0, 0) &\\text{ and }\\mathbf{u}(x, 1) = (1, 0) \\text{ or } ((1-x^2)(1+x^2), 0)\n",
    "\\end{align*}\n",
    "$$\n",
    "\n",
    "Given appropriate spaces $V$ and $Q$ a variational form reads: find $(\\mathbf{u}, p) \\in V \\times Q$ such that \n",
    "\n",
    "$$\n",
    "\\begin{equation}\n",
    "a((\\mathbf{u}, p), (\\mathbf{v}, q)) = L((\\mathbf{v}, q)) \\quad \\forall (\\mathbf{v}, q) \\in V \\times Q\n",
    "\\end{equation}\n",
    "$$"
   ]
  },
  {
   "cell_type": "markdown",
   "metadata": {
    "slideshow": {
     "slide_type": "fragment"
    }
   },
   "source": [
    "where bilinear and linear forms are, respectively\n",
    "\n",
    "$$\n",
    "\\begin{equation}\n",
    "    a((\\mathbf{u}, p), (\\mathbf{v}, q)) = \\int_{\\Omega} (\\nabla^2 \\mathbf{u} - \\nabla p) \\cdot {\\mathbf{v}} \\, dx_w + \\int_{\\Omega} \\nabla \\cdot \\mathbf{u} \\, {q} \\, dx_w,\n",
    "\\end{equation}\n",
    "$$\n",
    "$$\n",
    "\\begin{equation}  \n",
    "    L((\\mathbf{v}, q)) = \\int_{\\Omega} \\mathbf{f} \\cdot {\\mathbf{v}}\\, dx_w + \\int_{\\Omega} h {q} \\, dx_w\n",
    "\\end{equation}\n",
    "$$"
   ]
  },
  {
   "cell_type": "markdown",
   "metadata": {
    "slideshow": {
     "slide_type": "subslide"
    }
   },
   "source": [
    "Using integration by parts for Legendre (not really necessary, but looks nicer and more familiar:-)\n",
    "\n",
    "$$\n",
    "\\begin{equation}\n",
    "    a((\\mathbf{u}, p), (\\mathbf{v}, q)) = -\\int_{\\Omega} \\nabla \\mathbf{u} \\cdot \\nabla{\\mathbf{v}} \\, dx_w + \\int_{\\Omega} \\nabla \\cdot \\mathbf{v} \\, {p} \\, dx_w + \\int_{\\Omega} \\nabla \\cdot \\mathbf{u} \\, {q} \\, dx_w,\n",
    "\\end{equation}\n",
    "$$"
   ]
  },
  {
   "cell_type": "markdown",
   "metadata": {
    "slideshow": {
     "slide_type": "subslide"
    }
   },
   "source": [
    "# Implementation of spaces, basis functions"
   ]
  },
  {
   "cell_type": "code",
   "execution_count": 23,
   "metadata": {
    "slideshow": {
     "slide_type": "fragment"
    }
   },
   "outputs": [],
   "source": [
    "N = (40, 40)\n",
    "D0X = FunctionSpace(N[0], 'Legendre', bc=(0, 0))  # For velocity components 0, 1\n",
    "#D1Y = FunctionSpace(N[1], 'Legendre', bc=(0, 1)) # For velocity component 0 \n",
    "D1Y = FunctionSpace(N[1], 'Legendre', bc=(0, (1-x)**2*(1+x)**2)) # Regularized lid\n",
    "D0Y = FunctionSpace(N[1], 'Legendre', bc=(0, 0))  # For velocity component 1\n",
    "PX = FunctionSpace(N[0], 'Legendre')\n",
    "PY = FunctionSpace(N[1], 'Legendre')\n",
    "\n",
    "# All required spaces\n",
    "V0 = TensorProductSpace(comm, (D0X, D1Y)) # velocity conponent 0\n",
    "V1 = TensorProductSpace(comm, (D0X, D0Y)) # velocity component 1\n",
    "Q = TensorProductSpace(comm, (PX, PY), modify_spaces_inplace=True)    # pressure\n",
    "V = VectorSpace([V0, V1])     # Velocity vector (V0 x V1)\n",
    "VQ = CompositeSpace([V, Q])      # V x Q\n",
    "\n",
    "PX.slice = lambda: slice(0, PX.N-2) # For inf-sup\n",
    "PY.slice = lambda: slice(0, PY.N-2) # For inf-sup\n",
    "\n",
    "# All required test and trial functions\n",
    "up = TrialFunction(VQ)\n",
    "vq = TestFunction(VQ)\n",
    "u, p = up\n",
    "v, q = vq"
   ]
  },
  {
   "cell_type": "markdown",
   "metadata": {
    "slideshow": {
     "slide_type": "subslide"
    }
   },
   "source": [
    "# Implementation Stokes - matrices and solve"
   ]
  },
  {
   "cell_type": "code",
   "execution_count": 24,
   "metadata": {
    "slideshow": {
     "slide_type": "fragment"
    }
   },
   "outputs": [],
   "source": [
    "# Assemble matrices\n",
    "A = inner(grad(v), -grad(u))\n",
    "G = inner(div(v), p)\n",
    "D = inner(q, div(u))\n",
    "\n",
    "# Create Block matrix solver\n",
    "sol = la.BlockMatrixSolver(A+G+D)\n",
    "\n",
    "# Add Functions to hold solution and rhs\n",
    "up_hat = Function(VQ).set_boundary_dofs()\n",
    "fh_hat = Function(VQ)\n",
    "\n",
    "# Solve Stokes problem. Note constraint for pressure\n",
    "up_hat = sol(fh_hat, u=up_hat, constraints=((2, 0, 0),))\n",
    "\n",
    "# Move solution to Array in real space\n",
    "up = up_hat.backward()\n",
    "u_, p_ = up"
   ]
  },
  {
   "cell_type": "code",
   "execution_count": 25,
   "metadata": {
    "slideshow": {
     "slide_type": "subslide"
    }
   },
   "outputs": [
    {
     "data": {
      "text/plain": [
       "<matplotlib.quiver.Quiver at 0x7fe0083d2a60>"
      ]
     },
     "execution_count": 25,
     "metadata": {},
     "output_type": "execute_result"
    },
    {
     "data": {
      "image/png": "[encoded data removed]",
      "text/plain": [
       "<Figure size 432x288 with 1 Axes>"
      ]
     },
     "metadata": {
      "needs_background": "light"
     },
     "output_type": "display_data"
    }
   ],
   "source": [
    "X = Q.local_mesh(True)\n",
    "plt.quiver(X[0], X[1], u_[0], u_[1])"
   ]
  },
  {
   "cell_type": "markdown",
   "metadata": {
    "slideshow": {
     "slide_type": "subslide"
    }
   },
   "source": [
    "# Block matrix M\n",
    "$$\n",
    "M =\n",
    "  \\begin{bmatrix}\n",
    "      A[0]+A[1] & 0 & G[0] \\\\\n",
    "      0 & A[2]+A[3] & G[1] \\\\ \n",
    "      D[0] & D[1] & 0\n",
    "  \\end{bmatrix}\n",
    "$$\n",
    "\n",
    "where $D = G^T$ for the Legendre basis, making $M$ symmetric. For Chebyshev $M$ will not be symmetric.\n",
    "\n",
    "Solver through [scipy.sparse.linalg](https://docs.scipy.org/doc/scipy/reference/sparse.linalg.html)\n",
    "\n",
    "For Navier-Stokes of the lid-driven cavity, see https://github.com/spectralDNS/shenfun/blob/master/demo/NavierStokesDrivenCavity.py"
   ]
  },
  {
   "cell_type": "markdown",
   "metadata": {
    "slideshow": {
     "slide_type": "subslide"
    }
   },
   "source": [
    "# Sparsity pattern\n",
    "\n",
    "$$\n",
    "M =\n",
    "  \\begin{bmatrix}\n",
    "      A[0]+A[1] & 0 & G[0] \\\\\n",
    "      0 & A[2]+A[3] & G[1] \\\\ \n",
    "      D[0] & D[1] & 0\n",
    "  \\end{bmatrix}\n",
    "$$"
   ]
  },
  {
   "cell_type": "code",
   "execution_count": 26,
   "metadata": {
    "slideshow": {
     "slide_type": "fragment"
    }
   },
   "outputs": [
    {
     "data": {
      "application/javascript": [
       "/* Put everything inside the global mpl namespace */\n",
       "/* global mpl */\n",
       "window.mpl = {};\n",
       "\n",
       "mpl.get_websocket_type = function () {\n",
       "    if (typeof WebSocket !== 'undefined') {\n",
       "        return WebSocket;\n",
       "    } else if (typeof MozWebSocket !== 'undefined') {\n",
       "        return MozWebSocket;\n",
       "    } else {\n",
       "        alert(\n",
       "            'Your browser does not have WebSocket support. ' +\n",
       "                'Please try Chrome, Safari or Firefox ≥ 6. ' +\n",
       "                'Firefox 4 and 5 are also supported but you ' +\n",
       "                'have to enable WebSockets in about:config.'\n",
       "        );\n",
       "    }\n",
       "};\n",
       "\n",
       "mpl.figure = function (figure_id, websocket, ondownload, parent_element) {\n",
       "    this.id = figure_id;\n",
       "\n",
       "    this.ws = websocket;\n",
       "\n",
       "    this.supports_binary = this.ws.binaryType !== undefined;\n",
       "\n",
       "    if (!this.supports_binary) {\n",
       "        var warnings = document.getElementById('mpl-warnings');\n",
       "        if (warnings) {\n",
       "            warnings.style.display = 'block';\n",
       "            warnings.textContent =\n",
       "                'This browser does not support binary websocket messages. ' +\n",
       "                'Performance may be slow.';\n",
       "        }\n",
       "    }\n",
       "\n",
       "    this.imageObj = new Image();\n",
       "\n",
       "    this.context = undefined;\n",
       "    this.message = undefined;\n",
       "    this.canvas = undefined;\n",
       "    this.rubberband_canvas = undefined;\n",
       "    this.rubberband_context = undefined;\n",
       "    this.format_dropdown = undefined;\n",
       "\n",
       "    this.image_mode = 'full';\n",
       "\n",
       "    this.root = document.createElement('div');\n",
       "    this.root.setAttribute('style', 'display: inline-block');\n",
       "    this._root_extra_style(this.root);\n",
       "\n",
       "    parent_element.appendChild(this.root);\n",
       "\n",
       "    this._init_header(this);\n",
       "    this._init_canvas(this);\n",
       "    this._init_toolbar(this);\n",
       "\n",
       "    var fig = this;\n",
       "\n",
       "    this.waiting = false;\n",
       "\n",
       "    this.ws.onopen = function () {\n",
       "        fig.send_message('supports_binary', { value: fig.supports_binary });\n",
       "        fig.send_message('send_image_mode', {});\n",
       "        if (fig.ratio !== 1) {\n",
       "            fig.send_message('set_dpi_ratio', { dpi_ratio: fig.ratio });\n",
       "        }\n",
       "        fig.send_message('refresh', {});\n",
       "    };\n",
       "\n",
       "    this.imageObj.onload = function () {\n",
       "        if (fig.image_mode === 'full') {\n",
       "            // Full images could contain transparency (where diff images\n",
       "            // almost always do), so we need to clear the canvas so that\n",
       "            // there is no ghosting.\n",
       "            fig.context.clearRect(0, 0, fig.canvas.width, fig.canvas.height);\n",
       "        }\n",
       "        fig.context.drawImage(fig.imageObj, 0, 0);\n",
       "    };\n",
       "\n",
       "    this.imageObj.onunload = function () {\n",
       "        fig.ws.close();\n",
       "    };\n",
       "\n",
       "    this.ws.onmessage = this._make_on_message_function(this);\n",
       "\n",
       "    this.ondownload = ondownload;\n",
       "};\n",
       "\n",
       "mpl.figure.prototype._init_header = function () {\n",
       "    var titlebar = document.createElement('div');\n",
       "    titlebar.classList =\n",
       "        'ui-dialog-titlebar ui-widget-header ui-corner-all ui-helper-clearfix';\n",
       "    var titletext = document.createElement('div');\n",
       "    titletext.classList = 'ui-dialog-title';\n",
       "    titletext.setAttribute(\n",
       "        'style',\n",
       "        'width: 100%; text-align: center; padding: 3px;'\n",
       "    );\n",
       "    titlebar.appendChild(titletext);\n",
       "    this.root.appendChild(titlebar);\n",
       "    this.header = titletext;\n",
       "};\n",
       "\n",
       "mpl.figure.prototype._canvas_extra_style = function (_canvas_div) {};\n",
       "\n",
       "mpl.figure.prototype._root_extra_style = function (_canvas_div) {};\n",
       "\n",
       "mpl.figure.prototype._init_canvas = function () {\n",
       "    var fig = this;\n",
       "\n",
       "    var canvas_div = (this.canvas_div = document.createElement('div'));\n",
       "    canvas_div.setAttribute(\n",
       "        'style',\n",
       "        'border: 1px solid #ddd;' +\n",
       "            'box-sizing: content-box;' +\n",
       "            'clear: both;' +\n",
       "            'min-height: 1px;' +\n",
       "            'min-width: 1px;' +\n",
       "            'outline: 0;' +\n",
       "            'overflow: hidden;' +\n",
       "            'position: relative;' +\n",
       "            'resize: both;'\n",
       "    );\n",
       "\n",
       "    function on_keyboard_event_closure(name) {\n",
       "        return function (event) {\n",
       "            return fig.key_event(event, name);\n",
       "        };\n",
       "    }\n",
       "\n",
       "    canvas_div.addEventListener(\n",
       "        'keydown',\n",
       "        on_keyboard_event_closure('key_press')\n",
       "    );\n",
       "    canvas_div.addEventListener(\n",
       "        'keyup',\n",
       "        on_keyboard_event_closure('key_release')\n",
       "    );\n",
       "\n",
       "    this._canvas_extra_style(canvas_div);\n",
       "    this.root.appendChild(canvas_div);\n",
       "\n",
       "    var canvas = (this.canvas = document.createElement('canvas'));\n",
       "    canvas.classList.add('mpl-canvas');\n",
       "    canvas.setAttribute('style', 'box-sizing: content-box;');\n",
       "\n",
       "    this.context = canvas.getContext('2d');\n",
       "\n",
       "    var backingStore =\n",
       "        this.context.backingStorePixelRatio ||\n",
       "        this.context.webkitBackingStorePixelRatio ||\n",
       "        this.context.mozBackingStorePixelRatio ||\n",
       "        this.context.msBackingStorePixelRatio ||\n",
       "        this.context.oBackingStorePixelRatio ||\n",
       "        this.context.backingStorePixelRatio ||\n",
       "        1;\n",
       "\n",
       "    this.ratio = (window.devicePixelRatio || 1) / backingStore;\n",
       "    if (this.ratio !== 1) {\n",
       "        fig.send_message('set_dpi_ratio', { dpi_ratio: this.ratio });\n",
       "    }\n",
       "\n",
       "    var rubberband_canvas = (this.rubberband_canvas = document.createElement(\n",
       "        'canvas'\n",
       "    ));\n",
       "    rubberband_canvas.setAttribute(\n",
       "        'style',\n",
       "        'box-sizing: content-box; position: absolute; left: 0; top: 0; z-index: 1;'\n",
       "    );\n",
       "\n",
       "    var resizeObserver = new ResizeObserver(function (entries) {\n",
       "        var nentries = entries.length;\n",
       "        for (var i = 0; i < nentries; i++) {\n",
       "            var entry = entries[i];\n",
       "            var width, height;\n",
       "            if (entry.contentBoxSize) {\n",
       "                if (entry.contentBoxSize instanceof Array) {\n",
       "                    // Chrome 84 implements new version of spec.\n",
       "                    width = entry.contentBoxSize[0].inlineSize;\n",
       "                    height = entry.contentBoxSize[0].blockSize;\n",
       "                } else {\n",
       "                    // Firefox implements old version of spec.\n",
       "                    width = entry.contentBoxSize.inlineSize;\n",
       "                    height = entry.contentBoxSize.blockSize;\n",
       "                }\n",
       "            } else {\n",
       "                // Chrome <84 implements even older version of spec.\n",
       "                width = entry.contentRect.width;\n",
       "                height = entry.contentRect.height;\n",
       "            }\n",
       "\n",
       "            // Keep the size of the canvas and rubber band canvas in sync with\n",
       "            // the canvas container.\n",
       "            if (entry.devicePixelContentBoxSize) {\n",
       "                // Chrome 84 implements new version of spec.\n",
       "                canvas.setAttribute(\n",
       "                    'width',\n",
       "                    entry.devicePixelContentBoxSize[0].inlineSize\n",
       "                );\n",
       "                canvas.setAttribute(\n",
       "                    'height',\n",
       "                    entry.devicePixelContentBoxSize[0].blockSize\n",
       "                );\n",
       "            } else {\n",
       "                canvas.setAttribute('width', width * fig.ratio);\n",
       "                canvas.setAttribute('height', height * fig.ratio);\n",
       "            }\n",
       "            canvas.setAttribute(\n",
       "                'style',\n",
       "                'width: ' + width + 'px; height: ' + height + 'px;'\n",
       "            );\n",
       "\n",
       "            rubberband_canvas.setAttribute('width', width);\n",
       "            rubberband_canvas.setAttribute('height', height);\n",
       "\n",
       "            // And update the size in Python. We ignore the initial 0/0 size\n",
       "            // that occurs as the element is placed into the DOM, which should\n",
       "            // otherwise not happen due to the minimum size styling.\n",
       "            if (width != 0 && height != 0) {\n",
       "                fig.request_resize(width, height);\n",
       "            }\n",
       "        }\n",
       "    });\n",
       "    resizeObserver.observe(canvas_div);\n",
       "\n",
       "    function on_mouse_event_closure(name) {\n",
       "        return function (event) {\n",
       "            return fig.mouse_event(event, name);\n",
       "        };\n",
       "    }\n",
       "\n",
       "    rubberband_canvas.addEventListener(\n",
       "        'mousedown',\n",
       "        on_mouse_event_closure('button_press')\n",
       "    );\n",
       "    rubberband_canvas.addEventListener(\n",
       "        'mouseup',\n",
       "        on_mouse_event_closure('button_release')\n",
       "    );\n",
       "    // Throttle sequential mouse events to 1 every 20ms.\n",
       "    rubberband_canvas.addEventListener(\n",
       "        'mousemove',\n",
       "        on_mouse_event_closure('motion_notify')\n",
       "    );\n",
       "\n",
       "    rubberband_canvas.addEventListener(\n",
       "        'mouseenter',\n",
       "        on_mouse_event_closure('figure_enter')\n",
       "    );\n",
       "    rubberband_canvas.addEventListener(\n",
       "        'mouseleave',\n",
       "        on_mouse_event_closure('figure_leave')\n",
       "    );\n",
       "\n",
       "    canvas_div.addEventListener('wheel', function (event) {\n",
       "        if (event.deltaY < 0) {\n",
       "            event.step = 1;\n",
       "        } else {\n",
       "            event.step = -1;\n",
       "        }\n",
       "        on_mouse_event_closure('scroll')(event);\n",
       "    });\n",
       "\n",
       "    canvas_div.appendChild(canvas);\n",
       "    canvas_div.appendChild(rubberband_canvas);\n",
       "\n",
       "    this.rubberband_context = rubberband_canvas.getContext('2d');\n",
       "    this.rubberband_context.strokeStyle = '#000000';\n",
       "\n",
       "    this._resize_canvas = function (width, height, forward) {\n",
       "        if (forward) {\n",
       "            canvas_div.style.width = width + 'px';\n",
       "            canvas_div.style.height = height + 'px';\n",
       "        }\n",
       "    };\n",
       "\n",
       "    // Disable right mouse context menu.\n",
       "    this.rubberband_canvas.addEventListener('contextmenu', function (_e) {\n",
       "        event.preventDefault();\n",
       "        return false;\n",
       "    });\n",
       "\n",
       "    function set_focus() {\n",
       "        canvas.focus();\n",
       "        canvas_div.focus();\n",
       "    }\n",
       "\n",
       "    window.setTimeout(set_focus, 100);\n",
       "};\n",
       "\n",
       "mpl.figure.prototype._init_toolbar = function () {\n",
       "    var fig = this;\n",
       "\n",
       "    var toolbar = document.createElement('div');\n",
       "    toolbar.classList = 'mpl-toolbar';\n",
       "    this.root.appendChild(toolbar);\n",
       "\n",
       "    function on_click_closure(name) {\n",
       "        return function (_event) {\n",
       "            return fig.toolbar_button_onclick(name);\n",
       "        };\n",
       "    }\n",
       "\n",
       "    function on_mouseover_closure(tooltip) {\n",
       "        return function (event) {\n",
       "            if (!event.currentTarget.disabled) {\n",
       "                return fig.toolbar_button_onmouseover(tooltip);\n",
       "            }\n",
       "        };\n",
       "    }\n",
       "\n",
       "    fig.buttons = {};\n",
       "    var buttonGroup = document.createElement('div');\n",
       "    buttonGroup.classList = 'mpl-button-group';\n",
       "    for (var toolbar_ind in mpl.toolbar_items) {\n",
       "        var name = mpl.toolbar_items[toolbar_ind][0];\n",
       "        var tooltip = mpl.toolbar_items[toolbar_ind][1];\n",
       "        var image = mpl.toolbar_items[toolbar_ind][2];\n",
       "        var method_name = mpl.toolbar_items[toolbar_ind][3];\n",
       "\n",
       "        if (!name) {\n",
       "            /* Instead of a spacer, we start a new button group. */\n",
       "            if (buttonGroup.hasChildNodes()) {\n",
       "                toolbar.appendChild(buttonGroup);\n",
       "            }\n",
       "            buttonGroup = document.createElement('div');\n",
       "            buttonGroup.classList = 'mpl-button-group';\n",
       "            continue;\n",
       "        }\n",
       "\n",
       "        var button = (fig.buttons[name] = document.createElement('button'));\n",
       "        button.classList = 'mpl-widget';\n",
       "        button.setAttribute('role', 'button');\n",
       "        button.setAttribute('aria-disabled', 'false');\n",
       "        button.addEventListener('click', on_click_closure(method_name));\n",
       "        button.addEventListener('mouseover', on_mouseover_closure(tooltip));\n",
       "\n",
       "        var icon_img = document.createElement('img');\n",
       "        icon_img.src = '_images/' + image + '.png';\n",
       "        icon_img.srcset = '_images/' + image + '_large.png 2x';\n",
       "        icon_img.alt = tooltip;\n",
       "        button.appendChild(icon_img);\n",
       "\n",
       "        buttonGroup.appendChild(button);\n",
       "    }\n",
       "\n",
       "    if (buttonGroup.hasChildNodes()) {\n",
       "        toolbar.appendChild(buttonGroup);\n",
       "    }\n",
       "\n",
       "    var fmt_picker = document.createElement('select');\n",
       "    fmt_picker.classList = 'mpl-widget';\n",
       "    toolbar.appendChild(fmt_picker);\n",
       "    this.format_dropdown = fmt_picker;\n",
       "\n",
       "    for (var ind in mpl.extensions) {\n",
       "        var fmt = mpl.extensions[ind];\n",
       "        var option = document.createElement('option');\n",
       "        option.selected = fmt === mpl.default_extension;\n",
       "        option.innerHTML = fmt;\n",
       "        fmt_picker.appendChild(option);\n",
       "    }\n",
       "\n",
       "    var status_bar = document.createElement('span');\n",
       "    status_bar.classList = 'mpl-message';\n",
       "    toolbar.appendChild(status_bar);\n",
       "    this.message = status_bar;\n",
       "};\n",
       "\n",
       "mpl.figure.prototype.request_resize = function (x_pixels, y_pixels) {\n",
       "    // Request matplotlib to resize the figure. Matplotlib will then trigger a resize in the client,\n",
       "    // which will in turn request a refresh of the image.\n",
       "    this.send_message('resize', { width: x_pixels, height: y_pixels });\n",
       "};\n",
       "\n",
       "mpl.figure.prototype.send_message = function (type, properties) {\n",
       "    properties['type'] = type;\n",
       "    properties['figure_id'] = this.id;\n",
       "    this.ws.send(JSON.stringify(properties));\n",
       "};\n",
       "\n",
       "mpl.figure.prototype.send_draw_message = function () {\n",
       "    if (!this.waiting) {\n",
       "        this.waiting = true;\n",
       "        this.ws.send(JSON.stringify({ type: 'draw', figure_id: this.id }));\n",
       "    }\n",
       "};\n",
       "\n",
       "mpl.figure.prototype.handle_save = function (fig, _msg) {\n",
       "    var format_dropdown = fig.format_dropdown;\n",
       "    var format = format_dropdown.options[format_dropdown.selectedIndex].value;\n",
       "    fig.ondownload(fig, format);\n",
       "};\n",
       "\n",
       "mpl.figure.prototype.handle_resize = function (fig, msg) {\n",
       "    var size = msg['size'];\n",
       "    if (size[0] !== fig.canvas.width || size[1] !== fig.canvas.height) {\n",
       "        fig._resize_canvas(size[0], size[1], msg['forward']);\n",
       "        fig.send_message('refresh', {});\n",
       "    }\n",
       "};\n",
       "\n",
       "mpl.figure.prototype.handle_rubberband = function (fig, msg) {\n",
       "    var x0 = msg['x0'] / fig.ratio;\n",
       "    var y0 = (fig.canvas.height - msg['y0']) / fig.ratio;\n",
       "    var x1 = msg['x1'] / fig.ratio;\n",
       "    var y1 = (fig.canvas.height - msg['y1']) / fig.ratio;\n",
       "    x0 = Math.floor(x0) + 0.5;\n",
       "    y0 = Math.floor(y0) + 0.5;\n",
       "    x1 = Math.floor(x1) + 0.5;\n",
       "    y1 = Math.floor(y1) + 0.5;\n",
       "    var min_x = Math.min(x0, x1);\n",
       "    var min_y = Math.min(y0, y1);\n",
       "    var width = Math.abs(x1 - x0);\n",
       "    var height = Math.abs(y1 - y0);\n",
       "\n",
       "    fig.rubberband_context.clearRect(\n",
       "        0,\n",
       "        0,\n",
       "        fig.canvas.width / fig.ratio,\n",
       "        fig.canvas.height / fig.ratio\n",
       "    );\n",
       "\n",
       "    fig.rubberband_context.strokeRect(min_x, min_y, width, height);\n",
       "};\n",
       "\n",
       "mpl.figure.prototype.handle_figure_label = function (fig, msg) {\n",
       "    // Updates the figure title.\n",
       "    fig.header.textContent = msg['label'];\n",
       "};\n",
       "\n",
       "mpl.figure.prototype.handle_cursor = function (fig, msg) {\n",
       "    var cursor = msg['cursor'];\n",
       "    switch (cursor) {\n",
       "        case 0:\n",
       "            cursor = 'pointer';\n",
       "            break;\n",
       "        case 1:\n",
       "            cursor = 'default';\n",
       "            break;\n",
       "        case 2:\n",
       "            cursor = 'crosshair';\n",
       "            break;\n",
       "        case 3:\n",
       "            cursor = 'move';\n",
       "            break;\n",
       "    }\n",
       "    fig.rubberband_canvas.style.cursor = cursor;\n",
       "};\n",
       "\n",
       "mpl.figure.prototype.handle_message = function (fig, msg) {\n",
       "    fig.message.textContent = msg['message'];\n",
       "};\n",
       "\n",
       "mpl.figure.prototype.handle_draw = function (fig, _msg) {\n",
       "    // Request the server to send over a new figure.\n",
       "    fig.send_draw_message();\n",
       "};\n",
       "\n",
       "mpl.figure.prototype.handle_image_mode = function (fig, msg) {\n",
       "    fig.image_mode = msg['mode'];\n",
       "};\n",
       "\n",
       "mpl.figure.prototype.handle_history_buttons = function (fig, msg) {\n",
       "    for (var key in msg) {\n",
       "        if (!(key in fig.buttons)) {\n",
       "            continue;\n",
       "        }\n",
       "        fig.buttons[key].disabled = !msg[key];\n",
       "        fig.buttons[key].setAttribute('aria-disabled', !msg[key]);\n",
       "    }\n",
       "};\n",
       "\n",
       "mpl.figure.prototype.handle_navigate_mode = function (fig, msg) {\n",
       "    if (msg['mode'] === 'PAN') {\n",
       "        fig.buttons['Pan'].classList.add('active');\n",
       "        fig.buttons['Zoom'].classList.remove('active');\n",
       "    } else if (msg['mode'] === 'ZOOM') {\n",
       "        fig.buttons['Pan'].classList.remove('active');\n",
       "        fig.buttons['Zoom'].classList.add('active');\n",
       "    } else {\n",
       "        fig.buttons['Pan'].classList.remove('active');\n",
       "        fig.buttons['Zoom'].classList.remove('active');\n",
       "    }\n",
       "};\n",
       "\n",
       "mpl.figure.prototype.updated_canvas_event = function () {\n",
       "    // Called whenever the canvas gets updated.\n",
       "    this.send_message('ack', {});\n",
       "};\n",
       "\n",
       "// A function to construct a web socket function for onmessage handling.\n",
       "// Called in the figure constructor.\n",
       "mpl.figure.prototype._make_on_message_function = function (fig) {\n",
       "    return function socket_on_message(evt) {\n",
       "        if (evt.data instanceof Blob) {\n",
       "            /* FIXME: We get \"Resource interpreted as Image but\n",
       "             * transferred with MIME type text/plain:\" errors on\n",
       "             * Chrome.  But how to set the MIME type?  It doesn't seem\n",
       "             * to be part of the websocket stream */\n",
       "            evt.data.type = 'image/png';\n",
       "\n",
       "            /* Free the memory for the previous frames */\n",
       "            if (fig.imageObj.src) {\n",
       "                (window.URL || window.webkitURL).revokeObjectURL(\n",
       "                    fig.imageObj.src\n",
       "                );\n",
       "            }\n",
       "\n",
       "            fig.imageObj.src = (window.URL || window.webkitURL).createObjectURL(\n",
       "                evt.data\n",
       "            );\n",
       "            fig.updated_canvas_event();\n",
       "            fig.waiting = false;\n",
       "            return;\n",
       "        } else if (\n",
       "            typeof evt.data === 'string' &&\n",
       "            evt.data.slice(0, 21) === 'data:image/png;base64'\n",
       "        ) {\n",
       "            fig.imageObj.src = evt.data;\n",
       "            fig.updated_canvas_event();\n",
       "            fig.waiting = false;\n",
       "            return;\n",
       "        }\n",
       "\n",
       "        var msg = JSON.parse(evt.data);\n",
       "        var msg_type = msg['type'];\n",
       "\n",
       "        // Call the  \"handle_{type}\" callback, which takes\n",
       "        // the figure and JSON message as its only arguments.\n",
       "        try {\n",
       "            var callback = fig['handle_' + msg_type];\n",
       "        } catch (e) {\n",
       "            console.log(\n",
       "                \"No handler for the '\" + msg_type + \"' message type: \",\n",
       "                msg\n",
       "            );\n",
       "            return;\n",
       "        }\n",
       "\n",
       "        if (callback) {\n",
       "            try {\n",
       "                // console.log(\"Handling '\" + msg_type + \"' message: \", msg);\n",
       "                callback(fig, msg);\n",
       "            } catch (e) {\n",
       "                console.log(\n",
       "                    \"Exception inside the 'handler_\" + msg_type + \"' callback:\",\n",
       "                    e,\n",
       "                    e.stack,\n",
       "                    msg\n",
       "                );\n",
       "            }\n",
       "        }\n",
       "    };\n",
       "};\n",
       "\n",
       "// from http://stackoverflow.com/questions/1114465/getting-mouse-location-in-canvas\n",
       "mpl.findpos = function (e) {\n",
       "    //this section is from http://www.quirksmode.org/js/events_properties.html\n",
       "    var targ;\n",
       "    if (!e) {\n",
       "        e = window.event;\n",
       "    }\n",
       "    if (e.target) {\n",
       "        targ = e.target;\n",
       "    } else if (e.srcElement) {\n",
       "        targ = e.srcElement;\n",
       "    }\n",
       "    if (targ.nodeType === 3) {\n",
       "        // defeat Safari bug\n",
       "        targ = targ.parentNode;\n",
       "    }\n",
       "\n",
       "    // pageX,Y are the mouse positions relative to the document\n",
       "    var boundingRect = targ.getBoundingClientRect();\n",
       "    var x = e.pageX - (boundingRect.left + document.body.scrollLeft);\n",
       "    var y = e.pageY - (boundingRect.top + document.body.scrollTop);\n",
       "\n",
       "    return { x: x, y: y };\n",
       "};\n",
       "\n",
       "/*\n",
       " * return a copy of an object with only non-object keys\n",
       " * we need this to avoid circular references\n",
       " * http://stackoverflow.com/a/24161582/3208463\n",
       " */\n",
       "function simpleKeys(original) {\n",
       "    return Object.keys(original).reduce(function (obj, key) {\n",
       "        if (typeof original[key] !== 'object') {\n",
       "            obj[key] = original[key];\n",
       "        }\n",
       "        return obj;\n",
       "    }, {});\n",
       "}\n",
       "\n",
       "mpl.figure.prototype.mouse_event = function (event, name) {\n",
       "    var canvas_pos = mpl.findpos(event);\n",
       "\n",
       "    if (name === 'button_press') {\n",
       "        this.canvas.focus();\n",
       "        this.canvas_div.focus();\n",
       "    }\n",
       "\n",
       "    var x = canvas_pos.x * this.ratio;\n",
       "    var y = canvas_pos.y * this.ratio;\n",
       "\n",
       "    this.send_message(name, {\n",
       "        x: x,\n",
       "        y: y,\n",
       "        button: event.button,\n",
       "        step: event.step,\n",
       "        guiEvent: simpleKeys(event),\n",
       "    });\n",
       "\n",
       "    /* This prevents the web browser from automatically changing to\n",
       "     * the text insertion cursor when the button is pressed.  We want\n",
       "     * to control all of the cursor setting manually through the\n",
       "     * 'cursor' event from matplotlib */\n",
       "    event.preventDefault();\n",
       "    return false;\n",
       "};\n",
       "\n",
       "mpl.figure.prototype._key_event_extra = function (_event, _name) {\n",
       "    // Handle any extra behaviour associated with a key event\n",
       "};\n",
       "\n",
       "mpl.figure.prototype.key_event = function (event, name) {\n",
       "    // Prevent repeat events\n",
       "    if (name === 'key_press') {\n",
       "        if (event.which === this._key) {\n",
       "            return;\n",
       "        } else {\n",
       "            this._key = event.which;\n",
       "        }\n",
       "    }\n",
       "    if (name === 'key_release') {\n",
       "        this._key = null;\n",
       "    }\n",
       "\n",
       "    var value = '';\n",
       "    if (event.ctrlKey && event.which !== 17) {\n",
       "        value += 'ctrl+';\n",
       "    }\n",
       "    if (event.altKey && event.which !== 18) {\n",
       "        value += 'alt+';\n",
       "    }\n",
       "    if (event.shiftKey && event.which !== 16) {\n",
       "        value += 'shift+';\n",
       "    }\n",
       "\n",
       "    value += 'k';\n",
       "    value += event.which.toString();\n",
       "\n",
       "    this._key_event_extra(event, name);\n",
       "\n",
       "    this.send_message(name, { key: value, guiEvent: simpleKeys(event) });\n",
       "    return false;\n",
       "};\n",
       "\n",
       "mpl.figure.prototype.toolbar_button_onclick = function (name) {\n",
       "    if (name === 'download') {\n",
       "        this.handle_save(this, null);\n",
       "    } else {\n",
       "        this.send_message('toolbar_button', { name: name });\n",
       "    }\n",
       "};\n",
       "\n",
       "mpl.figure.prototype.toolbar_button_onmouseover = function (tooltip) {\n",
       "    this.message.textContent = tooltip;\n",
       "};\n",
       "mpl.toolbar_items = [[\"Home\", \"Reset original view\", \"fa fa-home icon-home\", \"home\"], [\"Back\", \"Back to previous view\", \"fa fa-arrow-left icon-arrow-left\", \"back\"], [\"Forward\", \"Forward to next view\", \"fa fa-arrow-right icon-arrow-right\", \"forward\"], [\"\", \"\", \"\", \"\"], [\"Pan\", \"Left button pans, Right button zooms\\nx/y fixes axis, CTRL fixes aspect\", \"fa fa-arrows icon-move\", \"pan\"], [\"Zoom\", \"Zoom to rectangle\\nx/y fixes axis, CTRL fixes aspect\", \"fa fa-square-o icon-check-empty\", \"zoom\"], [\"\", \"\", \"\", \"\"], [\"Download\", \"Download plot\", \"fa fa-floppy-o icon-save\", \"download\"]];\n",
       "\n",
       "mpl.extensions = [\"eps\", \"jpeg\", \"pdf\", \"png\", \"ps\", \"raw\", \"svg\", \"tif\"];\n",
       "\n",
       "mpl.default_extension = \"png\";/* global mpl */\n",
       "\n",
       "var comm_websocket_adapter = function (comm) {\n",
       "    // Create a \"websocket\"-like object which calls the given IPython comm\n",
       "    // object with the appropriate methods. Currently this is a non binary\n",
       "    // socket, so there is still some room for performance tuning.\n",
       "    var ws = {};\n",
       "\n",
       "    ws.close = function () {\n",
       "        comm.close();\n",
       "    };\n",
       "    ws.send = function (m) {\n",
       "        //console.log('sending', m);\n",
       "        comm.send(m);\n",
       "    };\n",
       "    // Register the callback with on_msg.\n",
       "    comm.on_msg(function (msg) {\n",
       "        //console.log('receiving', msg['content']['data'], msg);\n",
       "        // Pass the mpl event to the overridden (by mpl) onmessage function.\n",
       "        ws.onmessage(msg['content']['data']);\n",
       "    });\n",
       "    return ws;\n",
       "};\n",
       "\n",
       "mpl.mpl_figure_comm = function (comm, msg) {\n",
       "    // This is the function which gets called when the mpl process\n",
       "    // starts-up an IPython Comm through the \"matplotlib\" channel.\n",
       "\n",
       "    var id = msg.content.data.id;\n",
       "    // Get hold of the div created by the display call when the Comm\n",
       "    // socket was opened in Python.\n",
       "    var element = document.getElementById(id);\n",
       "    var ws_proxy = comm_websocket_adapter(comm);\n",
       "\n",
       "    function ondownload(figure, _format) {\n",
       "        window.open(figure.canvas.toDataURL());\n",
       "    }\n",
       "\n",
       "    var fig = new mpl.figure(id, ws_proxy, ondownload, element);\n",
       "\n",
       "    // Call onopen now - mpl needs it, as it is assuming we've passed it a real\n",
       "    // web socket which is closed, not our websocket->open comm proxy.\n",
       "    ws_proxy.onopen();\n",
       "\n",
       "    fig.parent_element = element;\n",
       "    fig.cell_info = mpl.find_output_cell(\"<div id='\" + id + \"'></div>\");\n",
       "    if (!fig.cell_info) {\n",
       "        console.error('Failed to find cell for figure', id, fig);\n",
       "        return;\n",
       "    }\n",
       "    fig.cell_info[0].output_area.element.one(\n",
       "        'cleared',\n",
       "        { fig: fig },\n",
       "        fig._remove_fig_handler\n",
       "    );\n",
       "};\n",
       "\n",
       "mpl.figure.prototype.handle_close = function (fig, msg) {\n",
       "    var width = fig.canvas.width / fig.ratio;\n",
       "    fig.cell_info[0].output_area.element.off(\n",
       "        'cleared',\n",
       "        fig._remove_fig_handler\n",
       "    );\n",
       "\n",
       "    // Update the output cell to use the data from the current canvas.\n",
       "    fig.push_to_output();\n",
       "    var dataURL = fig.canvas.toDataURL();\n",
       "    // Re-enable the keyboard manager in IPython - without this line, in FF,\n",
       "    // the notebook keyboard shortcuts fail.\n",
       "    IPython.keyboard_manager.enable();\n",
       "    fig.parent_element.innerHTML =\n",
       "        '<img src=\"' + dataURL + '\" width=\"' + width + '\">';\n",
       "    fig.close_ws(fig, msg);\n",
       "};\n",
       "\n",
       "mpl.figure.prototype.close_ws = function (fig, msg) {\n",
       "    fig.send_message('closing', msg);\n",
       "    // fig.ws.close()\n",
       "};\n",
       "\n",
       "mpl.figure.prototype.push_to_output = function (_remove_interactive) {\n",
       "    // Turn the data on the canvas into data in the output cell.\n",
       "    var width = this.canvas.width / this.ratio;\n",
       "    var dataURL = this.canvas.toDataURL();\n",
       "    this.cell_info[1]['text/html'] =\n",
       "        '<img src=\"' + dataURL + '\" width=\"' + width + '\">';\n",
       "};\n",
       "\n",
       "mpl.figure.prototype.updated_canvas_event = function () {\n",
       "    // Tell IPython that the notebook contents must change.\n",
       "    IPython.notebook.set_dirty(true);\n",
       "    this.send_message('ack', {});\n",
       "    var fig = this;\n",
       "    // Wait a second, then push the new image to the DOM so\n",
       "    // that it is saved nicely (might be nice to debounce this).\n",
       "    setTimeout(function () {\n",
       "        fig.push_to_output();\n",
       "    }, 1000);\n",
       "};\n",
       "\n",
       "mpl.figure.prototype._init_toolbar = function () {\n",
       "    var fig = this;\n",
       "\n",
       "    var toolbar = document.createElement('div');\n",
       "    toolbar.classList = 'btn-toolbar';\n",
       "    this.root.appendChild(toolbar);\n",
       "\n",
       "    function on_click_closure(name) {\n",
       "        return function (_event) {\n",
       "            return fig.toolbar_button_onclick(name);\n",
       "        };\n",
       "    }\n",
       "\n",
       "    function on_mouseover_closure(tooltip) {\n",
       "        return function (event) {\n",
       "            if (!event.currentTarget.disabled) {\n",
       "                return fig.toolbar_button_onmouseover(tooltip);\n",
       "            }\n",
       "        };\n",
       "    }\n",
       "\n",
       "    fig.buttons = {};\n",
       "    var buttonGroup = document.createElement('div');\n",
       "    buttonGroup.classList = 'btn-group';\n",
       "    var button;\n",
       "    for (var toolbar_ind in mpl.toolbar_items) {\n",
       "        var name = mpl.toolbar_items[toolbar_ind][0];\n",
       "        var tooltip = mpl.toolbar_items[toolbar_ind][1];\n",
       "        var image = mpl.toolbar_items[toolbar_ind][2];\n",
       "        var method_name = mpl.toolbar_items[toolbar_ind][3];\n",
       "\n",
       "        if (!name) {\n",
       "            /* Instead of a spacer, we start a new button group. */\n",
       "            if (buttonGroup.hasChildNodes()) {\n",
       "                toolbar.appendChild(buttonGroup);\n",
       "            }\n",
       "            buttonGroup = document.createElement('div');\n",
       "            buttonGroup.classList = 'btn-group';\n",
       "            continue;\n",
       "        }\n",
       "\n",
       "        button = fig.buttons[name] = document.createElement('button');\n",
       "        button.classList = 'btn btn-default';\n",
       "        button.href = '#';\n",
       "        button.title = name;\n",
       "        button.innerHTML = '<i class=\"fa ' + image + ' fa-lg\"></i>';\n",
       "        button.addEventListener('click', on_click_closure(method_name));\n",
       "        button.addEventListener('mouseover', on_mouseover_closure(tooltip));\n",
       "        buttonGroup.appendChild(button);\n",
       "    }\n",
       "\n",
       "    if (buttonGroup.hasChildNodes()) {\n",
       "        toolbar.appendChild(buttonGroup);\n",
       "    }\n",
       "\n",
       "    // Add the status bar.\n",
       "    var status_bar = document.createElement('span');\n",
       "    status_bar.classList = 'mpl-message pull-right';\n",
       "    toolbar.appendChild(status_bar);\n",
       "    this.message = status_bar;\n",
       "\n",
       "    // Add the close button to the window.\n",
       "    var buttongrp = document.createElement('div');\n",
       "    buttongrp.classList = 'btn-group inline pull-right';\n",
       "    button = document.createElement('button');\n",
       "    button.classList = 'btn btn-mini btn-primary';\n",
       "    button.href = '#';\n",
       "    button.title = 'Stop Interaction';\n",
       "    button.innerHTML = '<i class=\"fa fa-power-off icon-remove icon-large\"></i>';\n",
       "    button.addEventListener('click', function (_evt) {\n",
       "        fig.handle_close(fig, {});\n",
       "    });\n",
       "    button.addEventListener(\n",
       "        'mouseover',\n",
       "        on_mouseover_closure('Stop Interaction')\n",
       "    );\n",
       "    buttongrp.appendChild(button);\n",
       "    var titlebar = this.root.querySelector('.ui-dialog-titlebar');\n",
       "    titlebar.insertBefore(buttongrp, titlebar.firstChild);\n",
       "};\n",
       "\n",
       "mpl.figure.prototype._remove_fig_handler = function (event) {\n",
       "    var fig = event.data.fig;\n",
       "    fig.close_ws(fig, {});\n",
       "};\n",
       "\n",
       "mpl.figure.prototype._root_extra_style = function (el) {\n",
       "    el.style.boxSizing = 'content-box'; // override notebook setting of border-box.\n",
       "};\n",
       "\n",
       "mpl.figure.prototype._canvas_extra_style = function (el) {\n",
       "    // this is important to make the div 'focusable\n",
       "    el.setAttribute('tabindex', 0);\n",
       "    // reach out to IPython and tell the keyboard manager to turn it's self\n",
       "    // off when our div gets focus\n",
       "\n",
       "    // location in version 3\n",
       "    if (IPython.notebook.keyboard_manager) {\n",
       "        IPython.notebook.keyboard_manager.register_events(el);\n",
       "    } else {\n",
       "        // location in version 2\n",
       "        IPython.keyboard_manager.register_events(el);\n",
       "    }\n",
       "};\n",
       "\n",
       "mpl.figure.prototype._key_event_extra = function (event, _name) {\n",
       "    var manager = IPython.notebook.keyboard_manager;\n",
       "    if (!manager) {\n",
       "        manager = IPython.keyboard_manager;\n",
       "    }\n",
       "\n",
       "    // Check for shift+enter\n",
       "    if (event.shiftKey && event.which === 13) {\n",
       "        this.canvas_div.blur();\n",
       "        // select the cell after this one\n",
       "        var index = IPython.notebook.find_cell_index(this.cell_info[0]);\n",
       "        IPython.notebook.select(index + 1);\n",
       "    }\n",
       "};\n",
       "\n",
       "mpl.figure.prototype.handle_save = function (fig, _msg) {\n",
       "    fig.ondownload(fig, null);\n",
       "};\n",
       "\n",
       "mpl.find_output_cell = function (html_output) {\n",
       "    // Return the cell and output element which can be found *uniquely* in the notebook.\n",
       "    // Note - this is a bit hacky, but it is done because the \"notebook_saving.Notebook\"\n",
       "    // IPython event is triggered only after the cells have been serialised, which for\n",
       "    // our purposes (turning an active figure into a static one), is too late.\n",
       "    var cells = IPython.notebook.get_cells();\n",
       "    var ncells = cells.length;\n",
       "    for (var i = 0; i < ncells; i++) {\n",
       "        var cell = cells[i];\n",
       "        if (cell.cell_type === 'code') {\n",
       "            for (var j = 0; j < cell.output_area.outputs.length; j++) {\n",
       "                var data = cell.output_area.outputs[j];\n",
       "                if (data.data) {\n",
       "                    // IPython >= 3 moved mimebundle to data attribute of output\n",
       "                    data = data.data;\n",
       "                }\n",
       "                if (data['text/html'] === html_output) {\n",
       "                    return [cell, data, j];\n",
       "                }\n",
       "            }\n",
       "        }\n",
       "    }\n",
       "};\n",
       "\n",
       "// Register the function which deals with the matplotlib target/channel.\n",
       "// The kernel may be null if the page has been refreshed.\n",
       "if (IPython.notebook.kernel !== null) {\n",
       "    IPython.notebook.kernel.comm_manager.register_target(\n",
       "        'matplotlib',\n",
       "        mpl.mpl_figure_comm\n",
       "    );\n",
       "}\n"
      ],
      "text/plain": [
       "<IPython.core.display.Javascript object>"
      ]
     },
     "metadata": {},
     "output_type": "display_data"
    },
    {
     "data": {
      "text/html": [
       "<img src=\"data:image/png;base64,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\" width=\"600\">"
      ],
      "text/plain": [
       "<IPython.core.display.HTML object>"
      ]
     },
     "metadata": {},
     "output_type": "display_data"
    },
    {
     "data": {
      "text/plain": [
       "<matplotlib.lines.Line2D at 0x7fdfd8293760>"
      ]
     },
     "execution_count": 26,
     "metadata": {},
     "output_type": "execute_result"
    }
   ],
   "source": [
    "%matplotlib notebook\n",
    "plt.figure(figsize=(6,4))\n",
    "plt.spy(sol.mat.diags(), markersize=0.5)"
   ]
  },
  {
   "cell_type": "markdown",
   "metadata": {
    "slideshow": {
     "slide_type": "slide"
    }
   },
   "source": [
    "# Future work\n",
    "\n",
    "- More linear algebra solvers. Most 1D bases are very good, but coupling two non-periodic directions demands more of\n",
    "    - Block preconditioners\n",
    "    - Uzawa solvers\n",
    "    - matrix decomposition (some implemented)\n",
    "    - MPI for all solvers\n",
    "- Fast Legendre transforms\n",
    "- Chebyshev-Legendre transforms\n",
    "- Generalized Jacobi polynomials\n",
    "- Cylindrical/circular domains\n",
    "- Unbounded domains - Laguerre/Hermite recently added \n",
    "    - Fast transforms\n",
    "- Solvers for more than 2 non-periodic bases\n",
    "- Domain decomposition\n",
    "- Better documentation😃"
   ]
  },
  {
   "cell_type": "markdown",
   "metadata": {
    "slideshow": {
     "slide_type": "slide"
    }
   },
   "source": [
    "<center>\n",
    "    \n",
    "# Thank you for your time😃\n",
    "\n",
    "<img src=\"https://rawcdn.githack.com/spectralDNS/spectralutilities/473129742f0b5f8d57e8c647809272c0ced99a45/movies/RB_200k_small.png\" style=\"float:left\" width=\"300\">\n",
    "\n",
    "<img src=\"https://cdn.jsdelivr.net/gh/spectralDNS/spectralutilities@master/movies/Re2000_5.gif\" width=\"400\" height=\"133\" style=\"float:right\" alt=\"Channel flow\"/>\n",
    "<p style=\"clear: both;\">\n",
    "\n",
    "<img src=\"https://rawcdn.githack.com/spectralDNS/spectralutilities/473129742f0b5f8d57e8c647809272c0ced99a45/movies/isotropic_cropped.gif\" style=\"float:left\" width=\"250\">\n",
    "\n",
    "<img src=\"https://cdn.jsdelivr.net/gh/spectralDNS/spectralutilities@master/movies/KHmovie_3.gif\" width=\"400\" height=\"200\" style=\"float:right\" alt=\"Kelvin Helmholtz instability\"/>\n",
    "\n",
    "<p style=\"clear: both;\">\n"
   ]
  }
 ],
 "metadata": {
  "celltoolbar": "Slideshow",
  "kernelspec": {
   "display_name": "shenfun38",
   "language": "python",
   "name": "shenfun38"
  },
  "language_info": {
   "codemirror_mode": {
    "name": "ipython",
    "version": 3
   },
   "file_extension": ".py",
   "mimetype": "text/x-python",
   "name": "python",
   "nbconvert_exporter": "python",
   "pygments_lexer": "ipython3",
   "version": "3.8.6"
  },
  "toc": {
   "base_numbering": 1,
   "nav_menu": {},
   "number_sections": false,
   "sideBar": true,
   "skip_h1_title": false,
   "title_cell": "Table of Contents",
   "title_sidebar": "Contents",
   "toc_cell": false,
   "toc_position": {},
   "toc_section_display": true,
   "toc_window_display": false
  }
 },
 "nbformat": 4,
 "nbformat_minor": 2
}
