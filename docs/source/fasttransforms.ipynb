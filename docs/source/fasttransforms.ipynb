{
 "cells": [
  {
   "cell_type": "markdown",
   "id": "a3b0dd61",
   "metadata": {},
   "source": [
    "<!-- dom:TITLE: Demo - Some fast transforms -->\n",
    "# Demo - Some fast transforms\n",
    "<!-- dom:AUTHOR: Mikael Mortensen Email:mikaem@math.uio.no at Department of Mathematics, University of Oslo. -->\n",
    "<!-- Author: -->  \n",
    "**Mikael Mortensen** (email: `mikaem@math.uio.no`), Department of Mathematics, University of Oslo.\n",
    "\n",
    "Date: **May 27, 2021**\n",
    "\n",
    "**Summary.** This demo will show how to compute fast forward transforms for the three\n",
    "different Dirichlet bases that are implemented for Chebyshev\n",
    "polynomials in Shenfun.\n",
    "\n",
    "\n",
    "\n",
    "\n",
    "\n",
    "\n",
    "\n",
    "\n",
    "\n",
    "\n",
    "\n",
    "\n",
    "## Forward and backward transforms\n",
    "\n",
    "A function $u(x)$ can be approximated in a finite global spectral\n",
    "expansion $u_N(x)$ as"
   ]
  },
  {
   "cell_type": "markdown",
   "id": "9a4793ad",
   "metadata": {},
   "source": [
    "<!-- Equation labels as ordinary links -->\n",
    "<div id=\"eq:expansion\"></div>\n",
    "\n",
    "$$\n",
    "\\label{eq:expansion} \\tag{1}\n",
    "u_N(x) = \\sum_{k=0}^{N-1} \\hat{u}_k \\phi_k(x), \\quad \\forall \\, x \\, \\in [-1, 1],\n",
    "$$"
   ]
  },
  {
   "cell_type": "markdown",
   "id": "58ee321e",
   "metadata": {},
   "source": [
    "where $\\phi_k(x)$ are the basis functions and $\\boldsymbol{\\hat{u}} = \\{\\hat{u}_k\\}_{k=0}^{N-1}$\n",
    "are the expansion coefficients. The function $u_N(x)$ is continuous\n",
    "on the interval domain $[-1, 1]$. The span of the basis functions\n",
    "$V_N = \\text{span} \\{\\phi_k\\}_{k=0}^{N-1}$ represents a functionspace.\n",
    "Associated with this functionspace is a set of quadrature points\n",
    "$\\{x_k\\}_{k=0}^{N-1}$ that, along with quadrature weights $\\{\\omega_k\\}_{k=0}^{N-1}$, can be used\n",
    "for efficient integration. We can also evaluate the function $u_N(x)$ at\n",
    "these quadrature points to get the sequence\n",
    "$\\boldsymbol{u} = \\{u_N(x_k)\\}_{k=0}^{N-1}$. If $\\boldsymbol{\\hat{u}}=\\{\\hat{u}_k\\}_{k=0}^{N-1}$ are *known*,\n",
    "then $\\boldsymbol{u}$ can be evaluated directly from\n",
    "Eq. ([1](#eq:expansion))"
   ]
  },
  {
   "cell_type": "markdown",
   "id": "cddb97ef",
   "metadata": {},
   "source": [
    "<!-- Equation labels as ordinary links -->\n",
    "<div id=\"eq:expansionQ\"></div>\n",
    "\n",
    "$$\n",
    "\\label{eq:expansionQ} \\tag{2}\n",
    "u_N(x_j) = \\sum_{k=0}^{N-1} \\hat{u}_k \\phi_k(x_j), \\quad \\forall \\, j=0,1, \\ldots, N-1.\n",
    "$$"
   ]
  },
  {
   "cell_type": "markdown",
   "id": "50b54a19",
   "metadata": {},
   "source": [
    "This would correspond to a *backward* transform according to\n",
    "the Shenfun terminology. A direct evaluation of the backward\n",
    "([2](#eq:expansionQ)) transform takes $\\mathcal{O}(N^2)$\n",
    "operations since it requires a double sum (over both $j$\n",
    "and $k$). A *fast* transform is\n",
    "a transform that can be computed in $\\mathcal{O}(N \\log N)$ operations.\n",
    "This is what the Fast Fourier Transform (FFT) does. It computes a double\n",
    "sum, like ([2](#eq:expansionQ)), in $\\mathcal{O}(N \\log N)$ operations.\n",
    "\n",
    "\n",
    "The other way around, computing $\\{\\hat{u}_k\\}_{k=0}^{N-1}$ from the\n",
    "*known* $\\{u_N(x_k)\\}_{k=0}^{N-1}$ corresponds to a *forward* transform.\n",
    "The forward transform is computed using a projection of $u$\n",
    "into $V_N$, which is formulated as: find $u_N \\in V_N$ such that"
   ]
  },
  {
   "cell_type": "markdown",
   "id": "150042cd",
   "metadata": {},
   "source": [
    "<!-- Equation labels as ordinary links -->\n",
    "<div id=\"eq:projection\"></div>\n",
    "\n",
    "$$\n",
    "\\label{eq:projection} \\tag{3}\n",
    "(u_N-u, v)_{\\omega^{\\sigma}} = 0, \\quad \\forall \\, v \\in V_{N},\n",
    "$$"
   ]
  },
  {
   "cell_type": "markdown",
   "id": "a4d73e38",
   "metadata": {},
   "source": [
    "where $(a, b)_{\\omega^{\\sigma}} = \\int_{I} a b \\omega^{\\sigma} dx$ is the\n",
    "inner product in $L^2_{\\omega^{\\sigma}}(I)$, and $\\omega^{\\sigma}(x)=(1-x^2)^{\\sigma}$  is a weight function.\n",
    "For Chebyshev polynomials the weight function is usually $\\omega^{-1/2}=(1-x^2)^{-1/2}$.\n",
    "Inserting for $u_N$ and $v=\\phi_k$, we get"
   ]
  },
  {
   "cell_type": "markdown",
   "id": "8d00c49c",
   "metadata": {},
   "source": [
    "<!-- Equation labels as ordinary links -->\n",
    "<div id=\"_auto1\"></div>\n",
    "\n",
    "$$\n",
    "\\begin{equation}\n",
    "\\sum_{j=0}^{N-1}(\\phi_j, \\phi_k)_{\\omega^{\\sigma}} \\hat{u}_{j} = (u, \\phi_k)_{\\omega^{\\sigma}}, \n",
    "\\label{_auto1} \\tag{4}\n",
    "\\end{equation}\n",
    "$$"
   ]
  },
  {
   "cell_type": "markdown",
   "id": "f137383f",
   "metadata": {},
   "source": [
    "<!-- Equation labels as ordinary links -->\n",
    "<div id=\"_auto2\"></div>\n",
    "\n",
    "$$\n",
    "\\begin{equation}  \n",
    "B \\boldsymbol{\\hat{u}} = \\boldsymbol{\\tilde{u}}, \n",
    "\\label{_auto2} \\tag{5}\n",
    "\\end{equation}\n",
    "$$"
   ]
  },
  {
   "cell_type": "markdown",
   "id": "75a23d7a",
   "metadata": {},
   "source": [
    "<!-- Equation labels as ordinary links -->\n",
    "<div id=\"_auto3\"></div>\n",
    "\n",
    "$$\n",
    "\\begin{equation}  \n",
    "\\boldsymbol{\\hat{u}} = B^{-1} \\boldsymbol{\\tilde{u}},\n",
    "\\label{_auto3} \\tag{6}\n",
    "\\end{equation}\n",
    "$$"
   ]
  },
  {
   "cell_type": "markdown",
   "id": "15e04308",
   "metadata": {},
   "source": [
    "where\n",
    "$\\boldsymbol{\\tilde{u}} = \\{(u, \\phi_k)_{\\omega^{\\sigma}}\\}_{k=0}^{N-1}$ and the mass matrix\n",
    "$B = (b_{kj})_{k,j=0}^{N-1}$, with $b_{kj}=(\\phi_j, \\phi_k)_{\\omega^{\\sigma}}$.\n",
    "\n",
    "Note that the forward transform requires both an inner product\n",
    "$\\boldsymbol{\\tilde{u}}$ and a matrix inversion. By a *fast* forward transform\n",
    "we mean a transform that can be computed in $\\mathcal{O}(N \\log N)$\n",
    "operations. If $B$ is a diagonal or banded matrix, the matrix inversion costs $\\mathcal{O}(N)$,\n",
    "and the limiting factor is then the inner product. Like for the backward transform,\n",
    "the inner product, computed with quadrature, is a double sum"
   ]
  },
  {
   "cell_type": "markdown",
   "id": "8976c706",
   "metadata": {},
   "source": [
    "$$\n",
    "(u, \\phi_k)_{\\omega^{\\sigma}} = \\sum_{j=0}^{N-1} u(x_j) \\phi_k(x_j) \\omega_j, \\quad \\forall \\, k = 0, 1, \\ldots, N-1,\n",
    "$$"
   ]
  },
  {
   "cell_type": "markdown",
   "id": "4c0c3bb4",
   "metadata": {},
   "source": [
    "where $\\{\\omega_j\\}_{j=0}^{N-1}$ are the quadrature weights.\n",
    "\n",
    "A naive implementation of the inner product\n",
    "takes $\\mathcal{O}(N^2)$ operations. However,\n",
    "for Chebyshev polynomials we can compute the double loop with\n",
    "fast $\\mathcal{O}(N \\log N)$ discrete sine or cosine transforms,\n",
    "that are versions of the FFT. To see this, assume that the basis functions are $\\phi_k(x) =T_k(x)$, where\n",
    "$T_k(x)$ is the $k$'th Chebyshev polynomial of the first kind,\n",
    "and the weight function is $\\omega^{-1/2}$.\n",
    "We then choose Gauss-Chebyshev points $x_j = \\cos(\\theta_j)$,\n",
    "where $\\theta_j=\\pi (2j+1)/(2N)$, and the associated quadrature weights\n",
    "that are constant $\\omega_j = \\pi/N$. The Chebyshev polynomials evaluated\n",
    "on the quadrature points can now\n",
    "alternatively be written as $T_k(x_j) = \\cos(k \\theta_j)$,\n",
    "and the inner product becomes"
   ]
  },
  {
   "cell_type": "markdown",
   "id": "70a2ae89",
   "metadata": {},
   "source": [
    "$$\n",
    "(u, T_k)_{\\omega^{-1/2}} = \\sum_{j=0}^{N-1} u(x_j) \\cos(k \\theta_j) \\pi/N, \\quad \\forall \\, k = 0, 1, \\ldots, N-1.\n",
    "$$"
   ]
  },
  {
   "cell_type": "markdown",
   "id": "c32ce6e6",
   "metadata": {},
   "source": [
    "From the [FFTW documentation](http://www.fftw.org/fftw3_doc/1d-Real_002deven-DFTs-_0028DCTs_0029.html#g_t1d-Real_002deven-DFTs-_0028DCTs_0029)\n",
    "we recognise this sum as half a DCT-II (the FFTW DCT-II has a factor\n",
    "2 in front of the sum) of $\\boldsymbol{u}\\pi/N$. Hence, we can compute the inner product as"
   ]
  },
  {
   "cell_type": "markdown",
   "id": "549995c5",
   "metadata": {},
   "source": [
    "$$\n",
    "(u, T_k)_{\\omega^{-1/2}} = \\frac{\\pi}{2N} \\text{dct}^{II}(\\boldsymbol{u})_k, \\quad k = 0, 1, \\ldots, N-1.\n",
    "$$"
   ]
  },
  {
   "cell_type": "markdown",
   "id": "1607927b",
   "metadata": {},
   "source": [
    "## Dirichlet bases\n",
    "\n",
    "The basis function $T_k$ satisfies $T_k(\\pm 1) = (\\pm 1)^k$ at the\n",
    "boundaries of the domain, and the space $S_N=\\text{span}\\{T_k\\}_{k=0}^{N-1}$,\n",
    "of dimension $N$,\n",
    "is thus not associated with any specific set of boundary conditions.\n",
    "A functionspace for homogeneous Dirichlet boundary conditions is\n",
    "given as $V_N=\\{v\\in S_N | v(\\pm 1)=0 \\}$. Because of the two restrictions\n",
    "the space has dimension $N-2$.\n",
    "\n",
    "There are several different choices of basis functions\n",
    "for $V_N$.\n",
    "The most interesting we name $\\phi_k^n$, for integer $n$, and\n",
    "define them as"
   ]
  },
  {
   "cell_type": "markdown",
   "id": "4ec0dad1",
   "metadata": {},
   "source": [
    "<!-- Equation labels as ordinary links -->\n",
    "<div id=\"_auto4\"></div>\n",
    "\n",
    "$$\n",
    "\\begin{equation}\n",
    "\\phi^n_k = \\omega T^{(n)}_{k+n} = (1-x^2) T^{(n)}_{k+n},\n",
    "\\label{_auto4} \\tag{7}\n",
    "\\end{equation}\n",
    "$$"
   ]
  },
  {
   "cell_type": "markdown",
   "id": "2b5ebfe2",
   "metadata": {},
   "source": [
    "where $T^{(n)}_{k+n}$ is the $n$'th derivative of $T_{k+n}$. We have\n",
    "for any integer $n$ that $V_N=\\text{span}\\{\\phi^n_k\\}_{k=0}^{N-3}$, and an\n",
    "expansion in any of these basis functions is"
   ]
  },
  {
   "cell_type": "markdown",
   "id": "00844616",
   "metadata": {},
   "source": [
    "<!-- Equation labels as ordinary links -->\n",
    "<div id=\"eq:uNgeneric\"></div>\n",
    "\n",
    "$$\n",
    "\\begin{equation}\n",
    "\\label{eq:uNgeneric} \\tag{8}\n",
    "    u_N = \\sum_{k=0}^{N-3} \\hat{u}^n_k \\phi^n_k.\n",
    "\\end{equation}\n",
    "$$"
   ]
  },
  {
   "cell_type": "markdown",
   "id": "a7d2bf68",
   "metadata": {},
   "source": [
    "We can find the sequence $\\{\\hat{u}^n_{k}\\}_{k=0}^{N-3}$ for any $n$\n",
    "using a projection into the space $V_N$. The projection is computed\n",
    "by using Eq. ([8](#eq:uNgeneric)) and $v=\\phi^n_k$ in\n",
    "Eq. ([3](#eq:projection))"
   ]
  },
  {
   "cell_type": "markdown",
   "id": "ccc58546",
   "metadata": {},
   "source": [
    "<!-- Equation labels as ordinary links -->\n",
    "<div id=\"eq:projortho\"></div>\n",
    "\n",
    "$$\n",
    "\\begin{equation}\n",
    "\\label{eq:projortho} \\tag{9}\n",
    "   \\sum_{j=0}^{N-3} ( T^{(n)}_{j+n},  T^{(n)}_{k+n})_{\\omega^{\\sigma+2}} \\hat{u}^{n}_j = (u, T^{(n)}_{k+n})_{\\omega^{\\sigma+1}}.\n",
    "\\end{equation}\n",
    "$$"
   ]
  },
  {
   "cell_type": "markdown",
   "id": "b25ffa2a",
   "metadata": {},
   "source": [
    "Now how can this projection be computed as efficiently as possible?\n",
    "The Chebyshev polynomials and their derivatives are known to satisfy\n",
    "the following orthogonality relation"
   ]
  },
  {
   "cell_type": "markdown",
   "id": "937cea8b",
   "metadata": {},
   "source": [
    "<!-- Equation labels as ordinary links -->\n",
    "<div id=\"eq:orthon\"></div>\n",
    "\n",
    "$$\n",
    "\\begin{equation}\n",
    "\\label{eq:orthon} \\tag{10}\n",
    "  (T^{(n)}_j, T^{(n)}_k)_{\\omega^{n-1/2}} = \\alpha^{n}_k \\delta_{kj}, \\quad \\text{for}\\, n \\ge 0,\n",
    "\\end{equation}\n",
    "$$"
   ]
  },
  {
   "cell_type": "markdown",
   "id": "d14c204f",
   "metadata": {},
   "source": [
    "where $\\delta_{kj}$ is the Kronecker delta function and"
   ]
  },
  {
   "cell_type": "markdown",
   "id": "aa1e0239",
   "metadata": {},
   "source": [
    "<!-- Equation labels as ordinary links -->\n",
    "<div id=\"_auto5\"></div>\n",
    "\n",
    "$$\n",
    "\\begin{equation}\n",
    "    \\alpha^n_k = \\frac{c_{k+n}\\pi k (k+n-1)!}{2(k-n)!},\n",
    "\\label{_auto5} \\tag{11}\n",
    "\\end{equation}\n",
    "$$"
   ]
  },
  {
   "cell_type": "markdown",
   "id": "83dd05ae",
   "metadata": {},
   "source": [
    "where $c_0=2$ and $c_k=1$ for $k>0$. This can be used in\n",
    "computing ([9](#eq:projortho)), because we just\n",
    "need to choose the $\\sigma$ that leads to a diagonal mass matrix.\n",
    "For $n=(0, 1, 2)$ this will be $\\sigma=-5/2, -3/2$ and $-1/2$,\n",
    "respectively. So, choosing $\\sigma=-5/2, -3/2$ and $-1/2$\n",
    "for $n=0, 1$ and 2, respectively, will lead to a diagonal\n",
    "mass matrix $( T^{(n)}_{j+n},  T^{(n)}_{k+n})_{\\omega^{\\sigma+2}}$.\n",
    "Using these $\\sigma$'s we can invert the diagonal mass matrices\n",
    "in Eq. ([9](#eq:projortho)) to get"
   ]
  },
  {
   "cell_type": "markdown",
   "id": "02956f86",
   "metadata": {},
   "source": [
    "<!-- Equation labels as ordinary links -->\n",
    "<div id=\"_auto6\"></div>\n",
    "\n",
    "$$\n",
    "\\begin{equation}\n",
    "    \\hat{u}^n_k = \\frac{1}{\\alpha^n_{k+n}}(u, T^{(n)}_{k+n})_{\\omega^{\\sigma+1}}, \\quad k=0, 1, \\ldots, N-3, \\text{ for } n \\in (0, 1, 2).\n",
    "\\label{_auto6} \\tag{12}\n",
    "\\end{equation}\n",
    "$$"
   ]
  },
  {
   "cell_type": "markdown",
   "id": "d761600a",
   "metadata": {},
   "source": [
    "Using now quadrature, $1-x^2_i=\\sin^2 \\theta_i$ and the\n",
    "fast transforms $(u, T_k)_{\\omega^{-1/2}} = \\pi/2/N \\text{dct}^{II}(\\boldsymbol{u})_k$\n",
    "and  $(u, U_k)_{\\omega^{-1/2}} = \\pi/2/N \\text{dst}^{II}(\\boldsymbol{u}/\\sin \\boldsymbol{\\theta})_k$,\n",
    "where $\\boldsymbol{u}/\\sin \\boldsymbol{\\theta}$ implies element-wise division,\n",
    "we get"
   ]
  },
  {
   "cell_type": "markdown",
   "id": "4aafdb77",
   "metadata": {},
   "source": [
    "<!-- Equation labels as ordinary links -->\n",
    "<div id=\"eq:fast1\"></div>\n",
    "\n",
    "$$\n",
    "\\begin{equation}\n",
    "    \\hat{u}^0_k = \\frac{1}{c_k N} \\text{dct}^{II}(\\boldsymbol{u}/\\sin^2 \\boldsymbol{\\theta})_k, \\quad k = 0, 1, \\ldots, N-3, \\label{eq:fast1} \\tag{13} \n",
    "\\end{equation}\n",
    "$$"
   ]
  },
  {
   "cell_type": "markdown",
   "id": "77134e4a",
   "metadata": {},
   "source": [
    "<!-- Equation labels as ordinary links -->\n",
    "<div id=\"eq:fast2\"></div>\n",
    "\n",
    "$$\n",
    "\\begin{equation}  \n",
    "    \\hat{u}^1_k = \\frac{1}{(k+1)N}\\text{dst}^{II}(\\boldsymbol{u}/\\sin \\boldsymbol{\\theta})_k, \\quad k = 0, 1, \\ldots, N-3, \\label{eq:fast2} \\tag{14}\n",
    "\\end{equation}\n",
    "$$"
   ]
  },
  {
   "cell_type": "markdown",
   "id": "2f929824",
   "metadata": {},
   "source": [
    "<!-- Equation labels as ordinary links -->\n",
    "<div id=\"eq:fast3\"></div>\n",
    "\n",
    "$$\n",
    "\\begin{equation}  \n",
    "    \\hat{u}^2_k = \\frac{1}{2(k+2)}\\left(\\hat{u}^1_k - \\hat{u}^1_{k+2} \\right), \\quad k=0, 1, \\ldots, N-3. \\label{eq:fast3} \\tag{15}\n",
    "\\end{equation}\n",
    "$$"
   ]
  },
  {
   "cell_type": "markdown",
   "id": "16c0c311",
   "metadata": {},
   "source": [
    "The last one requires some work, using the identity\n",
    "$\\phi^2_k=(1-x^2)T''_{k+2}=0.5(k+2)(k+3)(U_k - (k+1)/(k+3)U_{k+2})$.\n",
    "\n",
    "## Verification\n",
    "\n",
    "To validate all the fast methods we compute the projection first regularly\n",
    "using the Shenfun function [project](https://github.com/spectralDNS/shenfun/blob/master/shenfun/forms/project.py),\n",
    "which is using $\\sigma=-1/2$, and then the fast methods above. The two\n",
    "projections should be the same, but they will not give identical results.\n",
    "In general, the fast transforms above should be both faster and more\n",
    "accurate, because they only take a discrete transform and merely a diagonal\n",
    "mass matrix inversion.\n",
    "\n",
    "We start the implementation by importing necessary modules from Shenfun\n",
    "and mpi4py-fft"
   ]
  },
  {
   "cell_type": "code",
   "execution_count": 1,
   "id": "f7432513",
   "metadata": {
    "collapsed": false,
    "execution": {
     "iopub.execute_input": "2021-09-20T12:42:18.915509Z",
     "iopub.status.busy": "2021-09-20T12:42:18.914839Z",
     "iopub.status.idle": "2021-09-20T12:42:19.633419Z",
     "shell.execute_reply": "2021-09-20T12:42:19.633770Z"
    }
   },
   "outputs": [],
   "source": [
    "from shenfun import *\n",
    "from mpi4py_fft import fftw"
   ]
  },
  {
   "cell_type": "markdown",
   "id": "55d81ba5",
   "metadata": {},
   "source": [
    "The three bases $\\{\\phi^n_k\\}_{k=0}^{N-3}$ are implemented\n",
    "with slightly different scaling in shenfun.\n",
    "The first, with $n=0$, is obtained with no special scaling using"
   ]
  },
  {
   "cell_type": "code",
   "execution_count": 2,
   "id": "1343c543",
   "metadata": {
    "collapsed": false,
    "execution": {
     "iopub.execute_input": "2021-09-20T12:42:19.650132Z",
     "iopub.status.busy": "2021-09-20T12:42:19.649667Z",
     "iopub.status.idle": "2021-09-20T12:42:19.651447Z",
     "shell.execute_reply": "2021-09-20T12:42:19.651879Z"
    }
   },
   "outputs": [],
   "source": [
    "N = 20\n",
    "D0 = FunctionSpace(N, 'C', bc=(0, 0), basis='Heinrichs')"
   ]
  },
  {
   "cell_type": "markdown",
   "id": "ae85122e",
   "metadata": {},
   "source": [
    "The second basis is implemented in Shenfun as $\\phi_k = \\frac{2}{k+1}\\phi^1_k$,\n",
    "which can be simplified as"
   ]
  },
  {
   "cell_type": "markdown",
   "id": "2664588a",
   "metadata": {},
   "source": [
    "<!-- Equation labels as ordinary links -->\n",
    "<div id=\"eq:ft:shen\"></div>\n",
    "\n",
    "$$\n",
    "\\label{eq:ft:shen} \\tag{16}\n",
    "\\phi_k(x) = T_k-T_{k+2}, \\quad k=0,1, \\ldots, N-3,\n",
    "$$"
   ]
  },
  {
   "cell_type": "markdown",
   "id": "f8e85b9f",
   "metadata": {},
   "source": [
    "and implemented as"
   ]
  },
  {
   "cell_type": "code",
   "execution_count": 3,
   "id": "da6f3cd0",
   "metadata": {
    "collapsed": false,
    "execution": {
     "iopub.execute_input": "2021-09-20T12:42:19.656092Z",
     "iopub.status.busy": "2021-09-20T12:42:19.655632Z",
     "iopub.status.idle": "2021-09-20T12:42:19.657566Z",
     "shell.execute_reply": "2021-09-20T12:42:19.657916Z"
    }
   },
   "outputs": [],
   "source": [
    "D1 = FunctionSpace(N, 'C', bc=(0, 0)) # this is the default basis"
   ]
  },
  {
   "cell_type": "markdown",
   "id": "54205177",
   "metadata": {},
   "source": [
    "Because of the scaling the expansion coefficients for $\\phi_k$  are\n",
    "$\\hat{u}^{\\phi}_k=\\frac{k+1}{2}\\hat{u}^1_k$. Using ([14](#eq:fast2)) we get"
   ]
  },
  {
   "cell_type": "markdown",
   "id": "1d19add2",
   "metadata": {},
   "source": [
    "$$\n",
    "\\hat{u}^{\\phi}_k = \\frac{1}{2N}\\text{dst}^{II}(\\boldsymbol{u}/\\sin \\boldsymbol{\\theta})_k, \\quad k = 0, 1, \\ldots, N-3.\n",
    "$$"
   ]
  },
  {
   "cell_type": "markdown",
   "id": "1e2bc5e1",
   "metadata": {},
   "source": [
    "The third basis is also scaled and implemented in Shenfun as $\\psi_k = \\frac{2}{(k+3)(k+2)}\\phi^2_k$,\n",
    "which can be simplified using Chebyshev polynomials of the second\n",
    "kind $U_k$"
   ]
  },
  {
   "cell_type": "markdown",
   "id": "207de0d9",
   "metadata": {},
   "source": [
    "<!-- Equation labels as ordinary links -->\n",
    "<div id=\"eq:ft:dirichletU\"></div>\n",
    "\n",
    "$$\n",
    "\\label{eq:ft:dirichletU} \\tag{17}\n",
    "\\psi_k(x) = U_k-\\frac{k+1}{k+3}U_{k+2}, \\quad k=0,1, \\ldots, N-3.\n",
    "$$"
   ]
  },
  {
   "cell_type": "markdown",
   "id": "ac42315e",
   "metadata": {},
   "source": [
    "We get the basis using"
   ]
  },
  {
   "cell_type": "code",
   "execution_count": 4,
   "id": "da85bf63",
   "metadata": {
    "collapsed": false,
    "execution": {
     "iopub.execute_input": "2021-09-20T12:42:19.662155Z",
     "iopub.status.busy": "2021-09-20T12:42:19.661640Z",
     "iopub.status.idle": "2021-09-20T12:42:19.663007Z",
     "shell.execute_reply": "2021-09-20T12:42:19.663418Z"
    }
   },
   "outputs": [],
   "source": [
    "D2 = FunctionSpace(N, 'C', bc=(0, 0), basis='DirichletU')"
   ]
  },
  {
   "cell_type": "markdown",
   "id": "90f11a72",
   "metadata": {},
   "source": [
    "and the expansion coefficients are found as\n",
    "$\\hat{u}^{\\psi}_k = \\frac{(k+3)(k+2)}{2} \\hat{u}^2_k$.\n",
    "\n",
    "For verification of all the fast transforms we first create a vector\n",
    "consisting of random expansion coefficients, and then transform\n",
    "it backwards to physical space"
   ]
  },
  {
   "cell_type": "code",
   "execution_count": 5,
   "id": "0f73d019",
   "metadata": {
    "collapsed": false,
    "execution": {
     "iopub.execute_input": "2021-09-20T12:42:19.667601Z",
     "iopub.status.busy": "2021-09-20T12:42:19.666976Z",
     "iopub.status.idle": "2021-09-20T12:42:19.668286Z",
     "shell.execute_reply": "2021-09-20T12:42:19.668807Z"
    }
   },
   "outputs": [],
   "source": [
    "f = Function(D0, buffer=np.random.random(N))\n",
    "f[-2:] = 0\n",
    "fb = f.backward().copy()"
   ]
  },
  {
   "cell_type": "markdown",
   "id": "369da7e9",
   "metadata": {},
   "source": [
    "Next, we perform the regular projections into the three spaces\n",
    "`D0`, `D1` and `D2`, using the inner product\n",
    "in $L^2_{\\omega^{-1/2}}$. Now `u0`, `u1` and `u2` will be the\n",
    "three solution vectors\n",
    "$\\boldsymbol{\\hat{u}}^{\\varphi}$, $\\boldsymbol{\\hat{u}}^{\\phi}$\n",
    "and $\\boldsymbol{\\hat{u}}^{\\psi}$, respectively."
   ]
  },
  {
   "cell_type": "code",
   "execution_count": 6,
   "id": "36657c6a",
   "metadata": {
    "collapsed": false,
    "execution": {
     "iopub.execute_input": "2021-09-20T12:42:19.672775Z",
     "iopub.status.busy": "2021-09-20T12:42:19.672250Z",
     "iopub.status.idle": "2021-09-20T12:42:19.676052Z",
     "shell.execute_reply": "2021-09-20T12:42:19.676577Z"
    }
   },
   "outputs": [],
   "source": [
    "u0 = project(fb, D0)\n",
    "u1 = project(fb, D1)\n",
    "u2 = project(fb, D2)"
   ]
  },
  {
   "cell_type": "markdown",
   "id": "f1a48631",
   "metadata": {},
   "source": [
    "Now compute the fast transforms and assert that they are equal to `u0`, `u1` and `u2`"
   ]
  },
  {
   "cell_type": "code",
   "execution_count": 7,
   "id": "abad28e7",
   "metadata": {
    "collapsed": false,
    "execution": {
     "iopub.execute_input": "2021-09-20T12:42:19.694742Z",
     "iopub.status.busy": "2021-09-20T12:42:19.694281Z",
     "iopub.status.idle": "2021-09-20T12:42:19.696377Z",
     "shell.execute_reply": "2021-09-20T12:42:19.696693Z"
    }
   },
   "outputs": [],
   "source": [
    "theta = np.pi*(2*np.arange(N)+1)/(2*N)\n",
    "# Test for n=0\n",
    "dct = fftw.dctn(fb.copy(), type=2)\n",
    "ck = np.ones(N); ck[0] = 2\n",
    "d0 = dct(fb/np.sin(theta)**2)/(ck*N)\n",
    "assert np.linalg.norm(d0-u0) < 1e-8, np.linalg.norm(d0-f0)\n",
    "# Test for n=1\n",
    "dst = fftw.dstn(fb.copy(), type=2)\n",
    "d1 = dst(fb/np.sin(theta))/(2*N)\n",
    "assert np.linalg.norm(d1-u1) < 1e-8\n",
    "# Test for n=2\n",
    "ut = d1\n",
    "k = np.arange(N)\n",
    "d2 = Function(D2)\n",
    "d2[:-2] = (k[:-2]+3)/2/(k[:-2]+1)*ut[:-2]\n",
    "d2[:-2] = d2[:-2] - 0.5*ut[2:]\n",
    "assert np.linalg.norm(d2-u2) < 1e-8"
   ]
  },
  {
   "cell_type": "markdown",
   "id": "1ab9e696",
   "metadata": {},
   "source": [
    "That's it! If you make it to here with no errors, then the three tests pass, and the fast transforms are equal to the slow ones, at least within given precision.\n",
    "\n",
    "Let's try some timings"
   ]
  },
  {
   "cell_type": "code",
   "execution_count": 8,
   "id": "2bb5960f",
   "metadata": {
    "collapsed": false,
    "execution": {
     "iopub.execute_input": "2021-09-20T12:42:19.835589Z",
     "iopub.status.busy": "2021-09-20T12:42:19.717799Z",
     "iopub.status.idle": "2021-09-20T12:42:23.415370Z",
     "shell.execute_reply": "2021-09-20T12:42:23.415837Z"
    }
   },
   "outputs": [
    {
     "name": "stdout",
     "output_type": "stream",
     "text": [
      "45.5 µs ± 547 ns per loop (mean ± std. dev. of 7 runs, 10000 loops each)\n"
     ]
    }
   ],
   "source": [
    "%timeit project(fb, D1)"
   ]
  },
  {
   "cell_type": "code",
   "execution_count": 9,
   "id": "892e4c15",
   "metadata": {
    "collapsed": false,
    "execution": {
     "iopub.execute_input": "2021-09-20T12:42:23.484452Z",
     "iopub.status.busy": "2021-09-20T12:42:23.419598Z",
     "iopub.status.idle": "2021-09-20T12:42:33.602265Z",
     "shell.execute_reply": "2021-09-20T12:42:33.602554Z"
    }
   },
   "outputs": [
    {
     "name": "stdout",
     "output_type": "stream",
     "text": [
      "12.5 µs ± 149 ns per loop (mean ± std. dev. of 7 runs, 100000 loops each)\n"
     ]
    }
   ],
   "source": [
    "%timeit dst(fb/np.sin(theta))/(2*N)"
   ]
  },
  {
   "cell_type": "markdown",
   "id": "1b5fd1b6",
   "metadata": {},
   "source": [
    "We can precompute the sine term, because it does not change"
   ]
  },
  {
   "cell_type": "code",
   "execution_count": 10,
   "id": "34724636",
   "metadata": {
    "collapsed": false,
    "execution": {
     "iopub.execute_input": "2021-09-20T12:42:33.606370Z",
     "iopub.status.busy": "2021-09-20T12:42:33.605905Z",
     "iopub.status.idle": "2021-09-20T12:42:42.448949Z",
     "shell.execute_reply": "2021-09-20T12:42:42.449270Z"
    }
   },
   "outputs": [
    {
     "name": "stdout",
     "output_type": "stream",
     "text": [
      "10.9 µs ± 66.4 ns per loop (mean ± std. dev. of 7 runs, 100000 loops each)\n"
     ]
    }
   ],
   "source": [
    "dd = np.sin(theta)*2*N\n",
    "%timeit dst(fb/dd)"
   ]
  },
  {
   "cell_type": "markdown",
   "id": "d80ef0b7",
   "metadata": {},
   "source": [
    "The other two transforms are approximately the same speed."
   ]
  },
  {
   "cell_type": "code",
   "execution_count": 11,
   "id": "aec70f83",
   "metadata": {
    "collapsed": false,
    "execution": {
     "iopub.execute_input": "2021-09-20T12:42:42.453161Z",
     "iopub.status.busy": "2021-09-20T12:42:42.452706Z",
     "iopub.status.idle": "2021-09-20T12:42:53.252607Z",
     "shell.execute_reply": "2021-09-20T12:42:53.252928Z"
    }
   },
   "outputs": [
    {
     "name": "stdout",
     "output_type": "stream",
     "text": [
      "13.3 µs ± 44.4 ns per loop (mean ± std. dev. of 7 runs, 100000 loops each)\n"
     ]
    }
   ],
   "source": [
    "%timeit dct(fb/np.sin(theta)**2)/(ck*N)"
   ]
  },
  {
   "cell_type": "markdown",
   "id": "7d79f954",
   "metadata": {},
   "source": [
    "<!-- ======= Bibliography ======= -->"
   ]
  }
 ],
 "metadata": {
  "language_info": {
   "codemirror_mode": {
    "name": "ipython",
    "version": 3
   },
   "file_extension": ".py",
   "mimetype": "text/x-python",
   "name": "python",
   "nbconvert_exporter": "python",
   "pygments_lexer": "ipython3",
   "version": "3.8.12"
  }
 },
 "nbformat": 4,
 "nbformat_minor": 5
}
