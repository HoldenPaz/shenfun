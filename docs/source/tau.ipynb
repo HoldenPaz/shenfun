{
 "cells": [
  {
   "cell_type": "markdown",
   "metadata": {},
   "source": [
    "<!-- dom:TITLE: Demo - The Tau method -->\n",
    "# Demo - The Tau method\n",
    "<!-- dom:AUTHOR: Mikael Mortensen Email:mikaem@math.uio.no at Department of Mathematics, University of Oslo. -->\n",
    "<!-- Author: -->  \n",
    "**Mikael Mortensen** (email: `mikaem@math.uio.no`), Department of Mathematics, University of Oslo.\n",
    "\n",
    "Date: **Jun 15, 2021**\n",
    "\n",
    "Copyright 2021, Mikael Mortensen. Released under CC Attribution 4.0 license\n",
    "\n",
    "**Summary.** Shenfun has primarily been developed for the spectral Galerkin method.\n",
    "However, there are other methods out there that make use of global basis\n",
    "functions and variational principles. One such method, which has a lot in\n",
    "common with the spectral Galerkin method, is the Tau method. The\n",
    "principle difference between a Tau method and a spectral Galerkin method\n",
    "is in the choice of basis functions. The spectral Galerkin method is\n",
    "usually defined through function spaces where the boundary conditions\n",
    "of the problem are already built in. The tau-method, on the other hand,\n",
    "does not come with such restrictions. The tau-method usually considers\n",
    "only the orthogonal basis, like pure Chebyshev or Legendre polynomials,\n",
    "and derives differentiation matrices for these bases. The boundary conditions\n",
    "are usually fixed by enforcing a couple of rows of the differentiation\n",
    "matrix. In this demo we will show how the original tau-method can\n",
    "be easily implemented using [shenfun](https://github.com/spectralDNS/shenfun).\n",
    "\n",
    "\n",
    "\n",
    "\n",
    "\n",
    "\n",
    "\n",
    "\n",
    "\n",
    "\n",
    "\n",
    "\n",
    "\n",
    "## The tau method for Poisson's equation in 1D\n",
    "\n",
    "Poisson's equation is given on a domain $[-1, 1]$ as"
   ]
  },
  {
   "cell_type": "markdown",
   "metadata": {},
   "source": [
    "<!-- Equation labels as ordinary links -->\n",
    "<div id=\"eq:poisson\"></div>\n",
    "\n",
    "$$\n",
    "\\begin{equation}\n",
    "\\nabla^2 u(x) = f(x) \\quad \\text{for }\\, x \\in [-1, 1], \\label{eq:poisson} \\tag{1}\n",
    "\\end{equation}\n",
    "$$"
   ]
  },
  {
   "cell_type": "markdown",
   "metadata": {},
   "source": [
    "<!-- Equation labels as ordinary links -->\n",
    "<div id=\"_auto1\"></div>\n",
    "\n",
    "$$\n",
    "\\begin{equation}  \n",
    "u(-1)=a, u(1)=b, \\notag\n",
    "\\label{_auto1} \\tag{2}\n",
    "\\end{equation}\n",
    "$$"
   ]
  },
  {
   "cell_type": "markdown",
   "metadata": {},
   "source": [
    "where $u(x)$ is the solution, $f(x)$ is a function and $a, b$ are two possibly\n",
    "non-zero constants.\n",
    "\n",
    "To solve Eq. ([1](#eq:poisson)) with the tau method we choose either\n",
    "Legendre of Chebyshev basis functions $\\phi_k$, and then look for\n",
    "solutions"
   ]
  },
  {
   "cell_type": "markdown",
   "metadata": {},
   "source": [
    "<!-- Equation labels as ordinary links -->\n",
    "<div id=\"eq:u\"></div>\n",
    "\n",
    "$$\n",
    "\\begin{equation}\n",
    "u(x) = \\sum_{k=0}^{N-1} \\hat{u}_k \\phi_k(x), \\label{eq:u} \\tag{3}\n",
    "\\end{equation}\n",
    "$$"
   ]
  },
  {
   "cell_type": "markdown",
   "metadata": {},
   "source": [
    "where $N$ is the size of the discretized problem and\n",
    "$\\hat{\\mathbf{u}} = \\{\\hat{u}_k\\}_{k=0}^{N-1}$ are the unknown expansion\n",
    "coefficients. For this function to satisfy the given boundary conditions, it is necessary\n",
    "that"
   ]
  },
  {
   "cell_type": "markdown",
   "metadata": {},
   "source": [
    "<!-- Equation labels as ordinary links -->\n",
    "<div id=\"eq:dirichleta\"></div>\n",
    "\n",
    "$$\n",
    "\\begin{equation}\n",
    "u(-1) = \\sum_{k=0}^{N-1} \\hat{u}_k \\phi_k(-1) = \\sum_{k=0}^{N-1}\\hat{u}_{k}(-1)^k = a,\n",
    "\\label{eq:dirichleta} \\tag{4} \n",
    "\\end{equation}\n",
    "$$"
   ]
  },
  {
   "cell_type": "markdown",
   "metadata": {},
   "source": [
    "<!-- Equation labels as ordinary links -->\n",
    "<div id=\"eq:dirichletb\"></div>\n",
    "\n",
    "$$\n",
    "\\begin{equation}  \n",
    "u(+1) = \\sum_{k=0}^{N-1} \\hat{u}_k \\phi_k(+1) = \\sum_{k=0}^{N-1} \\hat{u}_{k} = b,\n",
    "\\label{eq:dirichletb} \\tag{5}\n",
    "\\end{equation}\n",
    "$$"
   ]
  },
  {
   "cell_type": "markdown",
   "metadata": {},
   "source": [
    "where we have use that $\\phi_k(1) = 1$ and $\\phi_k(-1)=(-1)^k$ for $k=0,1, \\ldots, N-1$,\n",
    "for either Chebyshev or Legendre polynomials $\\phi_k$.\n",
    "\n",
    "This gives two equations for the $N-1$ unknowns in  $\\{\\hat{u}_k\\}_{k=0}^{N-1}$.\n",
    "We will now use variational principles, like in the Galerkin method, in order to\n",
    "derive equations that can be used to close the remaining $N-3$ unknowns.\n",
    "To this end we multiply Poisson's equation by a\n",
    "test function $v$, a weight $w$, and integrate  over the domain"
   ]
  },
  {
   "cell_type": "markdown",
   "metadata": {},
   "source": [
    "<!-- Equation labels as ordinary links -->\n",
    "<div id=\"eq:varform\"></div>\n",
    "\n",
    "$$\n",
    "\\begin{equation}\n",
    "\\int_{-1}^1 \\nabla^2 u \\, v \\, w\\, dx = \\int_{-1}^1 f \\, v\\, w\\, dx. \\label{eq:varform} \\tag{6}\n",
    "\\end{equation}\n",
    "$$"
   ]
  },
  {
   "cell_type": "markdown",
   "metadata": {},
   "source": [
    "The weight function depends on the choice of basis functions. For Chebyshev\n",
    "it will be $1/\\sqrt{1-x^2}$, whereas it is unity for Legendre.\n",
    "\n",
    "Finally, we insert the trial function $u=\\sum_{j=0}^{N-1}\\hat{u}_j \\phi_j$ and\n",
    "the test function $v=\\phi_k$, to get"
   ]
  },
  {
   "cell_type": "markdown",
   "metadata": {},
   "source": [
    "<!-- Equation labels as ordinary links -->\n",
    "<div id=\"eq:varform2\"></div>\n",
    "\n",
    "$$\n",
    "\\begin{equation}\n",
    "\\int_{-1}^1 \\sum_{j=0}^{N-1} \\nabla^2 \\phi_j  \\, \\phi_k \\, w\\, dx \\hat{u}_j = \\int_{-1}^1 f \\, \\phi_k\\, w\\, dx. \\label{eq:varform2} \\tag{7}\n",
    "\\end{equation}\n",
    "$$"
   ]
  },
  {
   "cell_type": "markdown",
   "metadata": {},
   "source": [
    "This problem can be reformulated as a linear algebra problem,"
   ]
  },
  {
   "cell_type": "markdown",
   "metadata": {},
   "source": [
    "<!-- Equation labels as ordinary links -->\n",
    "<div id=\"_auto2\"></div>\n",
    "\n",
    "$$\n",
    "\\begin{equation}\n",
    "a_{kj} \\hat{u}_j = \\tilde{f}_k, \n",
    "\\label{_auto2} \\tag{8}\n",
    "\\end{equation}\n",
    "$$"
   ]
  },
  {
   "cell_type": "markdown",
   "metadata": {},
   "source": [
    "<!-- Equation labels as ordinary links -->\n",
    "<div id=\"_auto3\"></div>\n",
    "\n",
    "$$\n",
    "\\begin{equation}  \n",
    "A \\hat{\\mathbf{{u}}} = \\tilde{\\mathbf{{f}}}.\n",
    "\\label{_auto3} \\tag{9}\n",
    "\\end{equation}\n",
    "$$"
   ]
  },
  {
   "cell_type": "markdown",
   "metadata": {},
   "source": [
    "However, the matrix $A\\in \\mathbb{R}^{N \\times N}$ is singular because it\n",
    "contains two zero rows. These two rows is where we implement the two boundary\n",
    "conditions. By setting the rows as $a_{N-2, j}=1$ and\n",
    "$a_{N-1, j}= (-1)^j$ for $j=0, 1, \\ldots, N-1$, and fixing\n",
    "the right hand side $\\tilde{f}_{N-2}=a$ and $\\tilde{f}_{N-1}=b$, the\n",
    "two boundary conditions will be satisfied.\n",
    "\n",
    "## Implementation\n",
    "\n",
    "### Preamble\n",
    "\n",
    "We will solve Poisson's equation using the [shenfun](https://github.com/spectralDNS/shenfun) Python module. The first thing needed\n",
    "is then to import some of this module's functionality\n",
    "plus some other helper modules, like [Numpy](https://numpy.org) and [Sympy](https://sympy.org):"
   ]
  },
  {
   "cell_type": "code",
   "execution_count": 1,
   "metadata": {
    "collapsed": false,
    "execution": {
     "iopub.execute_input": "2021-06-15T16:59:08.734552Z",
     "iopub.status.busy": "2021-06-15T16:59:08.733960Z",
     "iopub.status.idle": "2021-06-15T16:59:09.760058Z",
     "shell.execute_reply": "2021-06-15T16:59:09.760516Z"
    }
   },
   "outputs": [],
   "source": [
    "from shenfun import inner, div, grad, TestFunction, TrialFunction, Function, \\\n",
    "    project, Dx, Array, FunctionSpace, dx\n",
    "import numpy as np\n",
    "import scipy.sparse as scp\n",
    "from sympy import symbols, cos, sin, exp, lambdify"
   ]
  },
  {
   "cell_type": "markdown",
   "metadata": {},
   "source": [
    "We use `Sympy` for a manufactured solution and `Numpy` for testing.\n",
    "The exact manufactured solution $u_e(x)$ and the right hand side\n",
    "$f_e(x)$ are created using `Sympy` as follows"
   ]
  },
  {
   "cell_type": "code",
   "execution_count": 2,
   "metadata": {
    "collapsed": false,
    "execution": {
     "iopub.execute_input": "2021-06-15T16:59:09.770386Z",
     "iopub.status.busy": "2021-06-15T16:59:09.769912Z",
     "iopub.status.idle": "2021-06-15T16:59:09.772252Z",
     "shell.execute_reply": "2021-06-15T16:59:09.771769Z"
    }
   },
   "outputs": [],
   "source": [
    "x = symbols(\"x\")\n",
    "ue = sin(4*np.pi*x)\n",
    "fe = ue.diff(x, 2)"
   ]
  },
  {
   "cell_type": "markdown",
   "metadata": {},
   "source": [
    "Note that we compute the right hand side function `fe` that corresponds to\n",
    "the manufactured solution `ue`.\n",
    "\n",
    "### Discretization\n",
    "\n",
    "We create a basis with a given number of basis functions, and extract the computational\n",
    "mesh from the basis itself"
   ]
  },
  {
   "cell_type": "code",
   "execution_count": 3,
   "metadata": {
    "collapsed": false,
    "execution": {
     "iopub.execute_input": "2021-06-15T16:59:09.781921Z",
     "iopub.status.busy": "2021-06-15T16:59:09.781485Z",
     "iopub.status.idle": "2021-06-15T16:59:09.783402Z",
     "shell.execute_reply": "2021-06-15T16:59:09.783862Z"
    }
   },
   "outputs": [],
   "source": [
    "N = 32\n",
    "T = FunctionSpace(N, 'Chebyshev')\n",
    "#T = FunctionSpace(N, 'Legendre')"
   ]
  },
  {
   "cell_type": "markdown",
   "metadata": {},
   "source": [
    "Note that we can either choose a Legendre or a Chebyshev basis.\n",
    "\n",
    "### Variational formulation\n",
    "\n",
    "The variational problem ([6](#eq:varform)) can be assembled using `shenfun`'s\n",
    "[TrialFunction](https://shenfun.readthedocs.io/en/latest/shenfun.forms.html#shenfun.forms.arguments.TrialFunction), [TestFunction](https://shenfun.readthedocs.io/en/latest/shenfun.forms.html#shenfun.forms.arguments.TestFunction) and [inner()](https://shenfun.readthedocs.io/en/latest/shenfun.forms.html#shenfun.forms.inner.inner) functions."
   ]
  },
  {
   "cell_type": "code",
   "execution_count": 4,
   "metadata": {
    "collapsed": false,
    "execution": {
     "iopub.execute_input": "2021-06-15T16:59:09.789389Z",
     "iopub.status.busy": "2021-06-15T16:59:09.788851Z",
     "iopub.status.idle": "2021-06-15T16:59:09.790556Z",
     "shell.execute_reply": "2021-06-15T16:59:09.790971Z"
    }
   },
   "outputs": [],
   "source": [
    "u = TrialFunction(T)\n",
    "v = TestFunction(T)\n",
    "# Assemble differentiation matrix\n",
    "A = inner(v, div(grad(u)))\n",
    "# Assemble right hand side\n",
    "fj = Array(T, buffer=fe)\n",
    "f_hat = Function(T)\n",
    "f_hat = inner(v, fj, output_array=f_hat)"
   ]
  },
  {
   "cell_type": "markdown",
   "metadata": {},
   "source": [
    "Note that the `sympy` function `fe` can be used to initialize the [Array](https://shenfun.readthedocs.io/en/latest/shenfun.forms.html#shenfun.forms.arguments.Array)\n",
    "`fj`. We wrap this Numpy array in an [Array](https://shenfun.readthedocs.io/en/latest/shenfun.forms.html#shenfun.forms.arguments.Array) class\n",
    "(`fj = Array(SD, buffer=fe)`), because an Array\n",
    "is required as input to the [inner()](https://shenfun.readthedocs.io/en/latest/shenfun.forms.html#shenfun.forms.inner.inner) function. An\n",
    "[Array](https://shenfun.readthedocs.io/en/latest/shenfun.forms.html#shenfun.forms.arguments.Array) contains the solution evaluated on the\n",
    "quadrature mesh. A [Function](https://shenfun.readthedocs.io/en/latest/shenfun.forms.html#shenfun.forms.arguments.Function) represents a global\n",
    "expansion, like Eq. ([3](#eq:u)), and its values are the\n",
    "expansion coefficients $\\{\\hat{u}_{k}\\}_{k=0}^{N-1}$.\n",
    "\n",
    "### Fix boundary conditions\n",
    "\n",
    "We fix two rows of the differentiation matrix in order to satisfy\n",
    "Eqs. ([4](#eq:dirichleta)) and ([5](#eq:dirichletb))."
   ]
  },
  {
   "cell_type": "code",
   "execution_count": 5,
   "metadata": {
    "collapsed": false,
    "execution": {
     "iopub.execute_input": "2021-06-15T16:59:09.794616Z",
     "iopub.status.busy": "2021-06-15T16:59:09.793850Z",
     "iopub.status.idle": "2021-06-15T16:59:09.798221Z",
     "shell.execute_reply": "2021-06-15T16:59:09.798697Z"
    }
   },
   "outputs": [],
   "source": [
    "A = A.diags('lil')\n",
    "A[-2] = (-1)**np.arange(N)\n",
    "A[-1] = np.ones(N)\n",
    "A = A.tocsc()\n",
    "f_hat[-2] = ue.subs(x, T.domain[0])\n",
    "f_hat[-1] = ue.subs(x, T.domain[1])"
   ]
  },
  {
   "cell_type": "markdown",
   "metadata": {},
   "source": [
    "Note that the last two lines uses evaluation of the sympy function\n",
    "`ue` at the borders of the domain. Implemented like this it is\n",
    "easy to change to a nonstandard domain size.\n",
    "\n",
    "### Solve linear equations\n",
    "\n",
    "Finally, solve linear equation system and transform solution from spectral\n",
    "$\\{\\hat{u}_k\\}_{k=0}^{N-1}$ vector to the real space $\\{u(x_j)\\}_{j=0}^{N-1}$\n",
    "and then check how the solution corresponds with the exact solution $u_e$.\n",
    "To this end we compute the $L_2$-errornorm using the `shenfun` function\n",
    "[dx()](https://shenfun.readthedocs.io/en/latest/shenfun.utilities.html#shenfun.utilities.dx)"
   ]
  },
  {
   "cell_type": "code",
   "execution_count": 6,
   "metadata": {
    "collapsed": false,
    "execution": {
     "iopub.execute_input": "2021-06-15T16:59:09.809053Z",
     "iopub.status.busy": "2021-06-15T16:59:09.808463Z",
     "iopub.status.idle": "2021-06-15T16:59:09.810500Z",
     "shell.execute_reply": "2021-06-15T16:59:09.810915Z"
    }
   },
   "outputs": [
    {
     "name": "stdout",
     "output_type": "stream",
     "text": [
      "Error=6.1627548407139349e-11\n"
     ]
    }
   ],
   "source": [
    "u_hat = Function(T)\n",
    "u_hat[:] = scp.linalg.spsolve(A, f_hat)\n",
    "uj = u_hat.backward()\n",
    "ua = Array(T, buffer=ue)\n",
    "\n",
    "print(\"Error=%2.16e\" %(np.sqrt(dx((uj-ua)**2))))"
   ]
  },
  {
   "cell_type": "markdown",
   "metadata": {},
   "source": [
    "### Convergence test\n",
    "\n",
    "To do a convergence test we will now create a function `main`, that takes the\n",
    "number of quadrature points as parameter, and prints out\n",
    "the error."
   ]
  },
  {
   "cell_type": "code",
   "execution_count": 7,
   "metadata": {
    "collapsed": false,
    "execution": {
     "iopub.execute_input": "2021-06-15T16:59:09.815772Z",
     "iopub.status.busy": "2021-06-15T16:59:09.815354Z",
     "iopub.status.idle": "2021-06-15T16:59:09.817314Z",
     "shell.execute_reply": "2021-06-15T16:59:09.816894Z"
    }
   },
   "outputs": [],
   "source": [
    "def main(N, family='Chebyshev'):\n",
    "    T = FunctionSpace(N, family=family)\n",
    "    u = TrialFunction(T)\n",
    "    v = TestFunction(T)\n",
    "\n",
    "    # Get f on quad points\n",
    "    fj = Array(T, buffer=fe)\n",
    "\n",
    "    # Compute right hand side of Poisson's equation\n",
    "    f_hat = Function(T)\n",
    "    f_hat = inner(v, fj, output_array=f_hat)\n",
    "\n",
    "    # Get left hand side of Poisson's equation\n",
    "    A = inner(v, div(grad(u)))\n",
    "    A = A.diags('lil')\n",
    "    A[-2] = (-1)**np.arange(N)\n",
    "    A[-1] = np.ones(N)\n",
    "    A = A.tocsc()\n",
    "    f_hat[-2] = ue.subs(x, T.domain[0])\n",
    "    f_hat[-1] = ue.subs(x, T.domain[1])\n",
    "\n",
    "    u_hat = Function(T)\n",
    "    u_hat[:] = scp.linalg.spsolve(A, f_hat)\n",
    "    uj = u_hat.backward()\n",
    "\n",
    "    # Compare with analytical solution\n",
    "    ua = Array(T, buffer=ue)\n",
    "    l2_error = np.linalg.norm(uj-ua)\n",
    "    return l2_error"
   ]
  },
  {
   "cell_type": "markdown",
   "metadata": {},
   "source": [
    "For example, we find the error of a Chebyshev discretization\n",
    "using 12 quadrature points as"
   ]
  },
  {
   "cell_type": "code",
   "execution_count": 8,
   "metadata": {
    "collapsed": false,
    "execution": {
     "iopub.execute_input": "2021-06-15T16:59:09.827253Z",
     "iopub.status.busy": "2021-06-15T16:59:09.826756Z",
     "iopub.status.idle": "2021-06-15T16:59:09.828670Z",
     "shell.execute_reply": "2021-06-15T16:59:09.829087Z"
    }
   },
   "outputs": [
    {
     "data": {
      "text/plain": [
       "1.9741838920185595"
      ]
     },
     "execution_count": 1,
     "metadata": {},
     "output_type": "execute_result"
    }
   ],
   "source": [
    "main(12, 'Chebyshev')"
   ]
  },
  {
   "cell_type": "markdown",
   "metadata": {},
   "source": [
    "To get the convergence we call `main` for a list\n",
    "of $N=[12, 16, \\ldots, 48]$, and collect the errornorms in\n",
    "arrays to be plotted. The error can be plotted using\n",
    "[matplotlib](https://matplotlib.org)."
   ]
  },
  {
   "cell_type": "code",
   "execution_count": 9,
   "metadata": {
    "collapsed": false,
    "execution": {
     "iopub.execute_input": "2021-06-15T16:59:09.834767Z",
     "iopub.status.busy": "2021-06-15T16:59:09.834343Z",
     "iopub.status.idle": "2021-06-15T16:59:10.584457Z",
     "shell.execute_reply": "2021-06-15T16:59:10.584893Z"
    }
   },
   "outputs": [
    {
     "data": {
      "image/png": "[encoded data removed]",
      "text/plain": [
       "<Figure size 432x288 with 1 Axes>"
      ]
     },
     "metadata": {
      "needs_background": "light"
     },
     "output_type": "display_data"
    }
   ],
   "source": [
    "%matplotlib inline\n",
    "\n",
    "import matplotlib.pyplot as plt\n",
    "\n",
    "N = range(12, 50, 4)\n",
    "error = {}\n",
    "for basis in ('legendre', 'chebyshev'):\n",
    "    error[basis] = []\n",
    "    for i in range(len(N)):\n",
    "        errN = main(N[i], basis)\n",
    "        error[basis].append(errN)\n",
    "\n",
    "plt.figure(figsize=(6, 4))\n",
    "for basis, col in zip(('legendre', 'chebyshev'), ('r', 'b')):\n",
    "    plt.semilogy(N, error[basis], col, linewidth=2)\n",
    "plt.title('Convergence of Tau Poisson solvers 1D')\n",
    "plt.xlabel('N')\n",
    "plt.ylabel('Error norm')\n",
    "plt.legend(('Legendre', 'Chebyshev'))\n",
    "plt.show()"
   ]
  },
  {
   "cell_type": "markdown",
   "metadata": {},
   "source": [
    "The spectral convergence is evident and we can see that\n",
    "after $N=40$ roundoff errors dominate as the errornorm trails off around $10^{-14}$.\n",
    "\n",
    "## Complete solver\n",
    "<div id=\"sec:complete\"></div>\n",
    "\n",
    "A complete solver, that can use either Legendre or Chebyshev bases, chosen as a\n",
    "command-line argument, can also be found [here](https://github.com/spectralDNS/shenfun/blob/master/demo/poisson1D_tau.py).\n",
    "\n",
    "<!-- ======= Bibliography ======= -->"
   ]
  }
 ],
 "metadata": {
  "language_info": {
   "codemirror_mode": {
    "name": "ipython",
    "version": 3
   },
   "file_extension": ".py",
   "mimetype": "text/x-python",
   "name": "python",
   "nbconvert_exporter": "python",
   "pygments_lexer": "ipython3",
   "version": "3.8.6"
  }
 },
 "nbformat": 4,
 "nbformat_minor": 4
}
